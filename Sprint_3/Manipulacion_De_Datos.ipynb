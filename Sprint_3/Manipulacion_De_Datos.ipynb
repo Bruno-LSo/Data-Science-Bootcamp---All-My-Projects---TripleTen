{
 "cells": [
  {
   "cell_type": "markdown",
   "id": "mhIvmmkW414q",
   "metadata": {
    "id": "mhIvmmkW414q"
   },
   "source": [
    "# Análisis de Datos de Instacart\n",
    "\n",
    "## Introducción\n",
    "\n",
    "Este proyecto tiene como objetivo analizar datos de Instacart, una plataforma de entrega de supermercados, para extraer información sobre los comportamientos de compra de los clientes y los patrones de pedidos. El conjunto de datos contiene información sobre pedidos, productos, departamentos e historial de compras de los clientes.\n",
    "\n",
    "### Objetivos\n",
    "- Analizar patrones temporales de pedidos\n",
    "- Identificar productos más populares y tasas de recompra\n",
    "- Entender comportamientos de compra de los clientes\n",
    "- Generar información procesable para el negocio\n",
    "\n",
    "### Estructura del Proyecto\n",
    "1. Preparación y Limpieza de Datos\n",
    "2. Análisis Exploratorio\n",
    "3. Análisis de Patrones de Compra\n",
    "4. Conclusiones y Recomendaciones"
   ]
  },
  {
   "cell_type": "markdown",
   "id": "3MbyzpOQZ5Or",
   "metadata": {
    "id": "3MbyzpOQZ5Or"
   },
   "source": [
    "## Diccionario de datos\n",
    "\n",
    "Cinco tablas principales componen el conjunto de datos\n",
    "\n",
    "\n",
    "- `instacart_orders.csv`: cada fila corresponde a un pedido en la aplicación de Instacart\n",
    "    - `'order_id'`: es el número de identificación único de cada pedido\n",
    "    - `'user_id'`: es el número de identificación único de la cuenta de cada cliente\n",
    "    - `'order_number'`: es el número de veces que el cliente ha realizado un pedido\n",
    "    - `'order_dow'`: es el día de la semana en que se realizó el pedido (0 es domingo)\n",
    "    - `'order_hour_of_day'`: es la hora del día en que se realizó el pedido\n",
    "    - `'days_since_prior_order'`: es el número de días desde que el cliente realizó su pedido anterior\n",
    "\n",
    "- `products.csv`: cada fila corresponde a un producto único que los clientes pueden comprar\n",
    "    - `'product_id'`: es el número de identificación único de cada producto\n",
    "    - `'product_name'`: es el nombre del producto\n",
    "    - `'aisle_id'`: es el número de identificación único de cada categoría de sección del supermercado\n",
    "    - `'department_id'`: es el número de identificación único de cada categoría de departamento del supermercado\n",
    "\n",
    "- `order_products.csv`: cada fila corresponde a un artículo incluido en un pedido\n",
    "    - `'order_id'`: es el número de identificación único de cada pedido\n",
    "    - `'product_id'`: es el número de identificación único de cada producto\n",
    "    - `'add_to_cart_order'`: es la orden secuencial en la que cada artículo fue agregado al carrito\n",
    "    - `'reordered'`: 0 si el cliente nunca compró el producto antes, 1 si ya lo ha comprado\n",
    "\n",
    "- `aisles.csv`\\n\",\n",
    "    - `'aisle_id'`: es el número de identificación único de cada categoría de sección del supermercado\n",
    "    - `'aisle'`: es el nombre de la sección\n",
    "\n",
    "- `departments.csv`\n",
    "    - `'department_id'`: es el número de identificación único de cada categoría de departamento del supermercado\n",
    "    - `'department'`: es el nombre del departamento"
   ]
  },
  {
   "cell_type": "markdown",
   "id": "n3Ha_cNSZ8lK",
   "metadata": {
    "id": "n3Ha_cNSZ8lK"
   },
   "source": [
    "# Etapa 1: Visión General de los Datos\n",
    "\n",
    "## Plan de Análisis\n",
    "1. Importar los datos utilizando pandas\n",
    "2. Examinar la estructura básica de cada DataFrame\n",
    "3. Verificar tipos de datos y valores ausentes\n",
    "4. Identificar posibles problemas en los datos\n",
    "\n",
    "## Carga de los Datos"
   ]
  },
  {
   "cell_type": "code",
   "execution_count": 1,
   "id": "fbf1adab",
   "metadata": {
    "id": "fbf1adab"
   },
   "outputs": [],
   "source": [
    "# Importar las bibliotecas - Para manipular los datos y crear gráficos\n",
    "import pandas as pd\n",
    "from matplotlib import pyplot as plt\n",
    "import numpy as np"
   ]
  },
  {
   "cell_type": "code",
   "execution_count": 2,
   "id": "ad36396d",
   "metadata": {
    "id": "ad36396d"
   },
   "outputs": [],
   "source": [
    "# Cargar los conjuntos de datos en DataFrames - Son 5 DataFrames\n",
    "df_orders = pd.read_csv(\"datasets/instacart_orders.csv\", sep=';')\n",
    "df_products = pd.read_csv(\"datasets/products.csv\", sep=';')\n",
    "df_order_products = pd.read_csv(\"datasets/order_products.csv\", sep=';')\n",
    "df_aisles = pd.read_csv(\"datasets/aisles.csv\", sep=';')\n",
    "df_departments = pd.read_csv(\"datasets/departments.csv\", sep=';')"
   ]
  },
  {
   "cell_type": "code",
   "execution_count": 3,
   "id": "ad6a1efa",
   "metadata": {
    "id": "ad6a1efa"
   },
   "outputs": [
    {
     "name": "stdout",
     "output_type": "stream",
     "text": [
      "\n",
      "-----------------------\n",
      "Estructura del DataFrame de Pedidos\n",
      "\n",
      "<class 'pandas.core.frame.DataFrame'>\n",
      "RangeIndex: 478967 entries, 0 to 478966\n",
      "Data columns (total 6 columns):\n",
      " #   Column                  Non-Null Count   Dtype  \n",
      "---  ------                  --------------   -----  \n",
      " 0   order_id                478967 non-null  int64  \n",
      " 1   user_id                 478967 non-null  int64  \n",
      " 2   order_number            478967 non-null  int64  \n",
      " 3   order_dow               478967 non-null  int64  \n",
      " 4   order_hour_of_day       478967 non-null  int64  \n",
      " 5   days_since_prior_order  450148 non-null  float64\n",
      "dtypes: float64(1), int64(5)\n",
      "memory usage: 21.9 MB\n",
      "\n",
      "-----------------------\n",
      "Primeros registros:\n",
      "\n",
      "   order_id  user_id  order_number  order_dow  order_hour_of_day  \\\n",
      "0   1515936   183418            11          6                 13   \n",
      "1   1690866   163593             5          5                 12   \n",
      "2   1454967    39980             4          5                 19   \n",
      "3   1768857    82516            56          0                 20   \n",
      "4   3007858   196724             2          4                 12   \n",
      "\n",
      "   days_since_prior_order  \n",
      "0                    30.0  \n",
      "1                     9.0  \n",
      "2                     2.0  \n",
      "3                    10.0  \n",
      "4                    17.0  \n"
     ]
    }
   ],
   "source": [
    "# Examinando la estructura del DataFrame orders\n",
    "print(\"\\n-----------------------\\nEstructura del DataFrame de Pedidos\\n\")\n",
    "df_orders.info()\n",
    "print(\"\\n-----------------------\\nPrimeros registros:\\n\")\n",
    "print(df_orders.head())"
   ]
  },
  {
   "cell_type": "markdown",
   "id": "1255d1f0-1a90-4a97-8d83-e837a5c276ec",
   "metadata": {},
   "source": [
    "### Análisis del DataFrame Orders\n",
    "- Total de 478,967 registros\n",
    "- 6 columnas, 5 de tipo entero y 1 de tipo float\n",
    "- Valores ausentes solo en la columna 'days_since_prior_order' (28,819 registros)\n",
    "- Cada registro representa un pedido único con información temporal y del cliente"
   ]
  },
  {
   "cell_type": "code",
   "execution_count": 4,
   "id": "5130e05e",
   "metadata": {
    "id": "5130e05e"
   },
   "outputs": [
    {
     "name": "stdout",
     "output_type": "stream",
     "text": [
      "\n",
      "-----------------------\n",
      "Estructura del DataFrame de Productos\n",
      "\n",
      "<class 'pandas.core.frame.DataFrame'>\n",
      "RangeIndex: 49694 entries, 0 to 49693\n",
      "Data columns (total 4 columns):\n",
      " #   Column         Non-Null Count  Dtype \n",
      "---  ------         --------------  ----- \n",
      " 0   product_id     49694 non-null  int64 \n",
      " 1   product_name   48436 non-null  object\n",
      " 2   aisle_id       49694 non-null  int64 \n",
      " 3   department_id  49694 non-null  int64 \n",
      "dtypes: int64(3), object(1)\n",
      "memory usage: 1.5+ MB\n",
      "\n",
      "-----------------------\n",
      "Primeros registros:\n",
      "\n",
      "   product_id                                       product_name  aisle_id  \\\n",
      "0           1                         Chocolate Sandwich Cookies        61   \n",
      "1           2                                   All-Seasons Salt       104   \n",
      "2           3               Robust Golden Unsweetened Oolong Tea        94   \n",
      "3           4  Smart Ones Classic Favorites Mini Rigatoni Wit...        38   \n",
      "4           5                          Green Chile Anytime Sauce         5   \n",
      "\n",
      "   department_id  \n",
      "0             19  \n",
      "1             13  \n",
      "2              7  \n",
      "3              1  \n",
      "4             13  \n"
     ]
    }
   ],
   "source": [
    "# Examinando la estructura del DataFrame products\n",
    "print(\"\\n-----------------------\\nEstructura del DataFrame de Productos\\n\")\n",
    "df_products.info()\n",
    "print(\"\\n-----------------------\\nPrimeros registros:\\n\")\n",
    "print(df_products.head())"
   ]
  },
  {
   "cell_type": "markdown",
   "id": "f099d9e3-daa7-4085-86f7-0a2d0ca1ba6c",
   "metadata": {},
   "source": [
    "### Análisis del DataFrame Products\n",
    "- 49,694 productos registrados\n",
    "- 4 columnas: product_id, product_name, aisle_id, department_id\n",
    "- 1,258 productos sin nombre registrado\n",
    "- Todos los IDs (producto, sección y departamento) están completos"
   ]
  },
  {
   "cell_type": "code",
   "execution_count": 5,
   "id": "d8370c05",
   "metadata": {
    "id": "d8370c05"
   },
   "outputs": [
    {
     "name": "stdout",
     "output_type": "stream",
     "text": [
      "\n",
      "-----------------------\n",
      "Estructura del DataFrame de Ítems en Pedidos\n",
      "\n",
      "<class 'pandas.core.frame.DataFrame'>\n",
      "RangeIndex: 4545007 entries, 0 to 4545006\n",
      "Data columns (total 4 columns):\n",
      " #   Column             Dtype  \n",
      "---  ------             -----  \n",
      " 0   order_id           int64  \n",
      " 1   product_id         int64  \n",
      " 2   add_to_cart_order  float64\n",
      " 3   reordered          int64  \n",
      "dtypes: float64(1), int64(3)\n",
      "memory usage: 138.7 MB\n",
      "\n",
      "-----------------------\n",
      "Primeros registros:\n",
      "\n",
      "    order_id  product_id  add_to_cart_order  reordered\n",
      "0    2141543       11440               17.0          0\n",
      "1     567889        1560                1.0          1\n",
      "2    2261212       26683                1.0          1\n",
      "3     491251        8670               35.0          1\n",
      "4    2571142        1940                5.0          1\n",
      "5    2456893       21616                4.0          1\n",
      "6     644579       12341                5.0          1\n",
      "7    2231852       44925               10.0          1\n",
      "8    3185766       36259               14.0          1\n",
      "9     420019       23315                4.0          1\n",
      "10    925051        9421                2.0          1\n",
      "11     44064       22963               28.0          0\n",
      "12    522547       40571               10.0          1\n",
      "13   2475670       48520                3.0          0\n",
      "14   1961225       37553                1.0          1\n",
      "15   2397389        4321               16.0          1\n",
      "16    639939       10017                1.0          1\n",
      "17   1721072       24561                8.0          1\n",
      "18     89640       46692                7.0          0\n",
      "19   2500729       21616                5.0          1\n"
     ]
    }
   ],
   "source": [
    "# Examinando la estructura del DataFrame order_products\n",
    "print(\"\\n-----------------------\\nEstructura del DataFrame de Ítems en Pedidos\\n\")\n",
    "df_order_products.info()\n",
    "print(\"\\n-----------------------\\nPrimeros registros:\\n\")\n",
    "print(df_order_products.head(20))"
   ]
  },
  {
   "cell_type": "markdown",
   "id": "e116aec2-7eb2-4f1e-a37b-ec99c4ed57d7",
   "metadata": {},
   "source": [
    "### Análisis del DataFrame Order_Products\n",
    "- 4,545,007 registros de ítems en pedidos\n",
    "- 4 columnas: order_id, product_id, add_to_cart_order, reordered\n",
    "- 836 valores ausentes en la columna add_to_cart_order\n",
    "- Cada fila representa un ítem específico en un pedido"
   ]
  },
  {
   "cell_type": "code",
   "execution_count": 6,
   "id": "59e2090f",
   "metadata": {
    "id": "59e2090f"
   },
   "outputs": [
    {
     "name": "stdout",
     "output_type": "stream",
     "text": [
      "\n",
      "-----------------------\n",
      "Estructura del DataFrame de Secciones\n",
      "\n",
      "<class 'pandas.core.frame.DataFrame'>\n",
      "RangeIndex: 134 entries, 0 to 133\n",
      "Data columns (total 2 columns):\n",
      " #   Column    Non-Null Count  Dtype \n",
      "---  ------    --------------  ----- \n",
      " 0   aisle_id  134 non-null    int64 \n",
      " 1   aisle     134 non-null    object\n",
      "dtypes: int64(1), object(1)\n",
      "memory usage: 2.2+ KB\n",
      "\n",
      "-----------------------\n",
      "Primeros registros:\n",
      "\n",
      "   aisle_id                       aisle\n",
      "0         1       prepared soups salads\n",
      "1         2           specialty cheeses\n",
      "2         3         energy granola bars\n",
      "3         4               instant foods\n",
      "4         5  marinades meat preparation\n"
     ]
    }
   ],
   "source": [
    "# Examinando la estructura del DataFrame aisles\n",
    "print(\"\\n-----------------------\\nEstructura del DataFrame de Secciones\\n\")\n",
    "df_aisles.info()\n",
    "print(\"\\n-----------------------\\nPrimeros registros:\\n\")\n",
    "print(df_aisles.head())"
   ]
  },
  {
   "cell_type": "markdown",
   "id": "ed70bd3a-adb5-4510-b08f-56eed36082ca",
   "metadata": {},
   "source": [
    "### Análisis del DataFrame Aisles\n",
    "- 134 secciones registradas\n",
    "- Datos completos, sin valores ausentes\n",
    "- Estructura simple con ID y nombre de la sección"
   ]
  },
  {
   "cell_type": "code",
   "execution_count": 7,
   "id": "6fc81694",
   "metadata": {
    "id": "6fc81694"
   },
   "outputs": [
    {
     "name": "stdout",
     "output_type": "stream",
     "text": [
      "\n",
      "-----------------------\n",
      "Estructura del DataFrame de Departamentos\n",
      "\n",
      "<class 'pandas.core.frame.DataFrame'>\n",
      "RangeIndex: 21 entries, 0 to 20\n",
      "Data columns (total 2 columns):\n",
      " #   Column         Non-Null Count  Dtype \n",
      "---  ------         --------------  ----- \n",
      " 0   department_id  21 non-null     int64 \n",
      " 1   department     21 non-null     object\n",
      "dtypes: int64(1), object(1)\n",
      "memory usage: 468.0+ bytes\n",
      "\n",
      "-----------------------\n",
      "Primeros registros:\n",
      "\n",
      "   department_id department\n",
      "0              1     frozen\n",
      "1              2      other\n",
      "2              3     bakery\n",
      "3              4    produce\n",
      "4              5    alcohol\n"
     ]
    }
   ],
   "source": [
    "# Examinando la estructura del DataFrame departments\n",
    "print(\"\\n-----------------------\\nEstructura del DataFrame de Departamentos\\n\")\n",
    "df_departments.info()\n",
    "print(\"\\n-----------------------\\nPrimeros registros:\\n\")\n",
    "print(df_departments.head())"
   ]
  },
  {
   "cell_type": "markdown",
   "id": "t75BD19oaR5f",
   "metadata": {
    "id": "t75BD19oaR5f"
   },
   "source": [
    "### Análisis del DataFrame Departments\n",
    "- 21 departamentos registrados\n",
    "- Datos completos, sin valores ausentes\n",
    "- Estructura simple con ID y nombre del departamento"
   ]
  },
  {
   "cell_type": "markdown",
   "id": "e4a6e107-efd1-4409-b923-5445f5be1acb",
   "metadata": {},
   "source": [
    "## Conclusiones del Análisis Inicial\n",
    "1. **Integridad de los Datos**\n",
    "   - Estructura relacional bien definida entre las tablas\n",
    "   - Valores ausentes concentrados en columnas específicas\n",
    "   - Sistema de IDs consistente entre las tablas\n",
    "\n",
    "2. **Puntos de Atención**\n",
    "   - Necesario tratar valores ausentes en 'days_since_prior_order'\n",
    "   - Investigar los productos sin nombre\n",
    "   - Analizar los valores ausentes en 'add_to_cart_order'"
   ]
  },
  {
   "cell_type": "markdown",
   "id": "8RJHqxVmaVsF",
   "metadata": {
    "id": "8RJHqxVmaVsF"
   },
   "source": [
    "# Etapa 2: Preparación de Datos\n",
    "\n",
    "## Plan de Procesamiento\n",
    "1. Verificar y tratar valores duplicados\n",
    "2. Identificar y tratar valores ausentes\n",
    "3. Validar tipos de datos"
   ]
  },
  {
   "cell_type": "markdown",
   "id": "f179f0a9",
   "metadata": {
    "id": "f179f0a9"
   },
   "source": [
    "### DataFrame `orders`"
   ]
  },
  {
   "cell_type": "code",
   "execution_count": 8,
   "id": "b99297a5-405a-463d-8535-9adc3da4ad74",
   "metadata": {
    "id": "b99297a5-405a-463d-8535-9adc3da4ad74"
   },
   "outputs": [
    {
     "name": "stdout",
     "output_type": "stream",
     "text": [
      "Número de valores duplicados: 15\n",
      "\n",
      "Registros duplicados:\n",
      "        order_id  user_id  order_number  order_dow  order_hour_of_day  \\\n",
      "145574    794638    50898            24          3                  2   \n",
      "223105   2160484   107525            16          3                  2   \n",
      "230807   1918001   188546            14          3                  2   \n",
      "266232   1782114   106752             1          3                  2   \n",
      "273805   1112182   202304            84          3                  2   \n",
      "284038   2845099    31189            11          3                  2   \n",
      "311713   1021560    53767             3          3                  2   \n",
      "321100    408114    68324             4          3                  2   \n",
      "323900   1919531   191501            32          3                  2   \n",
      "345917   2232988    82565             1          3                  2   \n",
      "371905    391768    57671            19          3                  2   \n",
      "394347    467134    63189            21          3                  2   \n",
      "411408   1286742   183220            48          3                  2   \n",
      "415163   2282673    86751            49          3                  2   \n",
      "441599   2125197    14050            48          3                  2   \n",
      "\n",
      "        days_since_prior_order  \n",
      "145574                     2.0  \n",
      "223105                    30.0  \n",
      "230807                    16.0  \n",
      "266232                     NaN  \n",
      "273805                     6.0  \n",
      "284038                     7.0  \n",
      "311713                     9.0  \n",
      "321100                    18.0  \n",
      "323900                     7.0  \n",
      "345917                     NaN  \n",
      "371905                    10.0  \n",
      "394347                     2.0  \n",
      "411408                     4.0  \n",
      "415163                     2.0  \n",
      "441599                     3.0  \n"
     ]
    }
   ],
   "source": [
    "# Verificación de duplicados en el DataFrame orders\n",
    "print('Número de valores duplicados:', df_orders.duplicated().sum())\n",
    "print('\\nRegistros duplicados:')\n",
    "print(df_orders[df_orders.duplicated()])"
   ]
  },
  {
   "cell_type": "markdown",
   "id": "PEkwUX_gvt5A",
   "metadata": {
    "id": "PEkwUX_gvt5A"
   },
   "source": [
    "### Conclusiones:\n",
    "\n",
    "Se encontraron filas duplicadas y en todas ellas los pedidos fueron realizados a las 2 de la mañana los miércoles, lo que se puede observar en la columna 'order_hour_of_day' y en la columna 'order_dow', donde '0' representa el domingo y los demás días siguen en orden.\n"
   ]
  },
  {
   "cell_type": "code",
   "execution_count": 9,
   "id": "0d44de5d",
   "metadata": {
    "id": "0d44de5d"
   },
   "outputs": [
    {
     "name": "stdout",
     "output_type": "stream",
     "text": [
      "Cantidad de pedidos a las 2h:\n",
      "order_id                  1004\n",
      "user_id                   1004\n",
      "order_number              1004\n",
      "order_dow                 1004\n",
      "order_hour_of_day         1004\n",
      "days_since_prior_order     941\n",
      "dtype: int64\n",
      "\n",
      "Distribución de pedidos a las 2h:\n",
      "order_id  user_id  order_number  order_dow  order_hour_of_day  days_since_prior_order\n",
      "1919531   191501   32            3          2                  7.0                       2\n",
      "467134    63189    21            3          2                  2.0                       2\n",
      "1918001   188546   14            3          2                  16.0                      2\n",
      "2282673   86751    49            3          2                  2.0                       2\n",
      "1021560   53767    3             3          2                  9.0                       2\n",
      "                                                                                        ..\n",
      "1198786   183503   16            1          2                  6.0                       1\n",
      "1203051   32927    15            6          2                  0.0                       1\n",
      "1204878   66134    9             0          2                  6.0                       1\n",
      "1211189   7300     5             3          2                  13.0                      1\n",
      "3419726   24929    17            6          2                  30.0                      1\n",
      "Name: count, Length: 928, dtype: int64\n"
     ]
    }
   ],
   "source": [
    "# Análisis detallado de los pedidos a las 2 de la mañana\n",
    "print('Cantidad de pedidos a las 2h:')\n",
    "print(df_orders[df_orders['order_hour_of_day'] == 2].count())\n",
    "print('\\nDistribución de pedidos a las 2h:')\n",
    "print(df_orders[df_orders['order_hour_of_day'] == 2].value_counts())"
   ]
  },
  {
   "cell_type": "markdown",
   "id": "vu2OWyoqwOx5",
   "metadata": {
    "id": "vu2OWyoqwOx5"
   },
   "source": [
    "### Análisis de Duplicados - DataFrame Orders\n",
    "\n",
    "¿Qué significa este resultado?\n",
    "\n",
    "No hay información suficiente para determinar la causa del problema, pero se necesita investigar por qué las duplicaciones ocurren los miércoles. No podemos asumir que se trata de un ataque o un error puntual porque, aunque las duplicaciones ocurrieron los miércoles, sucedieron en diferentes fechas (según la columna 'days_since_prior_order'). Se recomienda preguntar a la empresa si hay algún proceso electrónico en este período cada miércoles, como una sincronización con la base de datos u otro proceso que pueda causar el error."
   ]
  },
  {
   "cell_type": "code",
   "execution_count": 10,
   "id": "480563c7",
   "metadata": {
    "id": "480563c7"
   },
   "outputs": [
    {
     "name": "stdout",
     "output_type": "stream",
     "text": [
      "Número de duplicados después del tratamiento: 0\n"
     ]
    }
   ],
   "source": [
    "# Eliminación de duplicados del DataFrame orders\n",
    "df_orders = df_orders.drop_duplicates().reset_index(drop=True)\n",
    "\n",
    "# Verificación posterior a la eliminación\n",
    "print('Número de duplicados después del tratamiento:', df_orders.duplicated().sum())"
   ]
  },
  {
   "cell_type": "markdown",
   "id": "5e8905ae",
   "metadata": {
    "id": "5e8905ae"
   },
   "source": [
    "### Conclusiones:\n",
    "\n",
    "Había pocos pedidos duplicados, lo que puede ocurrir por diversas razones. Se sospecha que puede haber un problema de actualización en la base de datos que sigue un calendario que afecta este horario (dos de la mañana) los miércoles. Los datos fueron tratados y el índice fue reiniciado según las mejores prácticas de este proceso."
   ]
  },
  {
   "cell_type": "markdown",
   "id": "45e6bc46",
   "metadata": {
    "id": "45e6bc46"
   },
   "source": [
    "### DataFrame `products`"
   ]
  },
  {
   "cell_type": "code",
   "execution_count": 11,
   "id": "5f526b5b-8175-46fa-a0fd-441767d50e64",
   "metadata": {
    "id": "5f526b5b-8175-46fa-a0fd-441767d50e64"
   },
   "outputs": [
    {
     "name": "stdout",
     "output_type": "stream",
     "text": [
      "Número de duplicados en products: 0\n",
      "\n",
      "Verificación por departamento:\n",
      "department_id\n",
      "1     4007\n",
      "2      547\n",
      "3     1515\n",
      "4     1683\n",
      "5     1053\n",
      "6     1138\n",
      "7     4365\n",
      "8      971\n",
      "9     1857\n",
      "10      37\n",
      "11    6563\n",
      "12     906\n",
      "13    5371\n",
      "14    1116\n",
      "15    2091\n",
      "16    3448\n",
      "17    3084\n",
      "18    1080\n",
      "19    6263\n",
      "20    1321\n",
      "21    1257\n",
      "Name: department_id, dtype: int64\n"
     ]
    }
   ],
   "source": [
    "# Verificación de duplicados en el DataFrame products\n",
    "print('Número de duplicados en products:', df_products.duplicated().sum())\n",
    "print('\\nVerificación por departamento:')\n",
    "print(df_products[df_products['department_id'].duplicated()].groupby('department_id')['department_id'].count())"
   ]
  },
  {
   "cell_type": "markdown",
   "id": "83b8a33f-bb7f-4a10-91c1-bdc04fbee7f6",
   "metadata": {
    "id": "88daa4f4"
   },
   "source": [
    "### Análisis de Duplicados - DataFrame Products\n",
    "- No hay registros completamente duplicados.\n",
    "- Es esperable encontrar duplicados en department_id (productos diferentes en el mismo departamento).\n",
    "- Los nombres de los productos fueron convertidos a minúsculas para estandarización."
   ]
  },
  {
   "cell_type": "markdown",
   "id": "60f30db1",
   "metadata": {
    "id": "60f30db1"
   },
   "source": [
    "### DataFrame `departments`"
   ]
  },
  {
   "cell_type": "code",
   "execution_count": 12,
   "id": "fb410ad4-0fbf-4b80-bb09-23fdea79afe3",
   "metadata": {
    "id": "fb410ad4-0fbf-4b80-bb09-23fdea79afe3"
   },
   "outputs": [
    {
     "name": "stdout",
     "output_type": "stream",
     "text": [
      "Número de duplicados en departments: 0\n",
      "\n",
      "Registros duplicados:\n",
      "Empty DataFrame\n",
      "Columns: [department_id, department]\n",
      "Index: []\n"
     ]
    }
   ],
   "source": [
    "# Verificación de duplicados en el DataFrame departments\n",
    "print('Número de duplicados en departments:', df_departments.duplicated().sum())\n",
    "print('\\nRegistros duplicados:')\n",
    "print(df_departments[df_departments.duplicated()])"
   ]
  },
  {
   "cell_type": "code",
   "execution_count": 13,
   "id": "332b12bb",
   "metadata": {
    "id": "332b12bb"
   },
   "outputs": [
    {
     "name": "stdout",
     "output_type": "stream",
     "text": [
      "\n",
      "Verificación de IDs únicos:\n",
      "[ 1  2  3  4  5  6  7  8  9 10 11 12 13 14 15 16 17 18 19 20 21]\n",
      "\n",
      "Total de departamentos únicos: 21\n"
     ]
    }
   ],
   "source": [
    "# Análisis detallado de los IDs\n",
    "print('\\nVerificación de IDs únicos:')\n",
    "print(df_departments['department_id'].unique())\n",
    "print('\\nTotal de departamentos únicos:', df_departments['department_id'].nunique())"
   ]
  },
  {
   "cell_type": "markdown",
   "id": "bd30d78e",
   "metadata": {
    "id": "bd30d78e"
   },
   "source": [
    "### Análisis de Duplicados - DataFrame Departments\n",
    "- No se identificaron duplicados.\n",
    "- 21 departamentos únicos.\n",
    "- Los IDs están bien estructurados y secuenciales (1-21)."
   ]
  },
  {
   "cell_type": "markdown",
   "id": "889349c1",
   "metadata": {
    "id": "889349c1"
   },
   "source": [
    "### DataFrame `aisles`"
   ]
  },
  {
   "cell_type": "code",
   "execution_count": 14,
   "id": "9da89fb9-4679-40f5-ad0d-c34df753a3f8",
   "metadata": {
    "id": "9da89fb9-4679-40f5-ad0d-c34df753a3f8"
   },
   "outputs": [
    {
     "name": "stdout",
     "output_type": "stream",
     "text": [
      "Número de duplicados en aisles: 0\n",
      "\n",
      "Registros duplicados:\n",
      "Empty DataFrame\n",
      "Columns: [aisle_id, aisle]\n",
      "Index: []\n"
     ]
    }
   ],
   "source": [
    "# Verificación de duplicados en el DataFrame aisles\n",
    "print('Número de duplicados en aisles:', df_aisles.duplicated().sum())\n",
    "print('\\nRegistros duplicados:')\n",
    "print(df_aisles[df_aisles.duplicated()])"
   ]
  },
  {
   "cell_type": "code",
   "execution_count": 15,
   "id": "da7c2822",
   "metadata": {
    "id": "da7c2822"
   },
   "outputs": [
    {
     "name": "stdout",
     "output_type": "stream",
     "text": [
      "\n",
      "Total de secciones únicas: 134\n"
     ]
    }
   ],
   "source": [
    "# Análisis de IDs únicos\n",
    "print('\\nTotal de secciones únicas:', df_aisles['aisle_id'].nunique())"
   ]
  },
  {
   "cell_type": "markdown",
   "id": "ac63826f",
   "metadata": {
    "id": "ac63826f"
   },
   "source": [
    "### Análisis de Duplicados - DataFrame Aisles\n",
    "- No se identificaron duplicados.\n",
    "- 134 secciones únicas.\n",
    "- Estructura de datos íntegra."
   ]
  },
  {
   "cell_type": "markdown",
   "id": "274cd06a",
   "metadata": {
    "id": "274cd06a"
   },
   "source": [
    "### DataFrame `order_products`"
   ]
  },
  {
   "cell_type": "code",
   "execution_count": 16,
   "id": "52326689-84a8-4b8f-a881-7c68780f62c9",
   "metadata": {
    "id": "52326689-84a8-4b8f-a881-7c68780f62c9"
   },
   "outputs": [
    {
     "name": "stdout",
     "output_type": "stream",
     "text": [
      "Número de duplicados en order_products: 0\n",
      "\n",
      "Registros duplicados:\n",
      "Empty DataFrame\n",
      "Columns: [order_id, product_id, add_to_cart_order, reordered]\n",
      "Index: []\n"
     ]
    }
   ],
   "source": [
    "# Verificación de duplicados en el DataFrame order_products\n",
    "print('Número de duplicados en order_products:', df_order_products.duplicated().sum())\n",
    "print('\\nRegistros duplicados:')\n",
    "print(df_order_products[df_order_products.duplicated(subset=['order_id','product_id'])])"
   ]
  },
  {
   "cell_type": "code",
   "execution_count": 17,
   "id": "7b861391",
   "metadata": {
    "id": "7b861391"
   },
   "outputs": [
    {
     "name": "stdout",
     "output_type": "stream",
     "text": [
      "\n",
      "Análisis de IDs de pedidos:\n",
      "Valores únicos: [2141543  567889 2261212 ...  812418 2666881 1461911]\n",
      "\n",
      "Total de pedidos únicos: 450046\n",
      "\n",
      "Análisis de IDs de productos:\n",
      "Valores únicos: [11440  1560 26683 ... 49153  8182 40024]\n",
      "\n",
      "Total de productos únicos: 45573\n"
     ]
    }
   ],
   "source": [
    "# Análisis de valores únicos\n",
    "print('\\nAnálisis de IDs de pedidos:')\n",
    "print('Valores únicos:', df_order_products['order_id'].unique())\n",
    "print('\\nTotal de pedidos únicos:', df_order_products['order_id'].nunique())\n",
    "\n",
    "print('\\nAnálisis de IDs de productos:')\n",
    "print('Valores únicos:', df_order_products['product_id'].unique())\n",
    "print('\\nTotal de productos únicos:', df_order_products['product_id'].nunique())"
   ]
  },
  {
   "cell_type": "markdown",
   "id": "0b890492",
   "metadata": {
    "id": "0b890492"
   },
   "source": [
    "### Análisis de Duplicados - DataFrame Order_Products\n",
    "- No se identificaron duplicados directos.\n",
    "- 450,046 pedidos únicos.\n",
    "- 45,573 productos únicos en pedidos.\n",
    "- La situación es compleja debido a la naturaleza de los datos:\n",
    "  - Un pedido puede contener varios productos.\n",
    "  - Un producto puede aparecer en múltiples pedidos.\n",
    "  - Las combinaciones repetidas order_id/product_id son importantes para el análisis de recompra."
   ]
  },
  {
   "cell_type": "markdown",
   "id": "1e46de76",
   "metadata": {
    "id": "1e46de76"
   },
   "source": [
    "## Encontrar y eliminar valores ausentes\n",
    "\n",
    "Se identificaron valores ausentes en las siguientes columnas:\n",
    "- Columna `'product_name'` en la tabla `products`\n",
    "- Columna `'days_since_prior_order'` en la tabla `orders`\n",
    "- Columna `'add_to_cart_order'` en la tabla `order_products`"
   ]
  },
  {
   "cell_type": "markdown",
   "id": "c0aebd78",
   "metadata": {
    "id": "c0aebd78"
   },
   "source": [
    "### DataFrame `products`"
   ]
  },
  {
   "cell_type": "code",
   "execution_count": 18,
   "id": "fe4a8b0f",
   "metadata": {
    "id": "fe4a8b0f"
   },
   "outputs": [
    {
     "name": "stdout",
     "output_type": "stream",
     "text": [
      "Verificando valores ausentes en el DataFrame products:\n",
      "product_id          0\n",
      "product_name     1258\n",
      "aisle_id            0\n",
      "department_id       0\n",
      "dtype: int64\n",
      "\n",
      "Verificando valores ausentes en la columna \"product_name\":\n",
      "1258\n"
     ]
    }
   ],
   "source": [
    "# Análisis de valores ausentes en el DataFrame products\n",
    "print('Verificando valores ausentes en el DataFrame products:')\n",
    "print(df_products.isna().sum())\n",
    "\n",
    "print('\\nVerificando valores ausentes en la columna \"product_name\":')\n",
    "print(df_products['product_name'].isna().sum())"
   ]
  },
  {
   "cell_type": "markdown",
   "id": "-A6x1AbJhjkp",
   "metadata": {
    "id": "-A6x1AbJhjkp"
   },
   "source": [
    "### Análisis de Valores Ausentes - DataFrame Products\n",
    "- 1,258 productos sin nombre registrado.\n",
    "- Todas las demás columnas están completamente llenas."
   ]
  },
  {
   "cell_type": "code",
   "execution_count": 19,
   "id": "e96167bc",
   "metadata": {
    "id": "e96167bc"
   },
   "outputs": [
    {
     "name": "stdout",
     "output_type": "stream",
     "text": [
      "37       100\n",
      "71       100\n",
      "109      100\n",
      "296      100\n",
      "416      100\n",
      "        ... \n",
      "49552    100\n",
      "49574    100\n",
      "49640    100\n",
      "49663    100\n",
      "49668    100\n",
      "Name: aisle_id, Length: 1258, dtype: int64\n"
     ]
    }
   ],
   "source": [
    "# Verificación de productos sin nombre por sección\n",
    "seccion_productos_sin_nombre = df_products.loc[df_products['product_name'].isna(), 'aisle_id']\n",
    "print(seccion_productos_sin_nombre)"
   ]
  },
  {
   "cell_type": "code",
   "execution_count": 20,
   "id": "8fd0a541",
   "metadata": {
    "id": "8fd0a541"
   },
   "outputs": [
    {
     "name": "stdout",
     "output_type": "stream",
     "text": [
      "37       21\n",
      "71       21\n",
      "109      21\n",
      "296      21\n",
      "416      21\n",
      "         ..\n",
      "49552    21\n",
      "49574    21\n",
      "49640    21\n",
      "49663    21\n",
      "49668    21\n",
      "Name: department_id, Length: 1258, dtype: int64\n"
     ]
    }
   ],
   "source": [
    "# Verificación de productos sin nombre por departamento\n",
    "departamento_productos_sin_nombre = df_products.loc[df_products['product_name'].isna(), 'department_id']\n",
    "print(departamento_productos_sin_nombre)"
   ]
  },
  {
   "cell_type": "code",
   "execution_count": 21,
   "id": "c09a2451-31bb-4705-a857-27bdd0a41fcf",
   "metadata": {},
   "outputs": [
    {
     "name": "stdout",
     "output_type": "stream",
     "text": [
      "Tabla de departamentos\n",
      "    department_id department\n",
      "20             21    missing\n",
      "\n",
      "Tabla de secciones\n",
      "    aisle_id    aisle\n",
      "99       100  missing\n"
     ]
    }
   ],
   "source": [
    "# Verificación de las secciones y departamentos afectados\n",
    "print('Tabla de departamentos')\n",
    "print(df_departments[df_departments['department_id'] == 21])\n",
    "\n",
    "print('\\nTabla de secciones')\n",
    "print(df_aisles[df_aisles['aisle_id'] == 100])\n",
    "\n",
    "# Tratamiento de valores ausentes\n",
    "df_departments['department'] = df_departments['department'].replace('missing', np.nan).fillna('Unknown')\n",
    "df_aisles['aisle'] = df_aisles['aisle'].fillna('Unknown')\n"
   ]
  },
  {
   "cell_type": "markdown",
   "id": "feaefec3",
   "metadata": {},
   "source": [
    "### Conclusiones sobre Valores Ausentes en el DataFrame Products\n",
    "- Los valores ausentes están concentrados en la sección 100 y el departamento 21.\n",
    "- La sección y el departamento fueron marcados como \"Unknown\" después del tratamiento.\n",
    "- El patrón sistemático sugiere un posible problema de integración de datos."
   ]
  },
  {
   "cell_type": "markdown",
   "id": "7eb45c86",
   "metadata": {
    "id": "7eb45c86"
   },
   "source": [
    "### DataFrame `orders`"
   ]
  },
  {
   "cell_type": "code",
   "execution_count": 22,
   "id": "93e41d96",
   "metadata": {
    "id": "93e41d96"
   },
   "outputs": [
    {
     "name": "stdout",
     "output_type": "stream",
     "text": [
      "Verificando valores ausentes en el DataFrame orders:\n",
      "order_id                      0\n",
      "user_id                       0\n",
      "order_number                  0\n",
      "order_dow                     0\n",
      "order_hour_of_day             0\n",
      "days_since_prior_order    28817\n",
      "dtype: int64\n"
     ]
    }
   ],
   "source": [
    "# Análisis de valores ausentes en el DataFrame orders\n",
    "print('Verificando valores ausentes en el DataFrame orders:')\n",
    "print(df_orders.isna().sum())"
   ]
  },
  {
   "cell_type": "code",
   "execution_count": 23,
   "id": "166e5a86",
   "metadata": {
    "id": "166e5a86"
   },
   "outputs": [
    {
     "name": "stdout",
     "output_type": "stream",
     "text": [
      "Pedidos no iniciales con valores ausentes:\n",
      "Empty DataFrame\n",
      "Columns: [order_id, user_id, order_number, order_dow, order_hour_of_day, days_since_prior_order]\n",
      "Index: []\n"
     ]
    }
   ],
   "source": [
    "# Verificación de valores ausentes en pedidos no iniciales\n",
    "pedido_sin_cliente = df_orders[(df_orders['days_since_prior_order'].isna()) & (df_orders['order_number'] > 1)]\n",
    "print('Pedidos no iniciales con valores ausentes:')\n",
    "print(pedido_sin_cliente)"
   ]
  },
  {
   "cell_type": "markdown",
   "id": "4e23d089",
   "metadata": {
    "id": "4e23d089"
   },
   "source": [
    "### Análisis de Valores Ausentes - DataFrame Orders\n",
    "- 28,817 valores ausentes en `'days_since_prior_order'`.\n",
    "- Los valores ausentes solo aparecen en los primeros pedidos.\n",
    "- Este comportamiento es esperado, ya que no hay un pedido anterior para la primera compra."
   ]
  },
  {
   "cell_type": "markdown",
   "id": "69dc9ca4",
   "metadata": {
    "id": "69dc9ca4"
   },
   "source": [
    "### DataFrame `order_products`"
   ]
  },
  {
   "cell_type": "code",
   "execution_count": 24,
   "id": "b8240253",
   "metadata": {
    "id": "b8240253"
   },
   "outputs": [
    {
     "name": "stdout",
     "output_type": "stream",
     "text": [
      "Verificando valores ausentes en el DataFrame order_products:\n",
      "order_id               0\n",
      "product_id             0\n",
      "add_to_cart_order    836\n",
      "reordered              0\n",
      "dtype: int64\n"
     ]
    }
   ],
   "source": [
    "# Análisis de valores ausentes en el DataFrame order_products\n",
    "print('Verificando valores ausentes en el DataFrame order_products:')\n",
    "print(df_order_products.isna().sum())"
   ]
  },
  {
   "cell_type": "code",
   "execution_count": 25,
   "id": "9a78e5ee",
   "metadata": {
    "id": "9a78e5ee"
   },
   "outputs": [
    {
     "name": "stdout",
     "output_type": "stream",
     "text": [
      "Valores mínimos de la columna \"add_to_cart_order\":\n",
      "1.0\n",
      "\n",
      "Valores máximos de la columna \"add_to_cart_order\":\n",
      "64.0\n"
     ]
    }
   ],
   "source": [
    "# Análisis de los valores en la columna add_to_cart_order\n",
    "print('Valores mínimos de la columna \"add_to_cart_order\":')\n",
    "print(df_order_products['add_to_cart_order'].min())\n",
    "\n",
    "print('\\nValores máximos de la columna \"add_to_cart_order\":')\n",
    "print(df_order_products['add_to_cart_order'].max())\n"
   ]
  },
  {
   "cell_type": "code",
   "execution_count": 26,
   "id": "ab9d0c2b",
   "metadata": {
    "id": "ab9d0c2b"
   },
   "outputs": [
    {
     "name": "stdout",
     "output_type": "stream",
     "text": [
      "Productos con orden de adición ausente:\n",
      "737         5068\n",
      "9926       43867\n",
      "14394      11688\n",
      "16418       4142\n",
      "30114      42828\n",
      "           ...  \n",
      "4505662     7411\n",
      "4511400      260\n",
      "4517562     9517\n",
      "4534112    17835\n",
      "4535739    17949\n",
      "Name: product_id, Length: 836, dtype: int64\n"
     ]
    }
   ],
   "source": [
    "# Verificación de productos con orden de adición ausente\n",
    "ids_valores_ausentes = df_order_products.loc[df_order_products['add_to_cart_order'].isna(), 'product_id']\n",
    "print('Productos con orden de adición ausente:')\n",
    "print(ids_valores_ausentes)\n",
    "\n",
    "# Tratamiento de valores ausentes\n",
    "df_order_products.fillna({'add_to_cart_order': 999}, inplace=True)\n",
    "df_order_products['add_to_cart_order'] = df_order_products['add_to_cart_order'].astype(int)"
   ]
  },
  {
   "cell_type": "markdown",
   "id": "p9V6pddtjglj",
   "metadata": {
    "id": "p9V6pddtjglj"
   },
   "source": [
    "### Análisis de Valores Ausentes - DataFrame Order_Products\n",
    "- 836 valores ausentes en `'add_to_cart_order'`.\n",
    "- El orden de adición varía de 1 a 64 productos por pedido.\n",
    "- Los valores ausentes fueron reemplazados por 999 para identificarlos en futuros análisis.\n",
    "\n",
    "## Conclusiones Generales del Tratamiento de Datos\n",
    "\n",
    "1. **Valores Ausentes**\n",
    "   - Se identificaron y trataron en tres DataFrames principales.\n",
    "   - Se aplicaron tratamientos específicos para cada caso.\n",
    "   - Se mantuvo la trazabilidad de los datos tratados.\n",
    "\n",
    "2. **Impacto en el Análisis**\n",
    "   - Los datos mantienen coherencia para futuros análisis.\n",
    "   - Los tratamientos no comprometen la integridad de las relaciones entre tablas.\n",
    "   - Se eligieron valores sustitutos para facilitar la identificación de datos tratados."
   ]
  },
  {
   "cell_type": "markdown",
   "id": "UjrOIwTcz3ri",
   "metadata": {
    "id": "UjrOIwTcz3ri"
   },
   "source": [
    "# Etapa 3: Análisis de Datos\n",
    "\n",
    "## A. Análisis Básico\n",
    "\n",
    "### 1. Verificación de valores en las columnas temporales"
   ]
  },
  {
   "cell_type": "code",
   "execution_count": 27,
   "id": "growing-fruit",
   "metadata": {
    "id": "growing-fruit"
   },
   "outputs": [
    {
     "name": "stdout",
     "output_type": "stream",
     "text": [
      "Valor mínimo de la columna \"order_hour_of_day\": 0\n",
      "Valor máximo de la columna \"order_hour_of_day\": 23\n"
     ]
    }
   ],
   "source": [
    "# Verificación de valores en order_hour_of_day\n",
    "print('Valor mínimo de la columna \"order_hour_of_day\":', df_orders['order_hour_of_day'].min())\n",
    "print('Valor máximo de la columna \"order_hour_of_day\":', df_orders['order_hour_of_day'].max())"
   ]
  },
  {
   "cell_type": "code",
   "execution_count": 28,
   "id": "accessory-malaysia",
   "metadata": {
    "id": "accessory-malaysia"
   },
   "outputs": [
    {
     "name": "stdout",
     "output_type": "stream",
     "text": [
      "Valor mínimo de la columna \"order_dow\": 0\n",
      "Valor máximo de la columna \"order_dow\": 6\n"
     ]
    }
   ],
   "source": [
    "# Verificación de valores en order_dow\n",
    "print('Valor mínimo de la columna \"order_dow\":', df_orders['order_dow'].min())\n",
    "print('Valor máximo de la columna \"order_dow\":', df_orders['order_dow'].max())"
   ]
  },
  {
   "cell_type": "markdown",
   "id": "hmR2GNQ6lCsX",
   "metadata": {
    "id": "hmR2GNQ6lCsX"
   },
   "source": [
    "### Análisis de Valores Temporales\n",
    "- Horas del día: varían de 0 a 23 (24 horas).\n",
    "- Días de la semana: varían de 0 a 6 (domingo a sábado).\n",
    "- Datos temporales consistentes y dentro de los intervalos esperados."
   ]
  },
  {
   "cell_type": "markdown",
   "id": "a6743a70",
   "metadata": {
    "id": "a6743a70"
   },
   "source": [
    "### [A2] ¿Cuántas personas realizan pedidos en cada hora del día?"
   ]
  },
  {
   "cell_type": "code",
   "execution_count": 29,
   "id": "a36cca27",
   "metadata": {
    "id": "a36cca27"
   },
   "outputs": [
    {
     "data": {
      "image/png": "[encoded data removed]",
      "text/plain": [
       "<Figure size 1000x600 with 1 Axes>"
      ]
     },
     "metadata": {},
     "output_type": "display_data"
    }
   ],
   "source": [
    "# Análisis de pedidos por hora del día\n",
    "clientes_por_hora = df_orders.groupby('order_hour_of_day')['user_id'].nunique()\n",
    "\n",
    "# Visualización con gráfico de barras\n",
    "plt.figure(figsize=(10, 6))\n",
    "plt.bar(clientes_por_hora.index, clientes_por_hora.values, color='skyblue', edgecolor='black')\n",
    "plt.title('Número de Usuarios por Hora del Día')\n",
    "plt.xlabel('Hora del día (0-23)')\n",
    "plt.ylabel('Número de usuarios')\n",
    "plt.grid(True, alpha=0.3)\n",
    "plt.show()"
   ]
  },
  {
   "cell_type": "markdown",
   "id": "11270eed",
   "metadata": {
    "id": "11270eed"
   },
   "source": [
    "### Análisis del gráfico \"Número de Usuarios por Hora del Día\":\n",
    "- El período en el que las ventas alcanzan su punto máximo es de 10 a 15 horas.\n",
    "- El día de la semana con más compras es el domingo.\n",
    "- La mayoría de los usuarios tarda 30 días en realizar una nueva compra."
   ]
  },
  {
   "cell_type": "markdown",
   "id": "documented-command",
   "metadata": {
    "id": "documented-command"
   },
   "source": [
    "### [A3] ¿En qué día de la semana las personas realizan compras?"
   ]
  },
  {
   "cell_type": "code",
   "execution_count": 30,
   "id": "chief-digit",
   "metadata": {
    "id": "chief-digit"
   },
   "outputs": [
    {
     "data": {
      "image/png": "[encoded data removed]",
      "text/plain": [
       "<Figure size 1000x600 with 1 Axes>"
      ]
     },
     "metadata": {},
     "output_type": "display_data"
    }
   ],
   "source": [
    "# Análisis de pedidos por día de la semana\n",
    "clientes_por_dia_semana = df_orders.groupby('order_dow')['user_id'].nunique()\n",
    "\n",
    "# Visualización con gráfico de barras\n",
    "plt.figure(figsize=(10, 6))\n",
    "plt.bar(clientes_por_dia_semana.index, clientes_por_dia_semana.values, color='skyblue', edgecolor='black')\n",
    "plt.title('Número de Usuarios por Día de la Semana')\n",
    "plt.xlabel('Día de la Semana (0=Domingo)')\n",
    "plt.ylabel('Número de usuarios')\n",
    "plt.grid(True, alpha=0.3)\n",
    "plt.show()"
   ]
  },
  {
   "cell_type": "markdown",
   "id": "dominant-lightning",
   "metadata": {
    "id": "dominant-lightning"
   },
   "source": [
    "### Análisis del gráfico \"Número de Usuarios por Día de la Semana\":\n",
    "- El día de la semana con más compras es el domingo."
   ]
  },
  {
   "cell_type": "markdown",
   "id": "cutting-concert",
   "metadata": {
    "id": "cutting-concert"
   },
   "source": [
    "### [A4] ¿Cuánto tiempo esperan las personas para hacer otro pedido?"
   ]
  },
  {
   "cell_type": "code",
   "execution_count": 31,
   "id": "gMOIimGd5VNb",
   "metadata": {
    "id": "gMOIimGd5VNb"
   },
   "outputs": [
    {
     "data": {
      "image/png": "[encoded data removed]",
      "text/plain": [
       "<Figure size 1000x600 with 1 Axes>"
      ]
     },
     "metadata": {},
     "output_type": "display_data"
    }
   ],
   "source": [
    "# Análisis del tiempo entre pedidos\n",
    "espera_entre_compras = df_orders.groupby('days_since_prior_order')['user_id'].nunique()\n",
    "\n",
    "# Visualización con gráfico de barras\n",
    "plt.figure(figsize=(10, 6))\n",
    "plt.bar(espera_entre_compras.index, espera_entre_compras.values, color='skyblue', edgecolor='black')\n",
    "plt.title('Intervalo entre Pedidos')\n",
    "plt.xlabel('Días hasta el próximo pedido')\n",
    "plt.ylabel('Número de usuarios')\n",
    "plt.grid(True, alpha=0.3)\n",
    "plt.show()"
   ]
  },
  {
   "cell_type": "markdown",
   "id": "a4abd0d5-1748-4682-902b-98bc93099f6a",
   "metadata": {},
   "source": [
    "## Conclusiones del Análisis Básico\n",
    "\n",
    "1. **Patrones Temporales**\n",
    "   - Pico de pedidos entre las 10h y las 15h.\n",
    "   - Mayor volumen de pedidos los domingos.\n",
    "   - La mayoría de los usuarios realiza un nuevo pedido en 30 días.\n",
    "\n",
    "2. **Insights Operacionales**\n",
    "   - Necesidad de mayor capacidad operativa en horario pico.\n",
    "   - Planificación especial para domingos.\n",
    "   - Oportunidad para incentivar recompras antes de los 30 días."
   ]
  },
  {
   "cell_type": "markdown",
   "id": "tight-staff",
   "metadata": {
    "id": "tight-staff"
   },
   "source": [
    "## B. Análisis Intermedio\n",
    "\n",
    "### 1. Comparación de pedidos entre miércoles y sábados"
   ]
  },
  {
   "cell_type": "code",
   "execution_count": 32,
   "id": "d89b8403",
   "metadata": {
    "id": "d89b8403"
   },
   "outputs": [
    {
     "data": {
      "image/png": "[encoded data removed]",
      "text/plain": [
       "<Figure size 2000x600 with 2 Axes>"
      ]
     },
     "metadata": {},
     "output_type": "display_data"
    }
   ],
   "source": [
    "# Filtrar datos para miércoles (order_dow = 3)\n",
    "miercoles_orders = df_orders[df_orders['order_dow'] == 3]\n",
    "miercoles_contador_por_hora = miercoles_orders.groupby('order_hour_of_day')['order_id'].count()\n",
    "\n",
    "# Filtrar datos para sábados (order_dow = 6)\n",
    "sabado_orders = df_orders[df_orders['order_dow'] == 6]\n",
    "sabado_contador_por_hora = sabado_orders.groupby('order_hour_of_day')['order_id'].count()\n",
    "\n",
    "# Crear gráficos comparativos\n",
    "fig, ax = plt.subplots(1, 2, figsize=(20, 6))\n",
    "\n",
    "# Gráfico de miércoles\n",
    "df_miercoles = pd.DataFrame({'Hora del día': miercoles_contador_por_hora.index, \n",
    "                             'Número de Pedidos': miercoles_contador_por_hora.values})\n",
    "df_miercoles.plot(ax=ax[0], x='Hora del día', y='Número de Pedidos',\n",
    "                  title='Pedidos por Hora los Miércoles',\n",
    "                  kind='bar', xlabel='Hora del Día (0-23)',\n",
    "                  ylabel='Número de Pedidos', grid=True)\n",
    "ax[0].set_xticklabels(df_miercoles['Hora del día'], rotation=0)\n",
    "\n",
    "# Gráfico de sábados\n",
    "df_sabado = pd.DataFrame({'Hora del día': sabado_contador_por_hora.index,\n",
    "                          'Número de Pedidos': sabado_contador_por_hora.values})\n",
    "df_sabado.plot(ax=ax[1], x='Hora del día', y='Número de Pedidos',\n",
    "               title='Pedidos por Hora los Sábados',\n",
    "               kind='bar', xlabel='Hora del Día (0-23)',\n",
    "               ylabel='Número de Pedidos', grid=True)\n",
    "ax[1].set_xticklabels(df_sabado['Hora del día'], rotation=0)\n",
    "\n",
    "plt.tight_layout()\n",
    "plt.show()\n"
   ]
  },
  {
   "cell_type": "markdown",
   "id": "charitable-congo",
   "metadata": {
    "id": "charitable-congo"
   },
   "source": [
    "### Análisis Comparativo Miércoles vs Sábado\n",
    "- Miércoles: el pico de pedidos es más pronunciado durante el horario comercial.\n",
    "- Sábados: la distribución es más uniforme a lo largo del día.\n",
    "- La diferencia refleja distintos patrones de comportamiento entre días laborables y fines de semana."
   ]
  },
  {
   "cell_type": "markdown",
   "id": "e3891143",
   "metadata": {
    "id": "e3891143"
   },
   "source": [
    "### ¿Cuál es la distribución del número de pedidos por cliente?"
   ]
  },
  {
   "cell_type": "code",
   "execution_count": 33,
   "id": "d8c26c23",
   "metadata": {
    "id": "d8c26c23"
   },
   "outputs": [
    {
     "data": {
      "image/png": "[encoded data removed]",
      "text/plain": [
       "<Figure size 1000x600 with 1 Axes>"
      ]
     },
     "metadata": {},
     "output_type": "display_data"
    }
   ],
   "source": [
    "# Análisis de la distribución de pedidos por cliente\n",
    "conteo_pedidos_por_cliente = df_orders.groupby('user_id').size()\n",
    "\n",
    "# Visualización de la distribución\n",
    "plt.figure(figsize=(10, 6))\n",
    "plt.hist(conteo_pedidos_por_cliente, bins=range(1, conteo_pedidos_por_cliente.max()+1), \n",
    "         color='skyblue', edgecolor='black')\n",
    "plt.title('Distribución del Número de Pedidos por Cliente')\n",
    "plt.xlabel('Número de Pedidos')\n",
    "plt.ylabel('Cantidad de Usuarios')\n",
    "plt.grid(True)\n",
    "plt.axvline(x=5, color='red', linestyle='--', label='1-5 pedidos')\n",
    "plt.axvline(x=10, color='yellow', linestyle='--', label='5-10 pedidos')\n",
    "plt.axvline(x=15, color='green', linestyle='--', label='10-15 pedidos')\n",
    "plt.legend()\n",
    "plt.show()\n"
   ]
  },
  {
   "cell_type": "markdown",
   "id": "d2eff7d5",
   "metadata": {
    "id": "d2eff7d5"
   },
   "source": [
    "### Análisis del gráfico \"Distribución del Número de Pedidos por Cliente\":\n",
    "- Los clientes con un solo pedido representan la mayor categoría individual.\n",
    "- La mayoría de los clientes realiza entre 1 y 5 pedidos.\n",
    "- Existe una caída progresiva en la cantidad de clientes a medida que el número de pedidos aumenta.\n"
   ]
  },
  {
   "cell_type": "markdown",
   "id": "54a0319c",
   "metadata": {
    "id": "54a0319c"
   },
   "source": [
    "### ¿Cuáles son los 20 productos más populares? Muestra los IDs y nombres"
   ]
  },
  {
   "cell_type": "code",
   "execution_count": 34,
   "id": "exterior-arizona",
   "metadata": {
    "id": "exterior-arizona",
    "scrolled": true
   },
   "outputs": [
    {
     "name": "stdout",
     "output_type": "stream",
     "text": [
      "20 Productos Más Vendidos:\n",
      "    product_id              product_name  order_count\n",
      "0        24852                    Banana        66050\n",
      "1        13176    Bag of Organic Bananas        53297\n",
      "2        21137      Organic Strawberries        37039\n",
      "3        21903      Organic Baby Spinach        33971\n",
      "4        47209      Organic Hass Avocado        29773\n",
      "5        47766           Organic Avocado        24689\n",
      "6        47626               Large Lemon        21495\n",
      "7        16797              Strawberries        20018\n",
      "8        26209                     Limes        19690\n",
      "9        27845        Organic Whole Milk        19600\n",
      "10       27966       Organic Raspberries        19197\n",
      "11       22935      Organic Yellow Onion        15898\n",
      "12       24964            Organic Garlic        15292\n",
      "13       45007          Organic Zucchini        14584\n",
      "14       39275       Organic Blueberries        13879\n",
      "15       49683            Cucumber Kirby        13675\n",
      "16       28204        Organic Fuji Apple        12544\n",
      "17        5876             Organic Lemon        12232\n",
      "18        8277  Apple Honeycrisp Organic        11993\n",
      "19       40706    Organic Grape Tomatoes        11781\n"
     ]
    }
   ],
   "source": [
    "# Análisis de los 20 productos más frecuentes\n",
    "conteo_productos = df_order_products['product_id'].value_counts()\n",
    "conteo_productos_df = pd.DataFrame({'product_id': conteo_productos.index, \n",
    "                                   'order_count': conteo_productos.values})\n",
    "merged_data = pd.merge(conteo_productos_df, df_products, on='product_id')\n",
    "mas_vendidos = merged_data.sort_values(by='order_count', ascending=False).head(20)\n",
    "\n",
    "print('20 Productos Más Vendidos:')\n",
    "print(mas_vendidos[['product_id', 'product_name', 'order_count']])"
   ]
  },
  {
   "cell_type": "markdown",
   "id": "7df00f47",
   "metadata": {
    "id": "7df00f47"
   },
   "source": [
    "## Conclusiones del Análisis Intermedio\n",
    "\n",
    "1. **Patrones de Compra**\n",
    "   - La mayoría de los clientes realiza entre 1-5 pedidos\n",
    "   - Descenso pronunciado después de 5 pedidos\n",
    "   - Pequeño grupo de clientes altamente activos (>15 pedidos)\n",
    "\n",
    "2. **Productos Populares**\n",
    "   - Los productos orgánicos dominan el ranking\n",
    "   - Frutas y vegetales son las categorías más frecuentes\n",
    "   - Los plátanos lideran en número de pedidos\n",
    "\n",
    "3. **Perspectivas para el Negocio**\n",
    "   - Oportunidad de retención después de las primeras compras\n",
    "   - Potencial para estrategias específicas en diferentes días\n",
    "   - Enfoque en productos orgánicos como diferenciador"
   ]
  },
  {
   "cell_type": "markdown",
   "id": "gross-theme",
   "metadata": {
    "id": "gross-theme"
   },
   "source": [
    "## C. Análisis Avanzado\n",
    "\n",
    "### 1. Distribución de artículos por pedido"
   ]
  },
  {
   "cell_type": "markdown",
   "id": "romantic-deposit",
   "metadata": {
    "id": "romantic-deposit"
   },
   "source": [
    "### ¿Cuántos artículos compran normalmente las personas en un pedido? ¿Cómo es la distribución?"
   ]
  },
  {
   "cell_type": "code",
   "execution_count": 35,
   "id": "virtual-punch",
   "metadata": {
    "id": "virtual-punch"
   },
   "outputs": [
    {
     "name": "stdout",
     "output_type": "stream",
     "text": [
      "Estadísticas de Artículos por Pedido:\n",
      "count    450046.000000\n",
      "mean         10.098983\n",
      "std           7.540206\n",
      "min           1.000000\n",
      "25%           5.000000\n",
      "50%           8.000000\n",
      "75%          14.000000\n",
      "max         127.000000\n",
      "dtype: float64\n"
     ]
    },
    {
     "data": {
      "image/png": "[encoded data removed]",
      "text/plain": [
       "<Figure size 1000x600 with 1 Axes>"
      ]
     },
     "metadata": {},
     "output_type": "display_data"
    }
   ],
   "source": [
    "# Conteo de artículos por pedido\n",
    "conteo_articulos = df_order_products.groupby('order_id').size()\n",
    "\n",
    "# Estadísticas descriptivas\n",
    "print('Estadísticas de Artículos por Pedido:')\n",
    "print(conteo_articulos.describe())\n",
    "\n",
    "# Visualización de la distribución\n",
    "plt.figure(figsize=(10, 6))\n",
    "plt.hist(conteo_articulos, bins=range(1, 51), edgecolor='black', color='skyblue')\n",
    "plt.title('Distribución del Número de Artículos por Pedido')\n",
    "plt.xlabel('Número de Artículos por Pedido')\n",
    "plt.ylabel('Frecuencia')\n",
    "plt.grid(True)\n",
    "plt.xlim(0, 50)\n",
    "plt.show()\n"
   ]
  },
  {
   "cell_type": "markdown",
   "id": "designed-mortality",
   "metadata": {
    "id": "designed-mortality"
   },
   "source": [
    "### Análisis de la Distribución de Artículos\n",
    "- Promedio de 10 artículos por pedido\n",
    "- El 50% de los pedidos tienen entre 5 y 14 artículos\n",
    "- Máximo de 127 artículos en un solo pedido"
   ]
  },
  {
   "cell_type": "markdown",
   "id": "5e6b5537",
   "metadata": {
    "id": "5e6b5537"
   },
   "source": [
    "### ¿Cuáles son los 20 principales artículos más frecuentemente incluidos en pedidos repetidos? Muestra los IDs y nombres."
   ]
  },
  {
   "cell_type": "code",
   "execution_count": 36,
   "id": "9374e55a",
   "metadata": {
    "id": "9374e55a"
   },
   "outputs": [
    {
     "name": "stdout",
     "output_type": "stream",
     "text": [
      "20 Productos Más Recomprados:\n",
      "       product_id              product_name  reorder_contagem\n",
      "18104       24852                    Banana             55763\n",
      "9528        13176    Bag of Organic Bananas             44450\n",
      "15368       21137      Organic Strawberries             28639\n",
      "15936       21903      Organic Baby Spinach             26233\n",
      "34407       47209      Organic Hass Avocado             23629\n",
      "34828       47766           Organic Avocado             18743\n",
      "20285       27845        Organic Whole Milk             16251\n",
      "34725       47626               Large Lemon             15044\n",
      "20375       27966       Organic Raspberries             14748\n",
      "12193       16797              Strawberries             13945\n",
      "19088       26209                     Limes             13327\n",
      "16700       22935      Organic Yellow Onion             11145\n",
      "18186       24964            Organic Garlic             10411\n",
      "32792       45007          Organic Zucchini             10076\n",
      "36219       49683            Cucumber Kirby              9538\n",
      "20543       28204        Organic Fuji Apple              8989\n",
      "5978         8277  Apple Honeycrisp Organic              8836\n",
      "28607       39275       Organic Blueberries              8799\n",
      "4267         5876             Organic Lemon              8412\n",
      "35905       49235       Organic Half & Half              8389\n"
     ]
    }
   ],
   "source": [
    "# Análisis de productos en pedidos repetidos\n",
    "articulos_reordenados = df_order_products[df_order_products['reordered'] == 1]\n",
    "conteo_reordenados = articulos_reordenados.groupby('product_id').size()\n",
    "df_reordenados = pd.DataFrame({'product_id': conteo_reordenados.index, \n",
    "                               'reorder_contagem': conteo_reordenados.values})\n",
    "df_merged = pd.merge(df_reordenados, df_products, on='product_id')\n",
    "df_ordenado = df_merged.sort_values(by='reorder_contagem', \n",
    "                                    ascending=False).head(20)\n",
    "\n",
    "print('20 Productos Más Recomprados:')\n",
    "print(df_ordenado[['product_id', 'product_name', 'reorder_contagem']])\n"
   ]
  },
  {
   "cell_type": "markdown",
   "id": "ccfe48e0-6089-4461-b90b-1f5b7898234c",
   "metadata": {},
   "source": [
    "### Análisis de los Productos Más Recomprados\n",
    "- Los plátanos (tanto orgánicos como convencionales) lideran con gran margen\n",
    "- Los productos orgánicos dominan la lista, ocupando 13 de las 20 posiciones\n",
    "- Frutas y vegetales son las categorías más representadas\n",
    "- El patrón sugiere un enfoque en productos frescos y saludables\n",
    "- Las cantidades de recompra son significativas, oscilando entre 8.389 y 55.763 pedidos"
   ]
  },
  {
   "cell_type": "markdown",
   "id": "9d312b14",
   "metadata": {
    "id": "9d312b14"
   },
   "source": [
    "### [C3] Para cada producto, ¿qué porcentaje de todos sus pedidos son repetidos?"
   ]
  },
  {
   "cell_type": "code",
   "execution_count": 37,
   "id": "8ae9f4b1",
   "metadata": {
    "id": "8ae9f4b1"
   },
   "outputs": [
    {
     "name": "stdout",
     "output_type": "stream",
     "text": [
      "\n",
      "Productos con Mayor Tasa de Recompra:\n",
      "       product_id                                       product_name  \\\n",
      "13453       14721                            Bone Strength Take Care   \n",
      "19195       20949                           Vanilla Sandwich Cookies   \n",
      "6136         6723                                   Palmiers- Petite   \n",
      "6144         6732                  Naturally Sparkling Mineral Water   \n",
      "41319       45088  California Dill Pollen & Garlic Goat Cheese & ...   \n",
      "41310       45078                                       Pomegranatea   \n",
      "19258       21016       Parchment Lined 8 in x 3.75 in x 2.5 in Pans   \n",
      "19248       21005                        Peanut Butter Pie Ice Cream   \n",
      "32273       35192                         Chocolate Soy Milk Singles   \n",
      "32277       35197  Mocha Chocolate Chip  Organic Non-Dairy Frozen...   \n",
      "6211         6810                        Raspberry Goji Paleo Prints   \n",
      "41274       45040                                 Head Lock Mega Gel   \n",
      "41269       45035                               Coffee Flavor Yogurt   \n",
      "25120       27373                                     Meat Loaf Meal   \n",
      "28203       30748                           Cheese & Garlic Croutons   \n",
      "41265       45031                 Sugar Free Hazelnut Coffee Creamer   \n",
      "32224       35137  Superior Preference Fade-Defying Color + Shine...   \n",
      "28202       30747                   Dentotape® Unflavored Waxed Tape   \n",
      "32304       35228                       Marvelous Muffins Baking Mix   \n",
      "32305       35229                             Bean & Cheese Burritos   \n",
      "\n",
      "       reorder_ratio  \n",
      "13453            1.0  \n",
      "19195            1.0  \n",
      "6136             1.0  \n",
      "6144             1.0  \n",
      "41319            1.0  \n",
      "41310            1.0  \n",
      "19258            1.0  \n",
      "19248            1.0  \n",
      "32273            1.0  \n",
      "32277            1.0  \n",
      "6211             1.0  \n",
      "41274            1.0  \n",
      "41269            1.0  \n",
      "25120            1.0  \n",
      "28203            1.0  \n",
      "41265            1.0  \n",
      "32224            1.0  \n",
      "28202            1.0  \n",
      "32304            1.0  \n",
      "32305            1.0  \n"
     ]
    }
   ],
   "source": [
    "# Análisis de la proporción de recompra por producto\n",
    "reorder_porcentaje = df_order_products.groupby('product_id')['reordered'].mean().reset_index()\n",
    "reorder_porcentaje.rename(columns={'reordered': 'reorder_ratio'}, inplace=True)\n",
    "productos_repetidos = pd.merge(reorder_porcentaje, df_products, on='product_id')\n",
    "productos_repetidos = productos_repetidos.sort_values(by='reorder_ratio', ascending=False)\n",
    "\n",
    "print('\\nProductos con Mayor Tasa de Recompra:')\n",
    "print(productos_repetidos[['product_id', 'product_name', 'reorder_ratio']].head(20))\n"
   ]
  },
  {
   "cell_type": "markdown",
   "id": "3424d8f7-c45c-4b2d-9858-51bfb85ad117",
   "metadata": {
    "id": "103e7fe1"
   },
   "source": [
    "### Análisis de las Tasas de Recompra\n",
    "- 20 productos presentan una tasa de recompra del 100%\n",
    "- Lista más diversa, incluyendo:\n",
    "  - Suplementos (Bone Strength)\n",
    "  - Productos de conveniencia (Cookies, Baking Mix)\n",
    "  - Productos específicos (Dental Tape, Hair Color)\n",
    "  - Alimentos especiales (Non-Dairy, Sugar Free)\n",
    "- Son productos más nicho en comparación con los más recomprados en volumen\n",
    "- Indica una fuerte fidelización en categorías específicas"
   ]
  },
  {
   "cell_type": "markdown",
   "id": "TisH_5Cp3wAi",
   "metadata": {
    "id": "TisH_5Cp3wAi"
   },
   "source": [
    "# Conclusión general del proyecto:"
   ]
  },
  {
   "cell_type": "markdown",
   "id": "8a3b1824-28ef-4b71-9f3d-981ab28cce8c",
   "metadata": {
    "id": "Nk-4GS7mDwqY"
   },
   "source": [
    "ResolvÍ separar mis conclusiones en temas, y quedaron de la siguiente manera:\n",
    "\n",
    "## Principales Descubrimientos\n",
    "\n",
    "1. **Patrones Temporales**\n",
    "   - Pico de pedidos entre las 10h y las 15h\n",
    "   - Mayor volumen los domingos\n",
    "   - Patrones distintos entre días hábiles y fines de semana\n",
    "   - La mayoría de los usuarios regresa en 30 días\n",
    "\n",
    "2. **Comportamiento de Compra**\n",
    "   - Promedio de 10 artículos por pedido\n",
    "   - La mayoría de los clientes realiza entre 1-5 pedidos\n",
    "   - Pedidos concentrados entre 5-14 artículos\n",
    "   - Pequeño grupo de clientes altamente activos\n",
    "\n",
    "3. **Productos y Categorías**\n",
    "   - Los productos orgánicos dominan las ventas\n",
    "   - Los plátanos son el artículo más vendido\n",
    "   - Los productos frescos lideran en volumen\n",
    "   - Nichos específicos con alta fidelización\n",
    "\n",
    "\n",
    "## Recomendaciones Estratégicas\n",
    "\n",
    "1. **Operaciones**\n",
    "   - Optimizar la capacidad para horarios pico\n",
    "   - Planificación especial para los domingos\n",
    "   - Dimensionar el equipo según los patrones semanales\n",
    "\n",
    "2. **Marketing**\n",
    "   - Desarrollar un programa de fidelización\n",
    "   - Enfoque en retención tras las primeras compras\n",
    "   - Promociones específicas para productos orgánicos\n",
    "   - Estrategias diferenciadas para días hábiles y fines de semana\n",
    "\n",
    "3. **Producto**\n",
    "   - Mantener el enfoque en productos frescos y orgánicos\n",
    "   - Desarrollar ofertas para nichos específicos\n",
    "   - Considerar cestas básicas prearmadas\n",
    "   - Garantizar la disponibilidad de los productos más recomprados\n",
    "\n",
    "\n",
    "# ¡Gracias por su atención hasta aquí! ¡Espero que esto pueda iluminar nuestros caminos en el mundo de los datos!"
   ]
  },
  {
   "cell_type": "code",
   "execution_count": null,
   "id": "faa4beac-4ac7-4b72-83fe-ba5cf391078a",
   "metadata": {},
   "outputs": [],
   "source": []
  }
 ],
 "metadata": {
  "colab": {
   "provenance": []
  },
  "kernelspec": {
   "display_name": "Python 3 (ipykernel)",
   "language": "python",
   "name": "python3"
  },
  "language_info": {
   "codemirror_mode": {
    "name": "ipython",
    "version": 3
   },
   "file_extension": ".py",
   "mimetype": "text/x-python",
   "name": "python",
   "nbconvert_exporter": "python",
   "pygments_lexer": "ipython3",
   "version": "3.12.7"
  },
  "toc": {
   "base_numbering": 1,
   "nav_menu": {
    "height": "127px",
    "width": "176px"
   },
   "number_sections": true,
   "sideBar": true,
   "skip_h1_title": true,
   "title_cell": "Table of Contents",
   "title_sidebar": "Contents",
   "toc_cell": false,
   "toc_position": {},
   "toc_section_display": true,
   "toc_window_display": false
  },
  "vscode": {
   "interpreter": {
    "hash": "01a7be9ec63e704a62cefc5fe7a4756944464ee731be31632bdf42a4cb4688cf"
   }
  }
 },
 "nbformat": 4,
 "nbformat_minor": 5
}
