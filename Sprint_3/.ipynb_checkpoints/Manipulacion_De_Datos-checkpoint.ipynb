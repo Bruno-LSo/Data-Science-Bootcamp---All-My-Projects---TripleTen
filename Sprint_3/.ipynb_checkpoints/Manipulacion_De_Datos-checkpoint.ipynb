{
 "cells": [
  {
   "cell_type": "markdown",
   "id": "mhIvmmkW414q",
   "metadata": {
    "id": "mhIvmmkW414q"
   },
   "source": [
    "# Análise de Dados do Instacart\n",
    "\n",
    "## Introdução\n",
    "\n",
    "Este projeto visa analisar dados da Instacart, uma plataforma de entrega de supermercado, para extrair insights sobre comportamentos de compra dos clientes e padrões de pedidos. O conjunto de dados contém informações sobre pedidos, produtos, departamentos e histórico de compras dos clientes.\n",
    "\n",
    "### Objetivos\n",
    "- Analisar padrões temporais de pedidos\n",
    "- Identificar produtos mais populares e taxas de recompra\n",
    "- Entender comportamentos de compra dos clientes\n",
    "- Gerar insights acionáveis para o negócio\n",
    "\n",
    "### Estrutura do Projeto\n",
    "1. Preparação e Limpeza dos Dados\n",
    "2. Análise Exploratória\n",
    "3. Análise de Padrões de Compra\n",
    "4. Conclusões e Recomendações"
   ]
  },
  {
   "cell_type": "markdown",
   "id": "3MbyzpOQZ5Or",
   "metadata": {
    "id": "3MbyzpOQZ5Or"
   },
   "source": [
    "## Dicionário de dados\n",
    "\n",
    "Cinco tabelas principais compõem o dataset:\n",
    "\n",
    "- `instacart_orders.csv`: cada linha corresponde a um pedido no aplicativo da Instacart\n",
    "    - `'order_id'`: é o número de identificação unívoco de cada pedido\n",
    "    - `'user_id'`: é o número de identificação unívoco da conta de cada cliente\n",
    "    - `'order_number'`: é o número de vezes que o cliente fez um pedido\n",
    "    - `'order_dow'`: é o dia da semana em que o pedido foi feito (0 é domingo)\n",
    "    - `'order_hour_of_day'`: é a hora do dia em que o pedido foi feito\n",
    "    - `'days_since_prior_order'`: é o número de dias desde que o cliente fez seu pedido anterior\n",
    "\n",
    "\n",
    "\n",
    "\n",
    "- `products.csv`: cada linha corresponde a um produto unívoco que os clientes podem comprar\n",
    "    - `'product_id'`: é o número de identificação unívoco de cada produto\n",
    "    - `'product_name'`: é o nome do produto\n",
    "    - `'aisle_id'`: é o número de identificação unívoco de cada categoria de seção do supermercado\n",
    "    - `'department_id'`: é o número de identificação unívoco de cada categoria de departamento do supermercado\n",
    "\n",
    "\n",
    "\n",
    "\n",
    "-\t`order_products.csv`: cada linha corresponde a um item incluído em um pedido\n",
    "    -\t`'order_id'`: é o número de identificação unívoco de cada pedido\n",
    "    -\t`'product_id'`: é o número de identificação unívoco de cada produto\n",
    "    -\t`'add_to_cart_order'`: é a ordem sequencial em que cada item foi colocado no carrinho\n",
    "    -\t`'reordered'`: 0 se o cliente nunca comprou o produto antes, 1 se já o comprou\n",
    "\n",
    "\n",
    "\n",
    "\n",
    "-\t`aisles.csv`\n",
    "    -\t`'aisle_id'`: é o número de identificação unívoco de cada categoria de seção do supermercado\n",
    "    -\t`'aisle'`: é o nome da seção\n",
    "\n",
    "\n",
    "\n",
    "-\t`departments.csv`\n",
    "    -\t`'department_id'`: é o número de identificação unívoco de cada categoria de departamento do supermercado\n",
    "    -\t`'department'`: é o nome do departamento\n"
   ]
  },
  {
   "cell_type": "markdown",
   "id": "n3Ha_cNSZ8lK",
   "metadata": {
    "id": "n3Ha_cNSZ8lK"
   },
   "source": [
    "# Etapa 1: Visão Geral dos Dados\n",
    "\n",
    "## Plano de Análise\n",
    "1. Importar os dados usando pandas\n",
    "2. Examinar a estrutura básica de cada DataFrame\n",
    "3. Verificar tipos de dados e valores ausentes\n",
    "4. Identificar possíveis problemas nos dados\n",
    "\n",
    "## Carregamento dos Dados"
   ]
  },
  {
   "cell_type": "code",
   "execution_count": 4,
   "id": "fbf1adab",
   "metadata": {
    "id": "fbf1adab"
   },
   "outputs": [],
   "source": [
    "# Importe as bibliotecas - Para tratar os dados e criar gráficos!\n",
    "import pandas as pd\n",
    "from matplotlib import pyplot as plt\n",
    "import numpy as np"
   ]
  },
  {
   "cell_type": "code",
   "execution_count": 3,
   "id": "ad36396d",
   "metadata": {
    "id": "ad36396d"
   },
   "outputs": [],
   "source": [
    "# leia os conjuntos de dados em DataFrames - São 5 dataframes\n",
    "df_orders = pd.read_csv(\"datasets/instacart_orders.csv\", sep=';')\n",
    "df_products = pd.read_csv(\"datasets/products.csv\", sep=';')\n",
    "df_order_products = pd.read_csv(\"datasets/order_products.csv\", sep=';')\n",
    "df_aisles = pd.read_csv(\"datasets/aisles.csv\", sep=';')\n",
    "df_departments = pd.read_csv(\"datasets/departments.csv\", sep=';')"
   ]
  },
  {
   "cell_type": "code",
   "execution_count": 22,
   "id": "ad6a1efa",
   "metadata": {
    "id": "ad6a1efa"
   },
   "outputs": [
    {
     "name": "stdout",
     "output_type": "stream",
     "text": [
      "\n",
      "-----------------------\n",
      "Estrutura do DataFrame de Pedidos\n",
      "\n",
      "<class 'pandas.core.frame.DataFrame'>\n",
      "RangeIndex: 478967 entries, 0 to 478966\n",
      "Data columns (total 6 columns):\n",
      " #   Column                  Non-Null Count   Dtype  \n",
      "---  ------                  --------------   -----  \n",
      " 0   order_id                478967 non-null  int64  \n",
      " 1   user_id                 478967 non-null  int64  \n",
      " 2   order_number            478967 non-null  int64  \n",
      " 3   order_dow               478967 non-null  int64  \n",
      " 4   order_hour_of_day       478967 non-null  int64  \n",
      " 5   days_since_prior_order  450148 non-null  float64\n",
      "dtypes: float64(1), int64(5)\n",
      "memory usage: 21.9 MB\n",
      "\n",
      "-----------------------\n",
      "Primeiros registros:\n",
      "\n",
      "   order_id  user_id  order_number  order_dow  order_hour_of_day  \\\n",
      "0   1515936   183418            11          6                 13   \n",
      "1   1690866   163593             5          5                 12   \n",
      "2   1454967    39980             4          5                 19   \n",
      "3   1768857    82516            56          0                 20   \n",
      "4   3007858   196724             2          4                 12   \n",
      "\n",
      "   days_since_prior_order  \n",
      "0                    30.0  \n",
      "1                     9.0  \n",
      "2                     2.0  \n",
      "3                    10.0  \n",
      "4                    17.0  \n"
     ]
    }
   ],
   "source": [
    "# Examinando a estrutura do DataFrame orders\n",
    "print(\"\\n-----------------------\\nEstrutura do DataFrame de Pedidos\\n\")\n",
    "df_orders.info()\n",
    "print(\"\\n-----------------------\\nPrimeiros registros:\\n\")\n",
    "print(df_orders.head())"
   ]
  },
  {
   "cell_type": "markdown",
   "id": "1255d1f0-1a90-4a97-8d83-e837a5c276ec",
   "metadata": {},
   "source": [
    "### Análise do DataFrame Orders\n",
    "- Total de 478.967 registros\n",
    "- 6 colunas, sendo 5 inteiras e 1 float\n",
    "- Valores ausentes apenas na coluna 'days_since_prior_order' (28.819 registros)\n",
    "- Cada registro representa um pedido único com informações temporais e do cliente"
   ]
  },
  {
   "cell_type": "code",
   "execution_count": 23,
   "id": "5130e05e",
   "metadata": {
    "id": "5130e05e"
   },
   "outputs": [
    {
     "name": "stdout",
     "output_type": "stream",
     "text": [
      "\n",
      "-----------------------\n",
      "Estrutura do DataFrame de Produtos\n",
      "\n",
      "<class 'pandas.core.frame.DataFrame'>\n",
      "RangeIndex: 49694 entries, 0 to 49693\n",
      "Data columns (total 4 columns):\n",
      " #   Column         Non-Null Count  Dtype \n",
      "---  ------         --------------  ----- \n",
      " 0   product_id     49694 non-null  int64 \n",
      " 1   product_name   48436 non-null  object\n",
      " 2   aisle_id       49694 non-null  int64 \n",
      " 3   department_id  49694 non-null  int64 \n",
      "dtypes: int64(3), object(1)\n",
      "memory usage: 1.5+ MB\n",
      "\n",
      "-----------------------\n",
      "Primeiros registros:\n",
      "\n",
      "   product_id                                       product_name  aisle_id  \\\n",
      "0           1                         Chocolate Sandwich Cookies        61   \n",
      "1           2                                   All-Seasons Salt       104   \n",
      "2           3               Robust Golden Unsweetened Oolong Tea        94   \n",
      "3           4  Smart Ones Classic Favorites Mini Rigatoni Wit...        38   \n",
      "4           5                          Green Chile Anytime Sauce         5   \n",
      "\n",
      "   department_id  \n",
      "0             19  \n",
      "1             13  \n",
      "2              7  \n",
      "3              1  \n",
      "4             13  \n"
     ]
    }
   ],
   "source": [
    "# Examinando a estrutura do DataFrame products\n",
    "print(\"\\n-----------------------\\nEstrutura do DataFrame de Produtos\\n\")\n",
    "df_products.info()\n",
    "print(\"\\n-----------------------\\nPrimeiros registros:\\n\")\n",
    "print(df_products.head())"
   ]
  },
  {
   "cell_type": "markdown",
   "id": "f099d9e3-daa7-4085-86f7-0a2d0ca1ba6c",
   "metadata": {},
   "source": [
    "### Análise do DataFrame Products\n",
    "- 49.694 produtos cadastrados\n",
    "- 4 colunas: product_id, product_name, aisle_id, department_id\n",
    "- 1.258 produtos sem nome registrado\n",
    "- Todos os IDs (produto, seção e departamento) estão preenchidos"
   ]
  },
  {
   "cell_type": "code",
   "execution_count": 24,
   "id": "d8370c05",
   "metadata": {
    "id": "d8370c05"
   },
   "outputs": [
    {
     "name": "stdout",
     "output_type": "stream",
     "text": [
      "\n",
      "-----------------------\n",
      "Estrutura do DataFrame de Itens em Pedidos\n",
      "\n",
      "<class 'pandas.core.frame.DataFrame'>\n",
      "RangeIndex: 4545007 entries, 0 to 4545006\n",
      "Data columns (total 4 columns):\n",
      " #   Column             Dtype  \n",
      "---  ------             -----  \n",
      " 0   order_id           int64  \n",
      " 1   product_id         int64  \n",
      " 2   add_to_cart_order  float64\n",
      " 3   reordered          int64  \n",
      "dtypes: float64(1), int64(3)\n",
      "memory usage: 138.7 MB\n",
      "\n",
      "-----------------------\n",
      "Primeiros registros:\n",
      "\n",
      "    order_id  product_id  add_to_cart_order  reordered\n",
      "0    2141543       11440               17.0          0\n",
      "1     567889        1560                1.0          1\n",
      "2    2261212       26683                1.0          1\n",
      "3     491251        8670               35.0          1\n",
      "4    2571142        1940                5.0          1\n",
      "5    2456893       21616                4.0          1\n",
      "6     644579       12341                5.0          1\n",
      "7    2231852       44925               10.0          1\n",
      "8    3185766       36259               14.0          1\n",
      "9     420019       23315                4.0          1\n",
      "10    925051        9421                2.0          1\n",
      "11     44064       22963               28.0          0\n",
      "12    522547       40571               10.0          1\n",
      "13   2475670       48520                3.0          0\n",
      "14   1961225       37553                1.0          1\n",
      "15   2397389        4321               16.0          1\n",
      "16    639939       10017                1.0          1\n",
      "17   1721072       24561                8.0          1\n",
      "18     89640       46692                7.0          0\n",
      "19   2500729       21616                5.0          1\n"
     ]
    }
   ],
   "source": [
    "# Examinando a estrutura do DataFrame order_products\n",
    "print(\"\\n-----------------------\\nEstrutura do DataFrame de Itens em Pedidos\\n\")\n",
    "df_order_products.info(verbose=True)\n",
    "print(\"\\n-----------------------\\nPrimeiros registros:\\n\")\n",
    "print(df_order_products.head(20))"
   ]
  },
  {
   "cell_type": "markdown",
   "id": "e116aec2-7eb2-4f1e-a37b-ec99c4ed57d7",
   "metadata": {},
   "source": [
    "### Análise do DataFrame Order_Products\n",
    "- 4.545.007 registros de itens em pedidos\n",
    "- 4 colunas: order_id, product_id, add_to_cart_order, reordered\n",
    "- 836 valores ausentes na coluna add_to_cart_order\n",
    "- Cada linha representa um item específico em um pedido"
   ]
  },
  {
   "cell_type": "code",
   "execution_count": 25,
   "id": "59e2090f",
   "metadata": {
    "id": "59e2090f"
   },
   "outputs": [
    {
     "name": "stdout",
     "output_type": "stream",
     "text": [
      "\n",
      "-----------------------\n",
      "Estrutura do DataFrame de Seções\n",
      "\n",
      "<class 'pandas.core.frame.DataFrame'>\n",
      "RangeIndex: 134 entries, 0 to 133\n",
      "Data columns (total 2 columns):\n",
      " #   Column    Non-Null Count  Dtype \n",
      "---  ------    --------------  ----- \n",
      " 0   aisle_id  134 non-null    int64 \n",
      " 1   aisle     134 non-null    object\n",
      "dtypes: int64(1), object(1)\n",
      "memory usage: 2.2+ KB\n",
      "\n",
      "-----------------------\n",
      "Primeiros registros:\n",
      "\n",
      "   aisle_id                       aisle\n",
      "0         1       prepared soups salads\n",
      "1         2           specialty cheeses\n",
      "2         3         energy granola bars\n",
      "3         4               instant foods\n",
      "4         5  marinades meat preparation\n"
     ]
    }
   ],
   "source": [
    "# Examinando a estrutura do DataFrame aisles\n",
    "print(\"\\n-----------------------\\nEstrutura do DataFrame de Seções\\n\")\n",
    "df_aisles.info()\n",
    "print(\"\\n-----------------------\\nPrimeiros registros:\\n\")\n",
    "print(df_aisles.head())"
   ]
  },
  {
   "cell_type": "markdown",
   "id": "ed70bd3a-adb5-4510-b08f-56eed36082ca",
   "metadata": {},
   "source": [
    "### Análise do DataFrame Aisles\n",
    "- 134 seções cadastradas\n",
    "- Dados completos, sem valores ausentes\n",
    "- Estrutura simples com ID e nome da seção"
   ]
  },
  {
   "cell_type": "code",
   "execution_count": 26,
   "id": "6fc81694",
   "metadata": {
    "id": "6fc81694"
   },
   "outputs": [
    {
     "name": "stdout",
     "output_type": "stream",
     "text": [
      "\n",
      "-----------------------\n",
      "Estrutura do DataFrame de Departamentos\n",
      "\n",
      "<class 'pandas.core.frame.DataFrame'>\n",
      "RangeIndex: 21 entries, 0 to 20\n",
      "Data columns (total 2 columns):\n",
      " #   Column         Non-Null Count  Dtype \n",
      "---  ------         --------------  ----- \n",
      " 0   department_id  21 non-null     int64 \n",
      " 1   department     21 non-null     object\n",
      "dtypes: int64(1), object(1)\n",
      "memory usage: 468.0+ bytes\n",
      "\n",
      "-----------------------\n",
      "Primeiros registros:\n",
      "\n",
      "   department_id department\n",
      "0              1     frozen\n",
      "1              2      other\n",
      "2              3     bakery\n",
      "3              4    produce\n",
      "4              5    alcohol\n"
     ]
    }
   ],
   "source": [
    "# Examinando a estrutura do DataFrame departments\n",
    "print(\"\\n-----------------------\\nEstrutura do DataFrame de Departamentos\\n\")\n",
    "df_departments.info()\n",
    "print(\"\\n-----------------------\\nPrimeiros registros:\\n\")\n",
    "print(df_departments.head())"
   ]
  },
  {
   "cell_type": "markdown",
   "id": "t75BD19oaR5f",
   "metadata": {
    "id": "t75BD19oaR5f"
   },
   "source": [
    "### Análise do DataFrame Departments\n",
    "- 21 departamentos cadastrados\n",
    "- Dados completos, sem valores ausentes\n",
    "- Estrutura simples com ID e nome do departamento"
   ]
  },
  {
   "cell_type": "markdown",
   "id": "e4a6e107-efd1-4409-b923-5445f5be1acb",
   "metadata": {},
   "source": [
    "## Conclusões da Análise Inicial\n",
    "1. **Integridade dos Dados**\n",
    "   - Estrutura relacional bem definida entre as tabelas\n",
    "   - Valores ausentes concentrados em colunas específicas\n",
    "   - Sistema de IDs consistente entre as tabelas\n",
    "\n",
    "2. **Pontos de Atenção**\n",
    "   - Tratamento necessário para valores ausentes em 'days_since_prior_order'\n",
    "   - Investigação dos produtos sem nome\n",
    "   - Análise da ordem de adição ao carrinho com valores ausentes"
   ]
  },
  {
   "cell_type": "markdown",
   "id": "8RJHqxVmaVsF",
   "metadata": {
    "id": "8RJHqxVmaVsF"
   },
   "source": [
    "# Etapa 2: Preparação de Dados\n",
    "\n",
    "## Plano de Processamento\n",
    "1. Verificar e tratar valores duplicados\n",
    "2. Identificar e tratar valores ausentes\n",
    "3. Validar tipos de dados"
   ]
  },
  {
   "cell_type": "markdown",
   "id": "f179f0a9",
   "metadata": {
    "id": "f179f0a9"
   },
   "source": [
    "### DataFrame `orders`"
   ]
  },
  {
   "cell_type": "code",
   "execution_count": 27,
   "id": "b99297a5-405a-463d-8535-9adc3da4ad74",
   "metadata": {
    "id": "b99297a5-405a-463d-8535-9adc3da4ad74"
   },
   "outputs": [
    {
     "name": "stdout",
     "output_type": "stream",
     "text": [
      "Número de valores duplicados: 15\n",
      "\n",
      "Registros duplicados:\n",
      "        order_id  user_id  order_number  order_dow  order_hour_of_day  \\\n",
      "145574    794638    50898            24          3                  2   \n",
      "223105   2160484   107525            16          3                  2   \n",
      "230807   1918001   188546            14          3                  2   \n",
      "266232   1782114   106752             1          3                  2   \n",
      "273805   1112182   202304            84          3                  2   \n",
      "284038   2845099    31189            11          3                  2   \n",
      "311713   1021560    53767             3          3                  2   \n",
      "321100    408114    68324             4          3                  2   \n",
      "323900   1919531   191501            32          3                  2   \n",
      "345917   2232988    82565             1          3                  2   \n",
      "371905    391768    57671            19          3                  2   \n",
      "394347    467134    63189            21          3                  2   \n",
      "411408   1286742   183220            48          3                  2   \n",
      "415163   2282673    86751            49          3                  2   \n",
      "441599   2125197    14050            48          3                  2   \n",
      "\n",
      "        days_since_prior_order  \n",
      "145574                     2.0  \n",
      "223105                    30.0  \n",
      "230807                    16.0  \n",
      "266232                     NaN  \n",
      "273805                     6.0  \n",
      "284038                     7.0  \n",
      "311713                     9.0  \n",
      "321100                    18.0  \n",
      "323900                     7.0  \n",
      "345917                     NaN  \n",
      "371905                    10.0  \n",
      "394347                     2.0  \n",
      "411408                     4.0  \n",
      "415163                     2.0  \n",
      "441599                     3.0  \n"
     ]
    }
   ],
   "source": [
    "# Verificação de duplicatas no DataFrame orders\n",
    "print('Número de valores duplicados:', df_orders.duplicated().sum())\n",
    "print('\\nRegistros duplicados:')\n",
    "print(df_orders[df_orders.duplicated()])"
   ]
  },
  {
   "cell_type": "markdown",
   "id": "PEkwUX_gvt5A",
   "metadata": {
    "id": "PEkwUX_gvt5A"
   },
   "source": [
    "Há linhas duplicadas? Se sim, o que elas têm em comum?\n",
    "Existem linhas duplicadas e em todas elas, os pedidos foram feitos às 2h da manhã nas quartas-feiras, o que pode ser observado na coluna 'order_hour_of_day' e na coluna 'order_dow', em que '0' significa domingo e dai em diante."
   ]
  },
  {
   "cell_type": "code",
   "execution_count": 28,
   "id": "0d44de5d",
   "metadata": {
    "id": "0d44de5d"
   },
   "outputs": [
    {
     "name": "stdout",
     "output_type": "stream",
     "text": [
      "Contagem de pedidos às 2h:\n",
      "order_id                  1004\n",
      "user_id                   1004\n",
      "order_number              1004\n",
      "order_dow                 1004\n",
      "order_hour_of_day         1004\n",
      "days_since_prior_order     941\n",
      "dtype: int64\n",
      "\n",
      "Distribuição de pedidos às 2h:\n",
      "order_id  user_id  order_number  order_dow  order_hour_of_day  days_since_prior_order\n",
      "1919531   191501   32            3          2                  7.0                       2\n",
      "467134    63189    21            3          2                  2.0                       2\n",
      "1918001   188546   14            3          2                  16.0                      2\n",
      "2282673   86751    49            3          2                  2.0                       2\n",
      "1021560   53767    3             3          2                  9.0                       2\n",
      "                                                                                        ..\n",
      "1198786   183503   16            1          2                  6.0                       1\n",
      "1203051   32927    15            6          2                  0.0                       1\n",
      "1204878   66134    9             0          2                  6.0                       1\n",
      "1211189   7300     5             3          2                  13.0                      1\n",
      "3419726   24929    17            6          2                  30.0                      1\n",
      "Name: count, Length: 928, dtype: int64\n"
     ]
    }
   ],
   "source": [
    "# Análise detalhada dos pedidos às 2h da manhã\n",
    "print('Contagem de pedidos às 2h:')\n",
    "print(df_orders[df_orders['order_hour_of_day'] == 2].count())\n",
    "print('\\nDistribuição de pedidos às 2h:')\n",
    "print(df_orders[df_orders['order_hour_of_day'] == 2].value_counts())"
   ]
  },
  {
   "cell_type": "markdown",
   "id": "vu2OWyoqwOx5",
   "metadata": {
    "id": "vu2OWyoqwOx5"
   },
   "source": [
    "### Análise de Duplicatas - DataFrame Orders\n",
    "O que esse resultado quer dizer?\n",
    "\n",
    "Temos informações insuficientes para dizer das causas desse problema, mas precisamos verificar a razão pela qual as duplicatas acontecem às quartas-feiras. Não podemos supor um ataque ou um erro pontual porque, apesar das duplicatas terem acontecido às quartas feiras, elas ocorreram em dias diferentes (percebido pela coluna 'days_since_prior_order'). Eu perguntaria para a empresa se algum processo eletronico é realizado nesse periodo toda quarta feira, como algum tipo de sincronização com banco de dados ou outro processo que possa ocasionar o erro."
   ]
  },
  {
   "cell_type": "code",
   "execution_count": 29,
   "id": "480563c7",
   "metadata": {
    "id": "480563c7"
   },
   "outputs": [
    {
     "name": "stdout",
     "output_type": "stream",
     "text": [
      "Número de duplicatas após tratamento: 0\n"
     ]
    }
   ],
   "source": [
    "# Remoção de duplicatas do DataFrame orders\n",
    "df_orders = df_orders.drop_duplicates().reset_index(drop=True)\n",
    "\n",
    "# Verificação pós-remoção\n",
    "print('Número de duplicatas após tratamento:', df_orders.duplicated().sum())"
   ]
  },
  {
   "cell_type": "markdown",
   "id": "5e8905ae",
   "metadata": {
    "id": "5e8905ae"
   },
   "source": [
    "### Conclusões:\n",
    "\n",
    "Haviam poucos pedidos duplicados, o que pode ocorrer por diversos motivos. Meu palpite é que haja algum tipo de problema de atualização de banco de dados cujo calendário envolva esse horário (duas da manhã) das quartas-feiras. Os dados foram tratados e o índice foi resetado conforme as boas práticas desse processo."
   ]
  },
  {
   "cell_type": "markdown",
   "id": "45e6bc46",
   "metadata": {
    "id": "45e6bc46"
   },
   "source": [
    "### DataFrame `products`"
   ]
  },
  {
   "cell_type": "code",
   "execution_count": 30,
   "id": "5f526b5b-8175-46fa-a0fd-441767d50e64",
   "metadata": {
    "id": "5f526b5b-8175-46fa-a0fd-441767d50e64"
   },
   "outputs": [
    {
     "name": "stdout",
     "output_type": "stream",
     "text": [
      "Número de duplicatas em products: 0\n",
      "\n",
      "Verificação por departamento:\n",
      "department_id\n",
      "1     4007\n",
      "2      547\n",
      "3     1515\n",
      "4     1683\n",
      "5     1053\n",
      "6     1138\n",
      "7     4365\n",
      "8      971\n",
      "9     1857\n",
      "10      37\n",
      "11    6563\n",
      "12     906\n",
      "13    5371\n",
      "14    1116\n",
      "15    2091\n",
      "16    3448\n",
      "17    3084\n",
      "18    1080\n",
      "19    6263\n",
      "20    1321\n",
      "21    1257\n",
      "Name: department_id, dtype: int64\n"
     ]
    }
   ],
   "source": [
    "# Verificação de duplicatas no DataFrame products\n",
    "print('Número de duplicatas em products:', df_products.duplicated().sum())\n",
    "print('\\nVerificação por departamento:')\n",
    "print(df_products[df_products['department_id'].duplicated()].groupby('department_id')['department_id'].count())"
   ]
  },
  {
   "cell_type": "markdown",
   "id": "83b8a33f-bb7f-4a10-91c1-bdc04fbee7f6",
   "metadata": {
    "id": "88daa4f4"
   },
   "source": [
    "### Análise de Duplicatas - DataFrame Products\n",
    "- Sem duplicatas completas de registros\n",
    "- Duplicatas de department_id são esperadas (produtos diferentes no mesmo departamento)\n",
    "- Nomes de produtos convertidos para minúsculas para padronização"
   ]
  },
  {
   "cell_type": "markdown",
   "id": "60f30db1",
   "metadata": {
    "id": "60f30db1"
   },
   "source": [
    "### DataFrame `departments`"
   ]
  },
  {
   "cell_type": "code",
   "execution_count": 31,
   "id": "fb410ad4-0fbf-4b80-bb09-23fdea79afe3",
   "metadata": {
    "id": "fb410ad4-0fbf-4b80-bb09-23fdea79afe3"
   },
   "outputs": [
    {
     "name": "stdout",
     "output_type": "stream",
     "text": [
      "Número de duplicatas em departments: 0\n",
      "\n",
      "Registros duplicados:\n",
      "Empty DataFrame\n",
      "Columns: [department_id, department]\n",
      "Index: []\n"
     ]
    }
   ],
   "source": [
    "# Verificação de duplicatas no DataFrame departments\n",
    "print('Número de duplicatas em departments:', df_departments.duplicated().sum())\n",
    "print('\\nRegistros duplicados:')\n",
    "print(df_departments[df_departments.duplicated()])"
   ]
  },
  {
   "cell_type": "code",
   "execution_count": 32,
   "id": "332b12bb",
   "metadata": {
    "id": "332b12bb"
   },
   "outputs": [
    {
     "name": "stdout",
     "output_type": "stream",
     "text": [
      "\n",
      "Verificação de IDs únicos:\n",
      "[ 1  2  3  4  5  6  7  8  9 10 11 12 13 14 15 16 17 18 19 20 21]\n",
      "\n",
      "Total de departamentos únicos: 21\n"
     ]
    }
   ],
   "source": [
    "# Análise detalhada dos IDs\n",
    "print('\\nVerificação de IDs únicos:')\n",
    "print(df_departments['department_id'].unique())\n",
    "print('\\nTotal de departamentos únicos:', df_departments['department_id'].nunique())"
   ]
  },
  {
   "cell_type": "markdown",
   "id": "bd30d78e",
   "metadata": {
    "id": "bd30d78e"
   },
   "source": [
    "### Análise de Duplicatas - DataFrame Departments\n",
    "- Sem duplicatas identificadas\n",
    "- 21 departamentos únicos\n",
    "- IDs sequenciais e bem estruturados (1-21)"
   ]
  },
  {
   "cell_type": "markdown",
   "id": "889349c1",
   "metadata": {
    "id": "889349c1"
   },
   "source": [
    "### DataFrame `aisles`"
   ]
  },
  {
   "cell_type": "code",
   "execution_count": 33,
   "id": "9da89fb9-4679-40f5-ad0d-c34df753a3f8",
   "metadata": {
    "id": "9da89fb9-4679-40f5-ad0d-c34df753a3f8"
   },
   "outputs": [
    {
     "name": "stdout",
     "output_type": "stream",
     "text": [
      "Número de duplicatas em aisles: 0\n",
      "\n",
      "Registros duplicados:\n",
      "Empty DataFrame\n",
      "Columns: [aisle_id, aisle]\n",
      "Index: []\n"
     ]
    }
   ],
   "source": [
    "# Verificação de duplicatas no DataFrame aisles\n",
    "print('Número de duplicatas em aisles:', df_aisles.duplicated().sum())\n",
    "print('\\nRegistros duplicados:')\n",
    "print(df_aisles[df_aisles.duplicated()])"
   ]
  },
  {
   "cell_type": "code",
   "execution_count": 34,
   "id": "da7c2822",
   "metadata": {
    "id": "da7c2822"
   },
   "outputs": [
    {
     "name": "stdout",
     "output_type": "stream",
     "text": [
      "\n",
      "Total de seções únicas: 134\n"
     ]
    }
   ],
   "source": [
    "# Análise de IDs únicos\n",
    "print('\\nTotal de seções únicas:', df_aisles['aisle_id'].nunique())"
   ]
  },
  {
   "cell_type": "markdown",
   "id": "ac63826f",
   "metadata": {
    "id": "ac63826f"
   },
   "source": [
    "### Análise de Duplicatas - DataFrame Aisles\n",
    "- Sem duplicatas identificadas\n",
    "- 134 seções únicas\n",
    "- Estrutura de dados íntegra"
   ]
  },
  {
   "cell_type": "markdown",
   "id": "274cd06a",
   "metadata": {
    "id": "274cd06a"
   },
   "source": [
    "### DataFrame `order_products`"
   ]
  },
  {
   "cell_type": "code",
   "execution_count": 35,
   "id": "52326689-84a8-4b8f-a881-7c68780f62c9",
   "metadata": {
    "id": "52326689-84a8-4b8f-a881-7c68780f62c9"
   },
   "outputs": [
    {
     "name": "stdout",
     "output_type": "stream",
     "text": [
      "Número de duplicatas em order_products: 0\n",
      "\n",
      "Registros duplicados:\n",
      "Empty DataFrame\n",
      "Columns: [order_id, product_id, add_to_cart_order, reordered]\n",
      "Index: []\n"
     ]
    }
   ],
   "source": [
    "# Verificação de duplicatas no DataFrame order_products\n",
    "print('Número de duplicatas em order_products:', df_order_products.duplicated().sum())\n",
    "print('\\nRegistros duplicados:')\n",
    "print(df_order_products[df_order_products.duplicated(subset=['order_id','product_id'])])\n"
   ]
  },
  {
   "cell_type": "code",
   "execution_count": 36,
   "id": "7b861391",
   "metadata": {
    "id": "7b861391"
   },
   "outputs": [
    {
     "name": "stdout",
     "output_type": "stream",
     "text": [
      "\n",
      "Análise dos IDs de pedidos:\n",
      "Valores únicos: [2141543  567889 2261212 ...  812418 2666881 1461911]\n",
      "\n",
      "Total de pedidos únicos: 450046\n",
      "\n",
      "Análise dos IDs de produtos:\n",
      "Valores únicos: [11440  1560 26683 ... 49153  8182 40024]\n",
      "\n",
      "Total de produtos únicos: 45573\n"
     ]
    }
   ],
   "source": [
    "# Análise de valores únicos\n",
    "print('\\nAnálise dos IDs de pedidos:')\n",
    "print('Valores únicos:', df_order_products['order_id'].unique())\n",
    "print('\\nTotal de pedidos únicos:', df_order_products['order_id'].nunique())\n",
    "\n",
    "print('\\nAnálise dos IDs de produtos:')\n",
    "print('Valores únicos:', df_order_products['product_id'].unique())\n",
    "print('\\nTotal de produtos únicos:', df_order_products['product_id'].nunique())"
   ]
  },
  {
   "cell_type": "markdown",
   "id": "0b890492",
   "metadata": {
    "id": "0b890492"
   },
   "source": [
    "### Análise de Duplicatas - DataFrame Order_Products\n",
    "- Sem duplicatas diretas identificadas\n",
    "- 450.046 pedidos únicos\n",
    "- 45.573 produtos únicos em pedidos\n",
    "- Situação complexa devido à natureza dos dados:\n",
    "  - Um pedido pode conter vários produtos\n",
    "  - Um produto pode aparecer em múltiplos pedidos\n",
    "  - Duplicatas de combinações order_id/product_id são importantes para análise de recompra"
   ]
  },
  {
   "cell_type": "markdown",
   "id": "1e46de76",
   "metadata": {
    "id": "1e46de76"
   },
   "source": [
    "## Encontrar e remover valores ausentes\n",
    "\n",
    "Identificamos valores ausentes nas seguintes colunas:\n",
    "- Coluna 'product_name' na tabela products\n",
    "- Coluna 'days_since_prior_order' na tabela orders\n",
    "- Coluna 'add_to_cart_order' na tabela order_products\n"
   ]
  },
  {
   "cell_type": "markdown",
   "id": "c0aebd78",
   "metadata": {
    "id": "c0aebd78"
   },
   "source": [
    "### DataFrame `products`"
   ]
  },
  {
   "cell_type": "code",
   "execution_count": 37,
   "id": "fe4a8b0f",
   "metadata": {
    "id": "fe4a8b0f"
   },
   "outputs": [
    {
     "name": "stdout",
     "output_type": "stream",
     "text": [
      "Verificando ausentes no DataFrame products:\n",
      "product_id          0\n",
      "product_name     1258\n",
      "aisle_id            0\n",
      "department_id       0\n",
      "dtype: int64\n",
      "\n",
      "Verificando ausentes na coluna \"product_name\":\n",
      "1258\n"
     ]
    }
   ],
   "source": [
    "# Análise de valores ausentes no DataFrame products\n",
    "print('Verificando ausentes no DataFrame products:')\n",
    "print(df_products.isna().sum())\n",
    "print('\\nVerificando ausentes na coluna \"product_name\":')\n",
    "print(df_products['product_name'].isna().sum())"
   ]
  },
  {
   "cell_type": "markdown",
   "id": "-A6x1AbJhjkp",
   "metadata": {
    "id": "-A6x1AbJhjkp"
   },
   "source": [
    "### Análise de Valores Ausentes - DataFrame Products\n",
    "- 1.258 produtos sem nome registrado\n",
    "- Demais colunas completamente preenchidas"
   ]
  },
  {
   "cell_type": "code",
   "execution_count": 38,
   "id": "e96167bc",
   "metadata": {
    "id": "e96167bc"
   },
   "outputs": [
    {
     "name": "stdout",
     "output_type": "stream",
     "text": [
      "37       100\n",
      "71       100\n",
      "109      100\n",
      "296      100\n",
      "416      100\n",
      "        ... \n",
      "49552    100\n",
      "49574    100\n",
      "49640    100\n",
      "49663    100\n",
      "49668    100\n",
      "Name: aisle_id, Length: 1258, dtype: int64\n"
     ]
    }
   ],
   "source": [
    "# Verificação de produtos sem nome por seção\n",
    "secao_produtos_sem_nome = df_products.loc[df_products['product_name'].isna(), 'aisle_id']\n",
    "print(secao_produtos_sem_nome)\n"
   ]
  },
  {
   "cell_type": "code",
   "execution_count": 39,
   "id": "8fd0a541",
   "metadata": {
    "id": "8fd0a541"
   },
   "outputs": [
    {
     "name": "stdout",
     "output_type": "stream",
     "text": [
      "37       21\n",
      "71       21\n",
      "109      21\n",
      "296      21\n",
      "416      21\n",
      "         ..\n",
      "49552    21\n",
      "49574    21\n",
      "49640    21\n",
      "49663    21\n",
      "49668    21\n",
      "Name: department_id, Length: 1258, dtype: int64\n"
     ]
    }
   ],
   "source": [
    "# Verificação de produtos sem nome por departamento\n",
    "departamento_produtos_sem_nome = df_products.loc[df_products['product_name'].isna(), 'department_id']\n",
    "print(departamento_produtos_sem_nome)"
   ]
  },
  {
   "cell_type": "code",
   "execution_count": 40,
   "id": "c09a2451-31bb-4705-a857-27bdd0a41fcf",
   "metadata": {},
   "outputs": [
    {
     "name": "stdout",
     "output_type": "stream",
     "text": [
      "Tabela de departamentos\n",
      "    department_id department\n",
      "20             21    missing\n",
      "\n",
      "Tabela de seções\n",
      "    aisle_id    aisle\n",
      "99       100  missing\n"
     ]
    }
   ],
   "source": [
    "# Verificação das seções e departamentos afetados\n",
    "print('Tabela de departamentos')\n",
    "print(df_departments[df_departments['department_id']== 21])\n",
    "print('\\nTabela de seções')\n",
    "print(df_aisles[df_aisles['aisle_id']== 100])\n",
    "\n",
    "# Tratamento dos valores ausentes\n",
    "df_departments['department'] = df_departments['department'].replace('missing', np.nan).fillna('Unknown')\n",
    "df_aisles['aisle'] = df_aisles['aisle'].fillna('Unknown')"
   ]
  },
  {
   "cell_type": "markdown",
   "id": "feaefec3",
   "metadata": {},
   "source": [
    "### Conclusões sobre Valores Ausentes no DataFrame Products\n",
    "- Valores ausentes concentrados na seção 100 e departamento 21\n",
    "- Seção e departamento marcados como \"Unknown\" após tratamento\n",
    "- Padrão sistemático sugere possível problema de integração de dados\n",
    "- Por meio dessa tabela não temos acesso ao nome dessa seção e desse departamento.\n"
   ]
  },
  {
   "cell_type": "markdown",
   "id": "7eb45c86",
   "metadata": {
    "id": "7eb45c86"
   },
   "source": [
    "### DataFrame `orders`"
   ]
  },
  {
   "cell_type": "code",
   "execution_count": 41,
   "id": "93e41d96",
   "metadata": {
    "id": "93e41d96"
   },
   "outputs": [
    {
     "name": "stdout",
     "output_type": "stream",
     "text": [
      "Verificando ausentes no DataFrame orders:\n",
      "order_id                      0\n",
      "user_id                       0\n",
      "order_number                  0\n",
      "order_dow                     0\n",
      "order_hour_of_day             0\n",
      "days_since_prior_order    28817\n",
      "dtype: int64\n"
     ]
    }
   ],
   "source": [
    "# Análise de valores ausentes no DataFrame orders\n",
    "print('Verificando ausentes no DataFrame orders:')\n",
    "print(df_orders.isna().sum())"
   ]
  },
  {
   "cell_type": "code",
   "execution_count": 42,
   "id": "166e5a86",
   "metadata": {
    "id": "166e5a86"
   },
   "outputs": [
    {
     "name": "stdout",
     "output_type": "stream",
     "text": [
      "Pedidos não iniciais com valores ausentes:\n",
      "Empty DataFrame\n",
      "Columns: [order_id, user_id, order_number, order_dow, order_hour_of_day, days_since_prior_order]\n",
      "Index: []\n"
     ]
    }
   ],
   "source": [
    "# Verificação de valores ausentes em pedidos não iniciais\n",
    "pedido_sem_cliente = df_orders[(df_orders['days_since_prior_order'].isna()) & (df_orders['order_number'] > 1)]\n",
    "print('Pedidos não iniciais com valores ausentes:')\n",
    "print(pedido_sem_cliente)"
   ]
  },
  {
   "cell_type": "markdown",
   "id": "4e23d089",
   "metadata": {
    "id": "4e23d089"
   },
   "source": [
    "### Análise de Valores Ausentes - DataFrame Orders\n",
    "- 28.817 valores ausentes em 'days_since_prior_order'\n",
    "- Valores ausentes aparecem apenas em primeiros pedidos\n",
    "- Comportamento esperado já que não há pedido anterior para primeiras compras"
   ]
  },
  {
   "cell_type": "markdown",
   "id": "69dc9ca4",
   "metadata": {
    "id": "69dc9ca4"
   },
   "source": [
    "### DataFrame `order_products`"
   ]
  },
  {
   "cell_type": "code",
   "execution_count": 43,
   "id": "b8240253",
   "metadata": {
    "id": "b8240253"
   },
   "outputs": [
    {
     "name": "stdout",
     "output_type": "stream",
     "text": [
      "Verificando ausentes no DataFrame order_products:\n",
      "order_id               0\n",
      "product_id             0\n",
      "add_to_cart_order    836\n",
      "reordered              0\n",
      "dtype: int64\n"
     ]
    }
   ],
   "source": [
    "# Análise de valores ausentes no DataFrame order_products\n",
    "print('Verificando ausentes no DataFrame order_products:')\n",
    "print(df_order_products.isna().sum())"
   ]
  },
  {
   "cell_type": "code",
   "execution_count": 44,
   "id": "9a78e5ee",
   "metadata": {
    "id": "9a78e5ee"
   },
   "outputs": [
    {
     "name": "stdout",
     "output_type": "stream",
     "text": [
      "Valores mínimos da coluna \"add_to_cart_order\"\n",
      "1.0\n",
      "\n",
      "Valores máximos da coluna \"add_to_cart_order\"\n",
      "64.0\n"
     ]
    }
   ],
   "source": [
    "# Análise dos valores na coluna add_to_cart_order\n",
    "print('Valores mínimos da coluna \"add_to_cart_order\"')\n",
    "print(df_order_products['add_to_cart_order'].min())\n",
    "print('\\nValores máximos da coluna \"add_to_cart_order\"')\n",
    "print(df_order_products['add_to_cart_order'].max())"
   ]
  },
  {
   "cell_type": "code",
   "execution_count": 48,
   "id": "ab9d0c2b",
   "metadata": {
    "id": "ab9d0c2b"
   },
   "outputs": [
    {
     "name": "stdout",
     "output_type": "stream",
     "text": [
      "Produtos com ordem de adição ausente:\n",
      "Series([], Name: product_id, dtype: int64)\n"
     ]
    }
   ],
   "source": [
    "# Verificação de produtos com ordem de adição ausente\n",
    "ids_valores_ausentes = df_order_products.loc[df_order_products['add_to_cart_order'].isna(), 'product_id']\n",
    "print('Produtos com ordem de adição ausente:')\n",
    "print(ids_valores_ausentes)\n",
    "\n",
    "# Tratamento dos valores ausentes\n",
    "df_order_products.fillna({'add_to_cart_order': 999}, inplace=True)\n",
    "df_order_products['add_to_cart_order'] = df_order_products['add_to_cart_order'].astype(int)"
   ]
  },
  {
   "cell_type": "markdown",
   "id": "p9V6pddtjglj",
   "metadata": {
    "id": "p9V6pddtjglj"
   },
   "source": [
    "### Análise de Valores Ausentes - DataFrame Order_Products\n",
    "- 836 valores ausentes em 'add_to_cart_order'\n",
    "- Ordem de adição varia de 1 a 64 produtos por pedido\n",
    "- Valores ausentes substituídos por 999 para identificação em análises futuras\n",
    "\n",
    "## Conclusões Gerais do Tratamento de Dados\n",
    "1. **Valores Ausentes**\n",
    "   - Identificados e tratados em três DataFrames principais\n",
    "   - Tratamentos específicos aplicados para cada caso\n",
    "   - Mantida rastreabilidade dos dados tratados\n",
    "\n",
    "2. **Impacto na Análise**\n",
    "   - Dados mantêm coerência para análises posteriores\n",
    "   - Tratamentos não comprometem integridade das relações\n",
    "   - Valores substitutos escolhidos para facilitar identificação"
   ]
  },
  {
   "cell_type": "markdown",
   "id": "UjrOIwTcz3ri",
   "metadata": {
    "id": "UjrOIwTcz3ri"
   },
   "source": [
    "# Etapa 3: Análise de Dados\n",
    "\n",
    "## A. Análise Básica\n",
    "\n",
    "### 1. Verificação dos valores nas colunas temporais"
   ]
  },
  {
   "cell_type": "code",
   "execution_count": 49,
   "id": "growing-fruit",
   "metadata": {
    "id": "growing-fruit"
   },
   "outputs": [
    {
     "name": "stdout",
     "output_type": "stream",
     "text": [
      "Valor mínimo da coluna \"order_hour_of_day\": 0\n",
      "Valor máximo da coluna \"order_hour_of_day\": 23\n"
     ]
    }
   ],
   "source": [
    "# Verificação dos valores em order_hour_of_day\n",
    "print('Valor mínimo da coluna \"order_hour_of_day\":', df_orders['order_hour_of_day'].min())\n",
    "print('Valor máximo da coluna \"order_hour_of_day\":', df_orders['order_hour_of_day'].max())"
   ]
  },
  {
   "cell_type": "code",
   "execution_count": 50,
   "id": "accessory-malaysia",
   "metadata": {
    "id": "accessory-malaysia"
   },
   "outputs": [
    {
     "name": "stdout",
     "output_type": "stream",
     "text": [
      "Valor mínimo da coluna \"order_dow\": 0\n",
      "Valor máximo da coluna \"order_dow\": 6\n"
     ]
    }
   ],
   "source": [
    "# Verificação dos valores em order_dow\n",
    "print('Valor mínimo da coluna \"order_dow\":', df_orders['order_dow'].min())\n",
    "print('Valor máximo da coluna \"order_dow\":', df_orders['order_dow'].max())"
   ]
  },
  {
   "cell_type": "markdown",
   "id": "hmR2GNQ6lCsX",
   "metadata": {
    "id": "hmR2GNQ6lCsX"
   },
   "source": [
    "### Análise de Valores Temporais\n",
    "- Horas do dia: variam de 0 a 23 (24 horas)\n",
    "- Dias da semana: variam de 0 a 6 (domingo a sábado)\n",
    "- Dados temporais consistentes e dentro dos intervalos esperados"
   ]
  },
  {
   "cell_type": "markdown",
   "id": "a6743a70",
   "metadata": {
    "id": "a6743a70"
   },
   "source": [
    "### [A2] Quantas pessoas fazem pedidos a cada hora do dia?"
   ]
  },
  {
   "cell_type": "code",
   "execution_count": 51,
   "id": "a36cca27",
   "metadata": {
    "id": "a36cca27"
   },
   "outputs": [
    {
     "data": {
      "image/png": "[encoded data removed]",
      "text/plain": [
       "<Figure size 1000x600 with 1 Axes>"
      ]
     },
     "metadata": {},
     "output_type": "display_data"
    }
   ],
   "source": [
    "# Análise de pedidos por hora do dia\n",
    "cliente_por_horario = df_orders.groupby('order_hour_of_day')['user_id'].nunique()\n",
    "\n",
    "# Visualização através de gráfico de barras\n",
    "plt.figure(figsize=(10, 6))\n",
    "plt.bar(cliente_por_horario.index, cliente_por_horario.values, color='skyblue', edgecolor='black')\n",
    "plt.title('Número de Usuários por Hora do Dia')\n",
    "plt.xlabel('Hora do dia (0-23)')\n",
    "plt.ylabel('Número de usuários')\n",
    "plt.grid(True, alpha=0.3)\n",
    "plt.show()"
   ]
  },
  {
   "cell_type": "markdown",
   "id": "11270eed",
   "metadata": {
    "id": "11270eed"
   },
   "source": [
    "### Análise do gráfico \"Número de Usuários por Hora do Dia\":\n",
    "\n",
    "- O período onde as vendas atingem o pico é das 10h às 15h.\n",
    "- O dia da semana em que ocorrem mais compras é o domingo.\n",
    "- A Maioria dos usuários demora 30 dias para realizar nova compra."
   ]
  },
  {
   "cell_type": "markdown",
   "id": "documented-command",
   "metadata": {
    "id": "documented-command"
   },
   "source": [
    "### [A3] Em que dia da semana as pessoas fazem compras?"
   ]
  },
  {
   "cell_type": "code",
   "execution_count": 52,
   "id": "chief-digit",
   "metadata": {
    "id": "chief-digit"
   },
   "outputs": [
    {
     "data": {
      "image/png": "[encoded data removed]",
      "text/plain": [
       "<Figure size 1000x600 with 1 Axes>"
      ]
     },
     "metadata": {},
     "output_type": "display_data"
    }
   ],
   "source": [
    "# Análise de pedidos por dia da semana\n",
    "cliente_por_dia_da_semana = df_orders.groupby('order_dow')['user_id'].nunique()\n",
    "\n",
    "# Visualização através de gráfico de barras\n",
    "plt.figure(figsize=(10, 6))\n",
    "plt.bar(cliente_por_dia_da_semana.index, cliente_por_dia_da_semana.values, color='skyblue', edgecolor='black')\n",
    "plt.title('Número de Usuários por Dia da Semana')\n",
    "plt.xlabel('Dia da Semana (0=Domingo)')\n",
    "plt.ylabel('Número de usuários')\n",
    "plt.grid(True, alpha=0.3)\n",
    "plt.show()"
   ]
  },
  {
   "cell_type": "markdown",
   "id": "dominant-lightning",
   "metadata": {
    "id": "dominant-lightning"
   },
   "source": [
    "### Análise do gráfico \"Número de Usuários por Dia da Semana\":\n",
    "- O dia da semana em que ocorrem mais compras é o domingo"
   ]
  },
  {
   "cell_type": "markdown",
   "id": "cutting-concert",
   "metadata": {
    "id": "cutting-concert"
   },
   "source": [
    "### [A4] Quanto tempo as pessoas esperam até fazer outro pedido?"
   ]
  },
  {
   "cell_type": "code",
   "execution_count": 53,
   "id": "gMOIimGd5VNb",
   "metadata": {
    "id": "gMOIimGd5VNb"
   },
   "outputs": [
    {
     "data": {
      "image/png": "[encoded data removed]",
      "text/plain": [
       "<Figure size 1000x600 with 1 Axes>"
      ]
     },
     "metadata": {},
     "output_type": "display_data"
    }
   ],
   "source": [
    "# Análise do tempo entre pedidos\n",
    "espera_ate_proxima_compra = df_orders.groupby('days_since_prior_order')['user_id'].nunique()\n",
    "\n",
    "# Visualização através de gráfico de barras\n",
    "plt.figure(figsize=(10, 6))\n",
    "plt.bar(espera_ate_proxima_compra.index, espera_ate_proxima_compra.values, color='skyblue', edgecolor='black')\n",
    "plt.title('Intervalo entre Pedidos')\n",
    "plt.xlabel('Dias até o próximo pedido')\n",
    "plt.ylabel('Número de usuários')\n",
    "plt.grid(True, alpha=0.3)\n",
    "plt.show()"
   ]
  },
  {
   "cell_type": "markdown",
   "id": "a4abd0d5-1748-4682-902b-98bc93099f6a",
   "metadata": {},
   "source": [
    "## Conclusões da Análise Básica\n",
    "\n",
    "1. **Padrões Temporais**\n",
    "   - Pico de pedidos entre 10h e 15h\n",
    "   - Maior volume aos domingos\n",
    "   - Maioria dos usuários realiza novo pedido em 30 dias\n",
    "\n",
    "2. **Insights Operacionais**\n",
    "   - Necessidade de maior capacidade operacional no horário de pico\n",
    "   - Planejamento especial para domingos\n",
    "   - Oportunidade para estimular recompras antes dos 30 dias"
   ]
  },
  {
   "cell_type": "markdown",
   "id": "tight-staff",
   "metadata": {
    "id": "tight-staff"
   },
   "source": [
    "## B. Análise Intermediária\n",
    "\n",
    "### 1. Comparação de pedidos entre quartas e sábados"
   ]
  },
  {
   "cell_type": "code",
   "execution_count": 54,
   "id": "d89b8403",
   "metadata": {
    "id": "d89b8403"
   },
   "outputs": [
    {
     "data": {
      "image/png": "[encoded data removed]",
      "text/plain": [
       "<Figure size 2000x600 with 2 Axes>"
      ]
     },
     "metadata": {},
     "output_type": "display_data"
    }
   ],
   "source": [
    "# Filtrar dados para quartas-feiras (order_dow = 3)\n",
    "quarta_orders = df_orders[df_orders['order_dow'] == 3]\n",
    "quarta_contagem_por_hora = quarta_orders.groupby('order_hour_of_day')['order_id'].count()\n",
    "\n",
    "# Filtrar dados para sábados (order_dow = 6)\n",
    "sabado_orders = df_orders[df_orders['order_dow'] == 6]\n",
    "sabado_contagem_por_hora = sabado_orders.groupby('order_hour_of_day')['order_id'].count()\n",
    "\n",
    "# Criar gráficos comparativos\n",
    "fig, ax = plt.subplots(1, 2, figsize=(20, 6))\n",
    "\n",
    "# Gráfico de quartas-feiras\n",
    "df_quarta = pd.DataFrame({'Hora do dia': quarta_contagem_por_hora.index, \n",
    "                         'Número de Pedidos': quarta_contagem_por_hora.values})\n",
    "df_quarta.plot(ax=ax[0], x='Hora do dia', y='Número de Pedidos',\n",
    "               title='Pedidos por Hora nas Quartas-Feiras',\n",
    "               kind='bar', xlabel='Hora do Dia (0-23)',\n",
    "               ylabel='Número de Pedidos', grid=True)\n",
    "ax[0].set_xticklabels(df_quarta['Hora do dia'], rotation=0)\n",
    "\n",
    "# Gráfico de sábados\n",
    "df_sabado = pd.DataFrame({'Hora do dia': sabado_contagem_por_hora.index,\n",
    "                         'Número de Pedidos': sabado_contagem_por_hora.values})\n",
    "df_sabado.plot(ax=ax[1], x='Hora do dia', y='Número de Pedidos',\n",
    "               title='Pedidos por Hora nos Sábados',\n",
    "               kind='bar', xlabel='Hora do Dia (0-23)',\n",
    "               ylabel='Número de Pedidos', grid=True)\n",
    "ax[1].set_xticklabels(df_sabado['Hora do dia'], rotation=0)\n",
    "\n",
    "plt.tight_layout()\n",
    "plt.show()"
   ]
  },
  {
   "cell_type": "markdown",
   "id": "charitable-congo",
   "metadata": {
    "id": "charitable-congo"
   },
   "source": [
    "### Análise Comparativa Quarta vs Sábado\n",
    "- Quartas-feiras: pico de pedidos mais acentuado no horário comercial\n",
    "- Sábados: distribuição mais uniforme ao longo do dia\n",
    "- Diferença reflete padrões distintos de comportamento entre dias úteis e fim de semana"
   ]
  },
  {
   "cell_type": "markdown",
   "id": "e3891143",
   "metadata": {
    "id": "e3891143"
   },
   "source": [
    "###  Qual é a distribuição do número de pedidos por cliente?"
   ]
  },
  {
   "cell_type": "code",
   "execution_count": 55,
   "id": "d8c26c23",
   "metadata": {
    "id": "d8c26c23"
   },
   "outputs": [
    {
     "data": {
      "image/png": "[encoded data removed]",
      "text/plain": [
       "<Figure size 1000x600 with 1 Axes>"
      ]
     },
     "metadata": {},
     "output_type": "display_data"
    }
   ],
   "source": [
    "# Análise da distribuição de pedidos por cliente\n",
    "contagem_pedidos_por_cliente = df_orders.groupby('user_id').size()\n",
    "\n",
    "# Visualização da distribuição\n",
    "plt.figure(figsize=(10, 6))\n",
    "plt.hist(contagem_pedidos_por_cliente, bins=range(1, contagem_pedidos_por_cliente.max()+1), \n",
    "         color='skyblue', edgecolor='black')\n",
    "plt.title('Distribuição do Número de Pedidos por Cliente')\n",
    "plt.xlabel('Número de Pedidos')\n",
    "plt.ylabel('Quantidade de Usuários')\n",
    "plt.grid(True)\n",
    "plt.axvline(x=5, color='red', linestyle='--', label='1-5 pedidos')\n",
    "plt.axvline(x=10, color='yellow', linestyle='--', label='5-10 pedidos')\n",
    "plt.axvline(x=15, color='green', linestyle='--', label='10-15 pedidos')\n",
    "plt.legend()\n",
    "plt.show()\n",
    "\n"
   ]
  },
  {
   "cell_type": "markdown",
   "id": "d2eff7d5",
   "metadata": {
    "id": "d2eff7d5"
   },
   "source": [
    "### Análise do gráfico \"Distribuição do Número de Pedidos por Cliente\"\n",
    "\n",
    "- Clientes com um único pedido representam a maior categoria individual, com 55.357 usuários. Esse número indica clientes que podem ter experimentado o serviço ou produto uma vez, mas não retornaram. Isso pode ser devido a alguma estratégia bem feita para primeira compra, mas indica tambem que a empresa necessita reter esses clientes, pois temos um declínio rápido nas frequências de compras. À medida que o número de pedidos aumenta, a quantidade de usuários em cada categoria diminui vertiginosamente.\n",
    "- Há um pequeníssimo número de usuários com muitos pedidos (26 a 28 pedidos), o que pode indicar clientes altamente leais ou talvez grandes consumidores. Estes clientes são extremamente valiosos e podem ser o foco de programas de fidelidade ou ofertas especiais para manter sua lealdade.\n",
    "- A faixa de 1 a 5 pedidos é onde encontramos a maior concentração de pedidos e após essa faixa, percebemos um declinio considerável nas faixas subsequentes de maneira que ao chegarmos no vigésimo oitavo pedido, fica evidente que pouqissimos clientes reincidem tão recorrentemente nessa plataforma."
   ]
  },
  {
   "cell_type": "markdown",
   "id": "54a0319c",
   "metadata": {
    "id": "54a0319c"
   },
   "source": [
    "### Quais são os 20 produtos mais populares? Exiba os IDs e nomes"
   ]
  },
  {
   "cell_type": "code",
   "execution_count": 56,
   "id": "exterior-arizona",
   "metadata": {
    "id": "exterior-arizona",
    "scrolled": true
   },
   "outputs": [
    {
     "name": "stdout",
     "output_type": "stream",
     "text": [
      "20 Produtos Mais Vendidos:\n",
      "    product_id              product_name  order_count\n",
      "0        24852                    Banana        66050\n",
      "1        13176    Bag of Organic Bananas        53297\n",
      "2        21137      Organic Strawberries        37039\n",
      "3        21903      Organic Baby Spinach        33971\n",
      "4        47209      Organic Hass Avocado        29773\n",
      "5        47766           Organic Avocado        24689\n",
      "6        47626               Large Lemon        21495\n",
      "7        16797              Strawberries        20018\n",
      "8        26209                     Limes        19690\n",
      "9        27845        Organic Whole Milk        19600\n",
      "10       27966       Organic Raspberries        19197\n",
      "11       22935      Organic Yellow Onion        15898\n",
      "12       24964            Organic Garlic        15292\n",
      "13       45007          Organic Zucchini        14584\n",
      "14       39275       Organic Blueberries        13879\n",
      "15       49683            Cucumber Kirby        13675\n",
      "16       28204        Organic Fuji Apple        12544\n",
      "17        5876             Organic Lemon        12232\n",
      "18        8277  Apple Honeycrisp Organic        11993\n",
      "19       40706    Organic Grape Tomatoes        11781\n"
     ]
    }
   ],
   "source": [
    "# Análise dos 20 produtos mais frequentes\n",
    "contagem_produtos = df_order_products['product_id'].value_counts()\n",
    "contagem_produtos_df = pd.DataFrame({'product_id': contagem_produtos.index, \n",
    "                                   'order_count': contagem_produtos.values})\n",
    "merged_data = pd.merge(contagem_produtos_df, df_products, on='product_id')\n",
    "mais_vendidos = merged_data.sort_values(by='order_count', ascending=False).head(20)\n",
    "\n",
    "print('20 Produtos Mais Vendidos:')\n",
    "print(mais_vendidos[['product_id', 'product_name', 'order_count']])"
   ]
  },
  {
   "cell_type": "markdown",
   "id": "7df00f47",
   "metadata": {
    "id": "7df00f47"
   },
   "source": [
    "## Conclusões da Análise Intermediária\n",
    "\n",
    "1. **Padrões de Compra**\n",
    "   - Maioria dos clientes faz entre 1-5 pedidos\n",
    "   - Declínio acentuado após 5 pedidos\n",
    "   - Pequeno grupo de clientes altamente ativos (>15 pedidos)\n",
    "\n",
    "2. **Produtos Populares**\n",
    "   - Produtos orgânicos dominam o ranking\n",
    "   - Frutas e vegetais são categorias mais frequentes\n",
    "   - Bananas lideram em número de pedidos\n",
    "\n",
    "3. **Insights para Negócio**\n",
    "   - Oportunidade de retenção após primeiras compras\n",
    "   - Potencial para estratégias específicas em diferentes dias\n",
    "   - Foco em produtos orgânicos como diferencial"
   ]
  },
  {
   "cell_type": "markdown",
   "id": "gross-theme",
   "metadata": {
    "id": "gross-theme"
   },
   "source": [
    "## C. Análise Avançada\n",
    "\n",
    "### 1. Distribuição de itens por pedido"
   ]
  },
  {
   "cell_type": "markdown",
   "id": "romantic-deposit",
   "metadata": {
    "id": "romantic-deposit"
   },
   "source": [
    "### Quantos itens as pessoas normalmente compram em um pedido? Como fica a distribuição?"
   ]
  },
  {
   "cell_type": "code",
   "execution_count": 57,
   "id": "virtual-punch",
   "metadata": {
    "id": "virtual-punch"
   },
   "outputs": [
    {
     "name": "stdout",
     "output_type": "stream",
     "text": [
      "Estatísticas de Itens por Pedido:\n",
      "count    450046.000000\n",
      "mean         10.098983\n",
      "std           7.540206\n",
      "min           1.000000\n",
      "25%           5.000000\n",
      "50%           8.000000\n",
      "75%          14.000000\n",
      "max         127.000000\n",
      "dtype: float64\n"
     ]
    },
    {
     "data": {
      "image/png": "[encoded data removed]",
      "text/plain": [
       "<Figure size 1000x600 with 1 Axes>"
      ]
     },
     "metadata": {},
     "output_type": "display_data"
    }
   ],
   "source": [
    "# Contagem de itens por pedido\n",
    "contagem_itens = df_order_products.groupby('order_id').size()\n",
    "\n",
    "# Estatísticas descritivas\n",
    "print('Estatísticas de Itens por Pedido:')\n",
    "print(contagem_itens.describe())\n",
    "\n",
    "# Visualização da distribuição\n",
    "plt.figure(figsize=(10, 6))\n",
    "plt.hist(contagem_itens, bins=range(1, 51), edgecolor='black', color='skyblue')\n",
    "plt.title('Distribuição do Número de Itens por Pedido')\n",
    "plt.xlabel('Número de Itens por Pedido')\n",
    "plt.ylabel('Frequência')\n",
    "plt.grid(True)\n",
    "plt.xlim(0, 50)\n",
    "plt.show()"
   ]
  },
  {
   "cell_type": "markdown",
   "id": "designed-mortality",
   "metadata": {
    "id": "designed-mortality"
   },
   "source": [
    "### Análise da Distribuição de Itens\n",
    "- Média de 10 itens por pedido\n",
    "- 50% dos pedidos têm entre 5 e 14 itens\n",
    "- Máximo de 127 itens em um único pedido"
   ]
  },
  {
   "cell_type": "markdown",
   "id": "5e6b5537",
   "metadata": {
    "id": "5e6b5537"
   },
   "source": [
    "### Quais são os 20 principais itens incluídos mais frequentemente em pedidos repetidos? Exiba os IDs e nomes."
   ]
  },
  {
   "cell_type": "code",
   "execution_count": 58,
   "id": "9374e55a",
   "metadata": {
    "id": "9374e55a"
   },
   "outputs": [
    {
     "name": "stdout",
     "output_type": "stream",
     "text": [
      "20 Produtos Mais Recomprados:\n",
      "       product_id              product_name  reorder_contagem\n",
      "18104       24852                    Banana             55763\n",
      "9528        13176    Bag of Organic Bananas             44450\n",
      "15368       21137      Organic Strawberries             28639\n",
      "15936       21903      Organic Baby Spinach             26233\n",
      "34407       47209      Organic Hass Avocado             23629\n",
      "34828       47766           Organic Avocado             18743\n",
      "20285       27845        Organic Whole Milk             16251\n",
      "34725       47626               Large Lemon             15044\n",
      "20375       27966       Organic Raspberries             14748\n",
      "12193       16797              Strawberries             13945\n",
      "19088       26209                     Limes             13327\n",
      "16700       22935      Organic Yellow Onion             11145\n",
      "18186       24964            Organic Garlic             10411\n",
      "32792       45007          Organic Zucchini             10076\n",
      "36219       49683            Cucumber Kirby              9538\n",
      "20543       28204        Organic Fuji Apple              8989\n",
      "5978         8277  Apple Honeycrisp Organic              8836\n",
      "28607       39275       Organic Blueberries              8799\n",
      "4267         5876             Organic Lemon              8412\n",
      "35905       49235       Organic Half & Half              8389\n"
     ]
    }
   ],
   "source": [
    "# Análise de produtos em pedidos repetidos\n",
    "reordered_items = df_order_products[df_order_products['reordered'] == 1]\n",
    "reorder_contagem = reordered_items.groupby('product_id').size()\n",
    "reorder_contagem_df = pd.DataFrame({'product_id': reorder_contagem.index, \n",
    "                                  'reorder_contagem': reorder_contagem.values})\n",
    "mesclagem_dfs = pd.merge(reorder_contagem_df, df_products, on='product_id')\n",
    "organizacao_mesclagem_dfs = mesclagem_dfs.sort_values(by='reorder_contagem', \n",
    "                                                     ascending=False).head(20)\n",
    "\n",
    "print('20 Produtos Mais Recomprados:')\n",
    "print(organizacao_mesclagem_dfs[['product_id', 'product_name', 'reorder_contagem']])"
   ]
  },
  {
   "cell_type": "markdown",
   "id": "ccfe48e0-6089-4461-b90b-1f5b7898234c",
   "metadata": {},
   "source": [
    "### Análise dos Produtos Mais Recomprados\n",
    "- Bananas (tanto orgânicas quanto convencionais) lideram com ampla margem\n",
    "- Produtos orgânicos dominam a lista, ocupando 13 das 20 posições\n",
    "- Frutas e vegetais são as categorias mais representativas\n",
    "- O padrão sugere foco em produtos frescos e saudáveis\n",
    "- As quantidades de recompra são expressivas, indo de 8.389 a 55.763 pedidos"
   ]
  },
  {
   "cell_type": "markdown",
   "id": "9d312b14",
   "metadata": {
    "id": "9d312b14"
   },
   "source": [
    "### [C3] Para cada produto, qual parcela de todos os pedidos dele são repetidos?"
   ]
  },
  {
   "cell_type": "code",
   "execution_count": 60,
   "id": "8ae9f4b1",
   "metadata": {
    "id": "8ae9f4b1"
   },
   "outputs": [
    {
     "name": "stdout",
     "output_type": "stream",
     "text": [
      "\n",
      "Produtos com Maior Taxa de Recompra:\n",
      "       product_id                                       product_name  \\\n",
      "13453       14721                            Bone Strength Take Care   \n",
      "19195       20949                           Vanilla Sandwich Cookies   \n",
      "6136         6723                                   Palmiers- Petite   \n",
      "6144         6732                  Naturally Sparkling Mineral Water   \n",
      "41319       45088  California Dill Pollen & Garlic Goat Cheese & ...   \n",
      "41310       45078                                       Pomegranatea   \n",
      "19258       21016       Parchment Lined 8 in x 3.75 in x 2.5 in Pans   \n",
      "19248       21005                        Peanut Butter Pie Ice Cream   \n",
      "32273       35192                         Chocolate Soy Milk Singles   \n",
      "32277       35197  Mocha Chocolate Chip  Organic Non-Dairy Frozen...   \n",
      "6211         6810                        Raspberry Goji Paleo Prints   \n",
      "41274       45040                                 Head Lock Mega Gel   \n",
      "41269       45035                               Coffee Flavor Yogurt   \n",
      "25120       27373                                     Meat Loaf Meal   \n",
      "28203       30748                           Cheese & Garlic Croutons   \n",
      "41265       45031                 Sugar Free Hazelnut Coffee Creamer   \n",
      "32224       35137  Superior Preference Fade-Defying Color + Shine...   \n",
      "28202       30747                   Dentotape® Unflavored Waxed Tape   \n",
      "32304       35228                       Marvelous Muffins Baking Mix   \n",
      "32305       35229                             Bean & Cheese Burritos   \n",
      "\n",
      "       reorder_ratio  \n",
      "13453            1.0  \n",
      "19195            1.0  \n",
      "6136             1.0  \n",
      "6144             1.0  \n",
      "41319            1.0  \n",
      "41310            1.0  \n",
      "19258            1.0  \n",
      "19248            1.0  \n",
      "32273            1.0  \n",
      "32277            1.0  \n",
      "6211             1.0  \n",
      "41274            1.0  \n",
      "41269            1.0  \n",
      "25120            1.0  \n",
      "28203            1.0  \n",
      "41265            1.0  \n",
      "32224            1.0  \n",
      "28202            1.0  \n",
      "32304            1.0  \n",
      "32305            1.0  \n"
     ]
    }
   ],
   "source": [
    "# Análise da proporção de recompra por produto\n",
    "reorder_percentage = df_order_products.groupby('product_id')['reordered'].mean().reset_index()\n",
    "reorder_percentage.rename(columns={'reordered': 'reorder_ratio'}, inplace=True)\n",
    "nomes_repeticao = pd.merge(reorder_percentage, df_products, on='product_id')\n",
    "nomes_repeticao = nomes_repeticao.sort_values(by='reorder_ratio', ascending=False)\n",
    "\n",
    "print('\\nProdutos com Maior Taxa de Recompra:')\n",
    "print(nomes_repeticao[['product_id', 'product_name', 'reorder_ratio']].head(20))"
   ]
  },
  {
   "cell_type": "markdown",
   "id": "3424d8f7-c45c-4b2d-9858-51bfb85ad117",
   "metadata": {
    "id": "103e7fe1"
   },
   "source": [
    "### Análise das Taxas de Recompra\n",
    "- 20 produtos apresentam taxa de recompra de 100%\n",
    "- Lista mais diversificada, incluindo:\n",
    "  - Suplementos (Bone Strength)\n",
    "  - Produtos de conveniência (Cookies, Baking Mix)\n",
    "  - Produtos específicos (Dental Tape, Hair Color)\n",
    "  - Alimentos especiais (Non-Dairy, Sugar Free)\n",
    "- Produtos mais nichados que os mais recomprados em volume\n",
    "- Indica forte fidelização em categorias específicas"
   ]
  },
  {
   "cell_type": "markdown",
   "id": "TisH_5Cp3wAi",
   "metadata": {
    "id": "TisH_5Cp3wAi"
   },
   "source": [
    "# Conclusão geral do projeto:"
   ]
  },
  {
   "cell_type": "markdown",
   "id": "8a3b1824-28ef-4b71-9f3d-981ab28cce8c",
   "metadata": {
    "id": "Nk-4GS7mDwqY"
   },
   "source": [
    "Resolvi separar minhas conslusões em tópicos e ficaram da seguinte maneira:\n",
    "\n",
    "## Principais Descobertas\n",
    "\n",
    "1. **Padrões Temporais**\n",
    "   - Pico de pedidos entre 10h e 15h\n",
    "   - Maior volume aos domingos\n",
    "   - Padrões distintos entre dias úteis e finais de semana\n",
    "   - Maioria dos usuários retorna em 30 dias\n",
    "\n",
    "2. **Comportamento de Compra**\n",
    "   - Média de 10 itens por pedido\n",
    "   - Maioria dos clientes faz entre 1-5 pedidos\n",
    "   - Pedidos concentrados entre 5-14 itens\n",
    "   - Pequeno grupo de clientes altamente ativos\n",
    "\n",
    "3. **Produtos e Categorias**\n",
    "   - Produtos orgânicos dominam as vendas\n",
    "   - Bananas são o item mais vendido\n",
    "   - Produtos frescos lideram em volume\n",
    "   - Nichos específicos com alta fidelização\n",
    "\n",
    "## Recomendações Estratégicas\n",
    "\n",
    "1. **Operações**\n",
    "   - Otimizar capacidade para horários de pico\n",
    "   - Planejamento especial para domingos\n",
    "   - Dimensionar equipe conforme padrões semanais\n",
    "\n",
    "2. **Marketing**\n",
    "   - Desenvolver programa de fidelidade\n",
    "   - Foco em retenção após primeiras compras\n",
    "   - Promoções específicas para produtos orgânicos\n",
    "   - Estratégias diferentes para dias úteis e fins de semana\n",
    "\n",
    "3. **Produto**\n",
    "   - Manter foco em produtos frescos e orgânicos\n",
    "   - Desenvolver ofertas para nichos específicos\n",
    "   - Considerar cestas básicas pré-montadas\n",
    "   - Garantir disponibilidade de produtos mais recomprados\n",
    "\n",
    "# Obrigado pela atenção até aqui! Espero que isso poda iluminar nossos caminhos pelo mundo dos dados!"
   ]
  }
 ],
 "metadata": {
  "colab": {
   "provenance": []
  },
  "kernelspec": {
   "display_name": "Python 3 (ipykernel)",
   "language": "python",
   "name": "python3"
  },
  "language_info": {
   "codemirror_mode": {
    "name": "ipython",
    "version": 3
   },
   "file_extension": ".py",
   "mimetype": "text/x-python",
   "name": "python",
   "nbconvert_exporter": "python",
   "pygments_lexer": "ipython3",
   "version": "3.12.7"
  },
  "toc": {
   "base_numbering": 1,
   "nav_menu": {
    "height": "127px",
    "width": "176px"
   },
   "number_sections": true,
   "sideBar": true,
   "skip_h1_title": true,
   "title_cell": "Table of Contents",
   "title_sidebar": "Contents",
   "toc_cell": false,
   "toc_position": {},
   "toc_section_display": true,
   "toc_window_display": false
  },
  "vscode": {
   "interpreter": {
    "hash": "01a7be9ec63e704a62cefc5fe7a4756944464ee731be31632bdf42a4cb4688cf"
   }
  }
 },
 "nbformat": 4,
 "nbformat_minor": 5
}
