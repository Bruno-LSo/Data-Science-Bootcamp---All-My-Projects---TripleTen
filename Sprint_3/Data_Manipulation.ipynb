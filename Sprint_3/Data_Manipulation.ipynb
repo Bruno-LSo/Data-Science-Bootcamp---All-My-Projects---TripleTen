{
 "cells": [
  {
   "cell_type": "markdown",
   "id": "mhIvmmkW414q",
   "metadata": {
    "id": "mhIvmmkW414q"
   },
   "source": [
    "# Instacart Data Analysis\n",
    "\n",
    "## Introduction\n",
    "\n",
    "This project aims to analyze Instacart data, a grocery delivery platform, to extract insights into customer purchasing behavior and order patterns. The dataset contains information on orders, products, departments, and customer purchase history.\n",
    "\n",
    "### Objectives\n",
    "- Analyze temporal order patterns\n",
    "- Identify the most popular products and repurchase rates\n",
    "- Understand customer purchasing behavior\n",
    "- Generate actionable business insights\n",
    "\n",
    "### Project Structure\n",
    "1. Data Preparation and Cleaning\n",
    "2. Exploratory Analysis\n",
    "3. Purchase Pattern Analysis\n",
    "4. Conclusions and Recommendations"
   ]
  },
  {
   "cell_type": "markdown",
   "id": "3MbyzpOQZ5Or",
   "metadata": {
    "id": "3MbyzpOQZ5Or"
   },
   "source": [
    "## Data Dictionary\n",
    "\n",
    "The dataset consists of five main tables:\n",
    "\n",
    "- `instacart_orders.csv`: each row corresponds to an order placed in the Instacart app\n",
    "    - `'order_id'`: unique identifier for each order\n",
    "    - `'user_id'`: unique identifier for each customer's account\n",
    "    - `'order_number'`: number of times the customer has placed an order\n",
    "    - `'order_dow'`: day of the week the order was placed (0 represents Sunday)\n",
    "    - `'order_hour_of_day'`: hour of the day the order was placed\n",
    "    - `'days_since_prior_order'`: number of days since the customer's previous order\n",
    "\n",
    "- `products.csv`: each row represents a unique product available for purchase\n",
    "    - `'product_id'`: unique identifier for each product\n",
    "    - `'product_name'`: name of the product\n",
    "    - `'aisle_id'`: unique identifier for each supermarket aisle category\n",
    "    - `'department_id'`: unique identifier for each supermarket department category\n",
    "\n",
    "- `order_products.csv`: each row corresponds to an item included in an order\n",
    "    - `'order_id'`: unique identifier for each order\n",
    "    - `'product_id'`: unique identifier for each product\n",
    "    - `'add_to_cart_order'`: sequential order in which the item was added to the cart\n",
    "    - `'reordered'`: 0 if the customer has never purchased the product before, 1 if they have\n",
    "\n",
    "- `aisles.csv`\n",
    "    - `'aisle_id'`: unique identifier for each supermarket aisle category\n",
    "    - `'aisle'`: name of the aisle\n",
    "\n",
    "- `departments.csv`\n",
    "    - `'department_id'`: unique identifier for each supermarket department category\n",
    "    - `'department'`: name of the department\n"
   ]
  },
  {
   "cell_type": "markdown",
   "id": "n3Ha_cNSZ8lK",
   "metadata": {
    "id": "n3Ha_cNSZ8lK"
   },
   "source": [
    "# Step 1: Data Overview\n",
    "\n",
    "## Analysis Plan\n",
    "1. Import data using pandas\n",
    "2. Examine the basic structure of each DataFrame\n",
    "3. Check data types and missing values\n",
    "4. Identify potential issues in the data\n",
    "\n",
    "## Data Loading"
   ]
  },
  {
   "cell_type": "code",
   "execution_count": 23,
   "id": "fbf1adab",
   "metadata": {
    "id": "fbf1adab"
   },
   "outputs": [],
   "source": [
    "# Importing libraries - To handle data and create charts!\n",
    "import pandas as pd\n",
    "from matplotlib import pyplot as plt\n",
    "import numpy as np"
   ]
  },
  {
   "cell_type": "code",
   "execution_count": 2,
   "id": "ad36396d",
   "metadata": {
    "id": "ad36396d"
   },
   "outputs": [],
   "source": [
    "# Reading datasets into DataFrames - There are 5 DataFrames\n",
    "df_orders = pd.read_csv(\"datasets/instacart_orders.csv\", sep=';')\n",
    "df_products = pd.read_csv(\"datasets/products.csv\", sep=';')\n",
    "df_order_products = pd.read_csv(\"datasets/order_products.csv\", sep=';')\n",
    "df_aisles = pd.read_csv(\"datasets/aisles.csv\", sep=';')\n",
    "df_departments = pd.read_csv(\"datasets/departments.csv\", sep=';')\n"
   ]
  },
  {
   "cell_type": "code",
   "execution_count": 3,
   "id": "ad6a1efa",
   "metadata": {
    "id": "ad6a1efa"
   },
   "outputs": [
    {
     "name": "stdout",
     "output_type": "stream",
     "text": [
      "\n",
      "-----------------------\n",
      "Orders DataFrame Structure\n",
      "\n",
      "<class 'pandas.core.frame.DataFrame'>\n",
      "RangeIndex: 478967 entries, 0 to 478966\n",
      "Data columns (total 6 columns):\n",
      " #   Column                  Non-Null Count   Dtype  \n",
      "---  ------                  --------------   -----  \n",
      " 0   order_id                478967 non-null  int64  \n",
      " 1   user_id                 478967 non-null  int64  \n",
      " 2   order_number            478967 non-null  int64  \n",
      " 3   order_dow               478967 non-null  int64  \n",
      " 4   order_hour_of_day       478967 non-null  int64  \n",
      " 5   days_since_prior_order  450148 non-null  float64\n",
      "dtypes: float64(1), int64(5)\n",
      "memory usage: 21.9 MB\n",
      "\n",
      "-----------------------\n",
      "First records:\n",
      "\n",
      "   order_id  user_id  order_number  order_dow  order_hour_of_day  \\\n",
      "0   1515936   183418            11          6                 13   \n",
      "1   1690866   163593             5          5                 12   \n",
      "2   1454967    39980             4          5                 19   \n",
      "3   1768857    82516            56          0                 20   \n",
      "4   3007858   196724             2          4                 12   \n",
      "\n",
      "   days_since_prior_order  \n",
      "0                    30.0  \n",
      "1                     9.0  \n",
      "2                     2.0  \n",
      "3                    10.0  \n",
      "4                    17.0  \n"
     ]
    }
   ],
   "source": [
    "# Examining the structure of the orders DataFrame\n",
    "print(\"\\n-----------------------\\nOrders DataFrame Structure\\n\")\n",
    "df_orders.info()\n",
    "print(\"\\n-----------------------\\nFirst records:\\n\")\n",
    "print(df_orders.head())\n"
   ]
  },
  {
   "cell_type": "markdown",
   "id": "1255d1f0-1a90-4a97-8d83-e837a5c276ec",
   "metadata": {},
   "source": [
    "### Analysis of the Orders DataFrame\n",
    "- A total of 478,967 records\n",
    "- 6 columns, including 5 integers and 1 float\n",
    "- Missing values only in the 'days_since_prior_order' column (28,819 records)\n",
    "- Each record represents a unique order with temporal and customer information"
   ]
  },
  {
   "cell_type": "code",
   "execution_count": 4,
   "id": "5130e05e",
   "metadata": {
    "id": "5130e05e"
   },
   "outputs": [
    {
     "name": "stdout",
     "output_type": "stream",
     "text": [
      "\n",
      "-----------------------\n",
      "Products DataFrame Structure\n",
      "\n",
      "<class 'pandas.core.frame.DataFrame'>\n",
      "RangeIndex: 49694 entries, 0 to 49693\n",
      "Data columns (total 4 columns):\n",
      " #   Column         Non-Null Count  Dtype \n",
      "---  ------         --------------  ----- \n",
      " 0   product_id     49694 non-null  int64 \n",
      " 1   product_name   48436 non-null  object\n",
      " 2   aisle_id       49694 non-null  int64 \n",
      " 3   department_id  49694 non-null  int64 \n",
      "dtypes: int64(3), object(1)\n",
      "memory usage: 1.5+ MB\n",
      "\n",
      "-----------------------\n",
      "First records:\n",
      "\n",
      "   product_id                                       product_name  aisle_id  \\\n",
      "0           1                         Chocolate Sandwich Cookies        61   \n",
      "1           2                                   All-Seasons Salt       104   \n",
      "2           3               Robust Golden Unsweetened Oolong Tea        94   \n",
      "3           4  Smart Ones Classic Favorites Mini Rigatoni Wit...        38   \n",
      "4           5                          Green Chile Anytime Sauce         5   \n",
      "\n",
      "   department_id  \n",
      "0             19  \n",
      "1             13  \n",
      "2              7  \n",
      "3              1  \n",
      "4             13  \n"
     ]
    }
   ],
   "source": [
    "# Examining the structure of the products DataFrame\n",
    "print(\"\\n-----------------------\\nProducts DataFrame Structure\\n\")\n",
    "df_products.info()\n",
    "print(\"\\n-----------------------\\nFirst records:\\n\")\n",
    "print(df_products.head())"
   ]
  },
  {
   "cell_type": "markdown",
   "id": "f099d9e3-daa7-4085-86f7-0a2d0ca1ba6c",
   "metadata": {},
   "source": [
    "### Analysis of the Products DataFrame\n",
    "- 49,694 registered products\n",
    "- 4 columns: product_id, product_name, aisle_id, department_id\n",
    "- 1,258 products without a registered name\n",
    "- All IDs (product, aisle, and department) are filled"
   ]
  },
  {
   "cell_type": "code",
   "execution_count": 5,
   "id": "d8370c05",
   "metadata": {
    "id": "d8370c05"
   },
   "outputs": [
    {
     "name": "stdout",
     "output_type": "stream",
     "text": [
      "\n",
      "-----------------------\n",
      "Order Items DataFrame Structure\n",
      "\n",
      "<class 'pandas.core.frame.DataFrame'>\n",
      "RangeIndex: 4545007 entries, 0 to 4545006\n",
      "Data columns (total 4 columns):\n",
      " #   Column             Dtype  \n",
      "---  ------             -----  \n",
      " 0   order_id           int64  \n",
      " 1   product_id         int64  \n",
      " 2   add_to_cart_order  float64\n",
      " 3   reordered          int64  \n",
      "dtypes: float64(1), int64(3)\n",
      "memory usage: 138.7 MB\n",
      "\n",
      "-----------------------\n",
      "First records:\n",
      "\n",
      "    order_id  product_id  add_to_cart_order  reordered\n",
      "0    2141543       11440               17.0          0\n",
      "1     567889        1560                1.0          1\n",
      "2    2261212       26683                1.0          1\n",
      "3     491251        8670               35.0          1\n",
      "4    2571142        1940                5.0          1\n",
      "5    2456893       21616                4.0          1\n",
      "6     644579       12341                5.0          1\n",
      "7    2231852       44925               10.0          1\n",
      "8    3185766       36259               14.0          1\n",
      "9     420019       23315                4.0          1\n",
      "10    925051        9421                2.0          1\n",
      "11     44064       22963               28.0          0\n",
      "12    522547       40571               10.0          1\n",
      "13   2475670       48520                3.0          0\n",
      "14   1961225       37553                1.0          1\n",
      "15   2397389        4321               16.0          1\n",
      "16    639939       10017                1.0          1\n",
      "17   1721072       24561                8.0          1\n",
      "18     89640       46692                7.0          0\n",
      "19   2500729       21616                5.0          1\n"
     ]
    }
   ],
   "source": [
    "# Examining the structure of the order_products DataFrame\n",
    "print(\"\\n-----------------------\\nOrder Items DataFrame Structure\\n\")\n",
    "df_order_products.info(verbose=True)\n",
    "print(\"\\n-----------------------\\nFirst records:\\n\")\n",
    "print(df_order_products.head(20))"
   ]
  },
  {
   "cell_type": "markdown",
   "id": "e116aec2-7eb2-4f1e-a37b-ec99c4ed57d7",
   "metadata": {},
   "source": [
    "### Analysis of the Order_Products DataFrame\n",
    "- 4,545,007 records of order items\n",
    "- 4 columns: order_id, product_id, add_to_cart_order, reordered\n",
    "- 836 missing values in the add_to_cart_order column\n",
    "- Each row represents a specific item in an order"
   ]
  },
  {
   "cell_type": "code",
   "execution_count": 6,
   "id": "59e2090f",
   "metadata": {
    "id": "59e2090f"
   },
   "outputs": [
    {
     "name": "stdout",
     "output_type": "stream",
     "text": [
      "\n",
      "-----------------------\n",
      "Aisles DataFrame Structure\n",
      "\n",
      "<class 'pandas.core.frame.DataFrame'>\n",
      "RangeIndex: 134 entries, 0 to 133\n",
      "Data columns (total 2 columns):\n",
      " #   Column    Non-Null Count  Dtype \n",
      "---  ------    --------------  ----- \n",
      " 0   aisle_id  134 non-null    int64 \n",
      " 1   aisle     134 non-null    object\n",
      "dtypes: int64(1), object(1)\n",
      "memory usage: 2.2+ KB\n",
      "\n",
      "-----------------------\n",
      "First records:\n",
      "\n",
      "   aisle_id                       aisle\n",
      "0         1       prepared soups salads\n",
      "1         2           specialty cheeses\n",
      "2         3         energy granola bars\n",
      "3         4               instant foods\n",
      "4         5  marinades meat preparation\n"
     ]
    }
   ],
   "source": [
    "# Examining the structure of the aisles DataFrame\n",
    "print(\"\\n-----------------------\\nAisles DataFrame Structure\\n\")\n",
    "df_aisles.info()\n",
    "print(\"\\n-----------------------\\nFirst records:\\n\")\n",
    "print(df_aisles.head())"
   ]
  },
  {
   "cell_type": "markdown",
   "id": "ed70bd3a-adb5-4510-b08f-56eed36082ca",
   "metadata": {},
   "source": [
    "### Analysis of the Aisles DataFrame\n",
    "- 134 registered aisles\n",
    "- Complete data with no missing values\n",
    "- Simple structure with ID and aisle name"
   ]
  },
  {
   "cell_type": "code",
   "execution_count": 7,
   "id": "6fc81694",
   "metadata": {
    "id": "6fc81694"
   },
   "outputs": [
    {
     "name": "stdout",
     "output_type": "stream",
     "text": [
      "\n",
      "-----------------------\n",
      "Departments DataFrame Structure\n",
      "\n",
      "<class 'pandas.core.frame.DataFrame'>\n",
      "RangeIndex: 21 entries, 0 to 20\n",
      "Data columns (total 2 columns):\n",
      " #   Column         Non-Null Count  Dtype \n",
      "---  ------         --------------  ----- \n",
      " 0   department_id  21 non-null     int64 \n",
      " 1   department     21 non-null     object\n",
      "dtypes: int64(1), object(1)\n",
      "memory usage: 468.0+ bytes\n",
      "\n",
      "-----------------------\n",
      "First records:\n",
      "\n",
      "   department_id department\n",
      "0              1     frozen\n",
      "1              2      other\n",
      "2              3     bakery\n",
      "3              4    produce\n",
      "4              5    alcohol\n"
     ]
    }
   ],
   "source": [
    "# Examining the structure of the departments DataFrame\n",
    "print(\"\\n-----------------------\\nDepartments DataFrame Structure\\n\")\n",
    "df_departments.info()\n",
    "print(\"\\n-----------------------\\nFirst records:\\n\")\n",
    "print(df_departments.head())"
   ]
  },
  {
   "cell_type": "markdown",
   "id": "t75BD19oaR5f",
   "metadata": {
    "id": "t75BD19oaR5f"
   },
   "source": [
    "### Analysis of the Departments DataFrame\n",
    "- 21 registered departments\n",
    "- Complete data with no missing values\n",
    "- Simple structure with ID and department name"
   ]
  },
  {
   "cell_type": "markdown",
   "id": "e4a6e107-efd1-4409-b923-5445f5be1acb",
   "metadata": {},
   "source": [
    "## Initial Analysis Conclusions\n",
    "\n",
    "1. **Data Integrity**\n",
    "   - Well-defined relational structure between tables\n",
    "   - Missing values concentrated in specific columns\n",
    "   - Consistent ID system across tables\n",
    "\n",
    "2. **Points of Attention**\n",
    "   - Need to handle missing values in 'days_since_prior_order'\n",
    "   - Investigation of products without a name\n",
    "   - Analysis of missing values in the add-to-cart order"
   ]
  },
  {
   "cell_type": "markdown",
   "id": "8RJHqxVmaVsF",
   "metadata": {
    "id": "8RJHqxVmaVsF"
   },
   "source": [
    "# Step 2: Data Preparation\n",
    "\n",
    "## Processing Plan\n",
    "1. Check and handle duplicate values\n",
    "2. Identify and handle missing values\n",
    "3. Validate data types"
   ]
  },
  {
   "cell_type": "markdown",
   "id": "f179f0a9",
   "metadata": {
    "id": "f179f0a9"
   },
   "source": [
    "### `orders` DataFrame"
   ]
  },
  {
   "cell_type": "code",
   "execution_count": 8,
   "id": "b99297a5-405a-463d-8535-9adc3da4ad74",
   "metadata": {
    "id": "b99297a5-405a-463d-8535-9adc3da4ad74"
   },
   "outputs": [
    {
     "name": "stdout",
     "output_type": "stream",
     "text": [
      "Number of duplicate values: 15\n",
      "\n",
      "Duplicate records:\n",
      "        order_id  user_id  order_number  order_dow  order_hour_of_day  \\\n",
      "145574    794638    50898            24          3                  2   \n",
      "223105   2160484   107525            16          3                  2   \n",
      "230807   1918001   188546            14          3                  2   \n",
      "266232   1782114   106752             1          3                  2   \n",
      "273805   1112182   202304            84          3                  2   \n",
      "284038   2845099    31189            11          3                  2   \n",
      "311713   1021560    53767             3          3                  2   \n",
      "321100    408114    68324             4          3                  2   \n",
      "323900   1919531   191501            32          3                  2   \n",
      "345917   2232988    82565             1          3                  2   \n",
      "371905    391768    57671            19          3                  2   \n",
      "394347    467134    63189            21          3                  2   \n",
      "411408   1286742   183220            48          3                  2   \n",
      "415163   2282673    86751            49          3                  2   \n",
      "441599   2125197    14050            48          3                  2   \n",
      "\n",
      "        days_since_prior_order  \n",
      "145574                     2.0  \n",
      "223105                    30.0  \n",
      "230807                    16.0  \n",
      "266232                     NaN  \n",
      "273805                     6.0  \n",
      "284038                     7.0  \n",
      "311713                     9.0  \n",
      "321100                    18.0  \n",
      "323900                     7.0  \n",
      "345917                     NaN  \n",
      "371905                    10.0  \n",
      "394347                     2.0  \n",
      "411408                     4.0  \n",
      "415163                     2.0  \n",
      "441599                     3.0  \n"
     ]
    }
   ],
   "source": [
    "# Checking for duplicates in the orders DataFrame\n",
    "print('Number of duplicate values:', df_orders.duplicated().sum())\n",
    "print('\\nDuplicate records:')\n",
    "print(df_orders[df_orders.duplicated()])"
   ]
  },
  {
   "cell_type": "markdown",
   "id": "PEkwUX_gvt5A",
   "metadata": {
    "id": "PEkwUX_gvt5A"
   },
   "source": [
    "### Duplicate Analysis\n",
    "There are duplicate rows, and in all of them, the orders were placed at 2 AM on Wednesdays.  \n",
    "This can be observed in the 'order_hour_of_day' column and the 'order_dow' column, where '0' represents Sunday, and the days progress sequentially from there."
   ]
  },
  {
   "cell_type": "code",
   "execution_count": 9,
   "id": "0d44de5d",
   "metadata": {
    "id": "0d44de5d"
   },
   "outputs": [
    {
     "name": "stdout",
     "output_type": "stream",
     "text": [
      "Count of orders at 2 AM:\n",
      "\n",
      "order_id                  1004\n",
      "user_id                   1004\n",
      "order_number              1004\n",
      "order_dow                 1004\n",
      "order_hour_of_day         1004\n",
      "days_since_prior_order     941\n",
      "dtype: int64\n",
      "\n",
      "Distribution of orders at 2 AM:\n",
      "\n",
      "order_id  user_id  order_number  order_dow  order_hour_of_day  days_since_prior_order\n",
      "1919531   191501   32            3          2                  7.0                       2\n",
      "467134    63189    21            3          2                  2.0                       2\n",
      "1918001   188546   14            3          2                  16.0                      2\n",
      "2282673   86751    49            3          2                  2.0                       2\n",
      "1021560   53767    3             3          2                  9.0                       2\n",
      "                                                                                        ..\n",
      "1198786   183503   16            1          2                  6.0                       1\n",
      "1203051   32927    15            6          2                  0.0                       1\n",
      "1204878   66134    9             0          2                  6.0                       1\n",
      "1211189   7300     5             3          2                  13.0                      1\n",
      "3419726   24929    17            6          2                  30.0                      1\n",
      "Name: count, Length: 928, dtype: int64\n"
     ]
    }
   ],
   "source": [
    "# Detailed analysis of orders placed at 2 AM\n",
    "print('Count of orders at 2 AM:\\n')\n",
    "print(df_orders[df_orders['order_hour_of_day'] == 2].count())\n",
    "print('\\nDistribution of orders at 2 AM:\\n')\n",
    "print(df_orders[df_orders['order_hour_of_day'] == 2].value_counts())\n"
   ]
  },
  {
   "cell_type": "markdown",
   "id": "vu2OWyoqwOx5",
   "metadata": {
    "id": "vu2OWyoqwOx5"
   },
   "source": [
    "### Duplicate Analysis - Orders DataFrame  \n",
    "What does this result mean?  \n",
    "\n",
    "We have insufficient information to determine the cause of this issue, but we need to investigate why the duplicates occur on Wednesdays.  \n",
    "We cannot assume an attack or an isolated error because, although the duplicates happened on Wednesdays, they occurred on different days (as observed in the 'days_since_prior_order' column).  \n",
    "\n",
    "I would ask the company if any electronic process takes place during this period every Wednesday, such as a database synchronization or another process that could be causing this error."
   ]
  },
  {
   "cell_type": "code",
   "execution_count": 10,
   "id": "480563c7",
   "metadata": {
    "id": "480563c7"
   },
   "outputs": [
    {
     "name": "stdout",
     "output_type": "stream",
     "text": [
      "Number of duplicates after processing: 0\n"
     ]
    }
   ],
   "source": [
    "# Removing duplicates from the orders DataFrame\n",
    "df_orders = df_orders.drop_duplicates().reset_index(drop=True)\n",
    "\n",
    "# Post-removal verification\n",
    "print('Number of duplicates after processing:', df_orders.duplicated().sum())"
   ]
  },
  {
   "cell_type": "markdown",
   "id": "5e8905ae",
   "metadata": {
    "id": "5e8905ae"
   },
   "source": [
    "### Conclusions:\n",
    "\n",
    "There were only a few duplicate orders, which can occur for various reasons.  \n",
    "My guess is that there might be an issue with database updates scheduled around this time (2 AM) on Wednesdays.  \n",
    "The data has been processed, and the index has been reset according to best practices for this procedure."
   ]
  },
  {
   "cell_type": "markdown",
   "id": "45e6bc46",
   "metadata": {
    "id": "45e6bc46"
   },
   "source": [
    "### `products` DataFrame"
   ]
  },
  {
   "cell_type": "code",
   "execution_count": 11,
   "id": "5f526b5b-8175-46fa-a0fd-441767d50e64",
   "metadata": {
    "id": "5f526b5b-8175-46fa-a0fd-441767d50e64"
   },
   "outputs": [
    {
     "name": "stdout",
     "output_type": "stream",
     "text": [
      "Number of duplicates in products: 0\n",
      "\n",
      "Verification by department:\n",
      "department_id\n",
      "1     4007\n",
      "2      547\n",
      "3     1515\n",
      "4     1683\n",
      "5     1053\n",
      "6     1138\n",
      "7     4365\n",
      "8      971\n",
      "9     1857\n",
      "10      37\n",
      "11    6563\n",
      "12     906\n",
      "13    5371\n",
      "14    1116\n",
      "15    2091\n",
      "16    3448\n",
      "17    3084\n",
      "18    1080\n",
      "19    6263\n",
      "20    1321\n",
      "21    1257\n",
      "Name: department_id, dtype: int64\n"
     ]
    }
   ],
   "source": [
    "# Checking for duplicates in the products DataFrame\n",
    "print('Number of duplicates in products:', df_products.duplicated().sum())\n",
    "print('\\nVerification by department:')\n",
    "print(df_products[df_products['department_id'].duplicated()].groupby('department_id')['department_id'].count())"
   ]
  },
  {
   "cell_type": "markdown",
   "id": "83b8a33f-bb7f-4a10-91c1-bdc04fbee7f6",
   "metadata": {
    "id": "88daa4f4"
   },
   "source": [
    "### Duplicate Analysis - Products DataFrame\n",
    "- No complete duplicate records\n",
    "- Duplicates in `department_id` are expected (different products in the same department)\n",
    "- Product names converted to lowercase for standardization"
   ]
  },
  {
   "cell_type": "markdown",
   "id": "60f30db1",
   "metadata": {
    "id": "60f30db1"
   },
   "source": [
    "### `departments` DataFrame"
   ]
  },
  {
   "cell_type": "code",
   "execution_count": 12,
   "id": "fb410ad4-0fbf-4b80-bb09-23fdea79afe3",
   "metadata": {
    "id": "fb410ad4-0fbf-4b80-bb09-23fdea79afe3"
   },
   "outputs": [
    {
     "name": "stdout",
     "output_type": "stream",
     "text": [
      "Number of duplicates in departments: 0\n",
      "\n",
      "Duplicate records:\n",
      "Empty DataFrame\n",
      "Columns: [department_id, department]\n",
      "Index: []\n"
     ]
    }
   ],
   "source": [
    "# Checking for duplicates in the departments DataFrame\n",
    "print('Number of duplicates in departments:', df_departments.duplicated().sum())\n",
    "print('\\nDuplicate records:')\n",
    "print(df_departments[df_departments.duplicated()])"
   ]
  },
  {
   "cell_type": "code",
   "execution_count": 13,
   "id": "332b12bb",
   "metadata": {
    "id": "332b12bb"
   },
   "outputs": [
    {
     "name": "stdout",
     "output_type": "stream",
     "text": [
      "\n",
      "Checking unique IDs:\n",
      "[ 1  2  3  4  5  6  7  8  9 10 11 12 13 14 15 16 17 18 19 20 21]\n",
      "\n",
      "Total unique departments: 21\n"
     ]
    }
   ],
   "source": [
    "# Detailed analysis of IDs\n",
    "print('\\nChecking unique IDs:')\n",
    "print(df_departments['department_id'].unique())\n",
    "print('\\nTotal unique departments:', df_departments['department_id'].nunique())"
   ]
  },
  {
   "cell_type": "markdown",
   "id": "bd30d78e",
   "metadata": {
    "id": "bd30d78e"
   },
   "source": [
    "### Duplicate Analysis - Departments DataFrame\n",
    "- No duplicates identified\n",
    "- 21 unique departments\n",
    "- Sequential and well-structured IDs (1-21)"
   ]
  },
  {
   "cell_type": "markdown",
   "id": "889349c1",
   "metadata": {
    "id": "889349c1"
   },
   "source": [
    "### `aisles` DataFrame "
   ]
  },
  {
   "cell_type": "code",
   "execution_count": 14,
   "id": "9da89fb9-4679-40f5-ad0d-c34df753a3f8",
   "metadata": {
    "id": "9da89fb9-4679-40f5-ad0d-c34df753a3f8"
   },
   "outputs": [
    {
     "name": "stdout",
     "output_type": "stream",
     "text": [
      "Number of duplicates in aisles: 0\n",
      "\n",
      "Duplicate records:\n",
      "Empty DataFrame\n",
      "Columns: [aisle_id, aisle]\n",
      "Index: []\n"
     ]
    }
   ],
   "source": [
    "# Checking for duplicates in the aisles DataFrame\n",
    "print('Number of duplicates in aisles:', df_aisles.duplicated().sum())\n",
    "print('\\nDuplicate records:')\n",
    "print(df_aisles[df_aisles.duplicated()])"
   ]
  },
  {
   "cell_type": "code",
   "execution_count": 15,
   "id": "da7c2822",
   "metadata": {
    "id": "da7c2822"
   },
   "outputs": [
    {
     "name": "stdout",
     "output_type": "stream",
     "text": [
      "\n",
      "Total unique aisles: 134\n"
     ]
    }
   ],
   "source": [
    "# Analysis of unique IDs\n",
    "print('\\nTotal unique aisles:', df_aisles['aisle_id'].nunique())"
   ]
  },
  {
   "cell_type": "markdown",
   "id": "ac63826f",
   "metadata": {
    "id": "ac63826f"
   },
   "source": [
    "### Duplicate Analysis - Aisles DataFrame\n",
    "- No duplicates identified\n",
    "- 134 unique aisles\n",
    "- Data structure is intact"
   ]
  },
  {
   "cell_type": "markdown",
   "id": "274cd06a",
   "metadata": {
    "id": "274cd06a"
   },
   "source": [
    "### `order_products` DataFrame"
   ]
  },
  {
   "cell_type": "code",
   "execution_count": 16,
   "id": "52326689-84a8-4b8f-a881-7c68780f62c9",
   "metadata": {
    "id": "52326689-84a8-4b8f-a881-7c68780f62c9"
   },
   "outputs": [
    {
     "name": "stdout",
     "output_type": "stream",
     "text": [
      "Number of duplicates in order_products: 0\n",
      "\n",
      "Duplicate records:\n",
      "Empty DataFrame\n",
      "Columns: [order_id, product_id, add_to_cart_order, reordered]\n",
      "Index: []\n"
     ]
    }
   ],
   "source": [
    "# Checking for duplicates in the order_products DataFrame\n",
    "print('Number of duplicates in order_products:', df_order_products.duplicated().sum())\n",
    "print('\\nDuplicate records:')\n",
    "print(df_order_products[df_order_products.duplicated(subset=['order_id', 'product_id'])])"
   ]
  },
  {
   "cell_type": "code",
   "execution_count": 17,
   "id": "7b861391",
   "metadata": {
    "id": "7b861391"
   },
   "outputs": [
    {
     "name": "stdout",
     "output_type": "stream",
     "text": [
      "\n",
      "Order ID analysis:\n",
      "Unique values: [2141543  567889 2261212 ...  812418 2666881 1461911]\n",
      "\n",
      "Total unique orders: 450046\n",
      "\n",
      "Product ID analysis:\n",
      "Unique values: [11440  1560 26683 ... 49153  8182 40024]\n",
      "\n",
      "Total unique products: 45573\n"
     ]
    }
   ],
   "source": [
    "# Analysis of unique values\n",
    "print('\\nOrder ID analysis:')\n",
    "print('Unique values:', df_order_products['order_id'].unique())\n",
    "print('\\nTotal unique orders:', df_order_products['order_id'].nunique())\n",
    "\n",
    "print('\\nProduct ID analysis:')\n",
    "print('Unique values:', df_order_products['product_id'].unique())\n",
    "print('\\nTotal unique products:', df_order_products['product_id'].nunique())"
   ]
  },
  {
   "cell_type": "markdown",
   "id": "0b890492",
   "metadata": {
    "id": "0b890492"
   },
   "source": [
    "### Duplicate Analysis - Order_Products DataFrame\n",
    "- No direct duplicates identified\n",
    "- 450,046 unique orders\n",
    "- 45,573 unique products in orders\n",
    "- Complex situation due to the nature of the data:\n",
    "  - An order can contain multiple products\n",
    "  - A product can appear in multiple orders\n",
    "  - Duplicates of order_id/product_id combinations are important for repurchase analysis"
   ]
  },
  {
   "cell_type": "markdown",
   "id": "1e46de76",
   "metadata": {
    "id": "1e46de76"
   },
   "source": [
    "## Identifying and Removing Missing Values\n",
    "\n",
    "We identified missing values in the following columns:\n",
    "- 'product_name' column in the products table\n",
    "- 'days_since_prior_order' column in the orders table\n",
    "- 'add_to_cart_order' column in the order_products table"
   ]
  },
  {
   "cell_type": "markdown",
   "id": "c0aebd78",
   "metadata": {
    "id": "c0aebd78"
   },
   "source": [
    "### `products` DataFrame"
   ]
  },
  {
   "cell_type": "code",
   "execution_count": 18,
   "id": "fe4a8b0f",
   "metadata": {
    "id": "fe4a8b0f"
   },
   "outputs": [
    {
     "name": "stdout",
     "output_type": "stream",
     "text": [
      "Checking for missing values in the products DataFrame:\n",
      "product_id          0\n",
      "product_name     1258\n",
      "aisle_id            0\n",
      "department_id       0\n",
      "dtype: int64\n",
      "\n",
      "Checking for missing values in the \"product_name\" column:\n",
      "1258\n"
     ]
    }
   ],
   "source": [
    "# Analysis of missing values in the products DataFrame\n",
    "print('Checking for missing values in the products DataFrame:')\n",
    "print(df_products.isna().sum())\n",
    "print('\\nChecking for missing values in the \"product_name\" column:')\n",
    "print(df_products['product_name'].isna().sum())"
   ]
  },
  {
   "cell_type": "markdown",
   "id": "-A6x1AbJhjkp",
   "metadata": {
    "id": "-A6x1AbJhjkp"
   },
   "source": [
    "### Missing Values Analysis - Products DataFrame\n",
    "- 1,258 products without a registered name\n",
    "- All other columns are fully populated"
   ]
  },
  {
   "cell_type": "code",
   "execution_count": 19,
   "id": "e96167bc",
   "metadata": {
    "id": "e96167bc"
   },
   "outputs": [
    {
     "name": "stdout",
     "output_type": "stream",
     "text": [
      "37       100\n",
      "71       100\n",
      "109      100\n",
      "296      100\n",
      "416      100\n",
      "        ... \n",
      "49552    100\n",
      "49574    100\n",
      "49640    100\n",
      "49663    100\n",
      "49668    100\n",
      "Name: aisle_id, Length: 1258, dtype: int64\n"
     ]
    }
   ],
   "source": [
    "# Checking unnamed products by aisle\n",
    "unnamed_products_section = df_products.loc[df_products['product_name'].isna(), 'aisle_id']\n",
    "print(unnamed_products_section)\n"
   ]
  },
  {
   "cell_type": "code",
   "execution_count": 20,
   "id": "8fd0a541",
   "metadata": {
    "id": "8fd0a541"
   },
   "outputs": [
    {
     "name": "stdout",
     "output_type": "stream",
     "text": [
      "37       21\n",
      "71       21\n",
      "109      21\n",
      "296      21\n",
      "416      21\n",
      "         ..\n",
      "49552    21\n",
      "49574    21\n",
      "49640    21\n",
      "49663    21\n",
      "49668    21\n",
      "Name: department_id, Length: 1258, dtype: int64\n"
     ]
    }
   ],
   "source": [
    "# Checking unnamed products by department\n",
    "unnamed_products_department = df_products.loc[df_products['product_name'].isna(), 'department_id']\n",
    "print(unnamed_products_department)"
   ]
  },
  {
   "cell_type": "code",
   "execution_count": 25,
   "id": "c09a2451-31bb-4705-a857-27bdd0a41fcf",
   "metadata": {},
   "outputs": [
    {
     "name": "stdout",
     "output_type": "stream",
     "text": [
      "Departments table\n",
      "    department_id department\n",
      "20             21    Unknown\n",
      "\n",
      "Aisles table\n",
      "    aisle_id    aisle\n",
      "99       100  missing\n"
     ]
    }
   ],
   "source": [
    "# Checking affected aisles and departments\n",
    "print('Departments table')\n",
    "print(df_departments[df_departments['department_id'] == 21])\n",
    "print('\\nAisles table')\n",
    "print(df_aisles[df_aisles['aisle_id'] == 100])\n",
    "\n",
    "# Handling missing values\n",
    "df_departments['department'] = df_departments['department'].replace('missing', np.nan).fillna('Unknown')\n",
    "df_aisles['aisle'] = df_aisles['aisle'].fillna('Unknown')"
   ]
  },
  {
   "cell_type": "markdown",
   "id": "feaefec3",
   "metadata": {},
   "source": [
    "### Conclusions on Missing Values in the Products DataFrame\n",
    "- Missing values are concentrated in aisle 100 and department 21\n",
    "- Aisle and department marked as \"Unknown\" after processing\n",
    "- Systematic pattern suggests a possible data integration issue\n",
    "- This table does not provide access to the name of this aisle and department."
   ]
  },
  {
   "cell_type": "markdown",
   "id": "7eb45c86",
   "metadata": {
    "id": "7eb45c86"
   },
   "source": [
    "### `orders` DataFrame"
   ]
  },
  {
   "cell_type": "code",
   "execution_count": 26,
   "id": "93e41d96",
   "metadata": {
    "id": "93e41d96"
   },
   "outputs": [
    {
     "name": "stdout",
     "output_type": "stream",
     "text": [
      "Checking for missing values in the orders DataFrame:\n",
      "order_id                      0\n",
      "user_id                       0\n",
      "order_number                  0\n",
      "order_dow                     0\n",
      "order_hour_of_day             0\n",
      "days_since_prior_order    28817\n",
      "dtype: int64\n"
     ]
    }
   ],
   "source": [
    "# Analysis of missing values in the orders DataFrame\n",
    "print('Checking for missing values in the orders DataFrame:')\n",
    "print(df_orders.isna().sum())"
   ]
  },
  {
   "cell_type": "code",
   "execution_count": 27,
   "id": "166e5a86",
   "metadata": {
    "id": "166e5a86"
   },
   "outputs": [
    {
     "name": "stdout",
     "output_type": "stream",
     "text": [
      "Non-initial orders with missing values:\n",
      "Empty DataFrame\n",
      "Columns: [order_id, user_id, order_number, order_dow, order_hour_of_day, days_since_prior_order]\n",
      "Index: []\n"
     ]
    }
   ],
   "source": [
    "# Checking for missing values in non-initial orders\n",
    "order_without_customer = df_orders[(df_orders['days_since_prior_order'].isna()) & (df_orders['order_number'] > 1)]\n",
    "print('Non-initial orders with missing values:')\n",
    "print(order_without_customer)"
   ]
  },
  {
   "cell_type": "markdown",
   "id": "4e23d089",
   "metadata": {
    "id": "4e23d089"
   },
   "source": [
    "### Missing Values Analysis - Orders DataFrame\n",
    "- 28,817 missing values in 'days_since_prior_order'\n",
    "- Missing values appear only in first orders\n",
    "- Expected behavior since there is no previous order for first-time purchases"
   ]
  },
  {
   "cell_type": "markdown",
   "id": "69dc9ca4",
   "metadata": {
    "id": "69dc9ca4"
   },
   "source": [
    "### `order_products` DataFrame"
   ]
  },
  {
   "cell_type": "code",
   "execution_count": 28,
   "id": "b8240253",
   "metadata": {
    "id": "b8240253"
   },
   "outputs": [
    {
     "name": "stdout",
     "output_type": "stream",
     "text": [
      "Checking for missing values in the order_products DataFrame:\n",
      "order_id               0\n",
      "product_id             0\n",
      "add_to_cart_order    836\n",
      "reordered              0\n",
      "dtype: int64\n"
     ]
    }
   ],
   "source": [
    "# Analysis of missing values in the order_products DataFrame\n",
    "print('Checking for missing values in the order_products DataFrame:')\n",
    "print(df_order_products.isna().sum())"
   ]
  },
  {
   "cell_type": "code",
   "execution_count": 29,
   "id": "9a78e5ee",
   "metadata": {
    "id": "9a78e5ee"
   },
   "outputs": [
    {
     "name": "stdout",
     "output_type": "stream",
     "text": [
      "Minimum values in the \"add_to_cart_order\" column:\n",
      "1.0\n",
      "\n",
      "Maximum values in the \"add_to_cart_order\" column:\n",
      "64.0\n"
     ]
    }
   ],
   "source": [
    "# Analysis of values in the \"add_to_cart_order\" column\n",
    "print('Minimum values in the \"add_to_cart_order\" column:')\n",
    "print(df_order_products['add_to_cart_order'].min())\n",
    "print('\\nMaximum values in the \"add_to_cart_order\" column:')\n",
    "print(df_order_products['add_to_cart_order'].max())"
   ]
  },
  {
   "cell_type": "code",
   "execution_count": 30,
   "id": "ab9d0c2b",
   "metadata": {
    "id": "ab9d0c2b"
   },
   "outputs": [
    {
     "name": "stdout",
     "output_type": "stream",
     "text": [
      "Products with missing add-to-cart order:\n",
      "737         5068\n",
      "9926       43867\n",
      "14394      11688\n",
      "16418       4142\n",
      "30114      42828\n",
      "           ...  \n",
      "4505662     7411\n",
      "4511400      260\n",
      "4517562     9517\n",
      "4534112    17835\n",
      "4535739    17949\n",
      "Name: product_id, Length: 836, dtype: int64\n"
     ]
    }
   ],
   "source": [
    "# Checking for products with missing add-to-cart order\n",
    "missing_order_ids = df_order_products.loc[df_order_products['add_to_cart_order'].isna(), 'product_id']\n",
    "print('Products with missing add-to-cart order:')\n",
    "print(missing_order_ids)\n",
    "\n",
    "# Handling missing values\n",
    "df_order_products.fillna({'add_to_cart_order': 999}, inplace=True)\n",
    "df_order_products['add_to_cart_order'] = df_order_products['add_to_cart_order'].astype(int)"
   ]
  },
  {
   "cell_type": "markdown",
   "id": "p9V6pddtjglj",
   "metadata": {
    "id": "p9V6pddtjglj"
   },
   "source": [
    "### Missing Values Analysis - Order_Products DataFrame\n",
    "- 836 missing values in 'add_to_cart_order'\n",
    "- Add-to-cart order ranges from 1 to 64 products per order\n",
    "- Missing values replaced with 999 for identification in future analyses\n",
    "\n",
    "## General Conclusions on Data Processing\n",
    "1. **Missing Values**\n",
    "   - Identified and handled in three main DataFrames\n",
    "   - Specific treatments applied to each case\n",
    "   - Data traceability maintained after processing\n",
    "\n",
    "2. **Impact on Analysis**\n",
    "   - Data consistency preserved for future analyses\n",
    "   - Processing does not compromise relational integrity\n",
    "   - Substitute values chosen to facilitate identification"
   ]
  },
  {
   "cell_type": "markdown",
   "id": "UjrOIwTcz3ri",
   "metadata": {
    "id": "UjrOIwTcz3ri"
   },
   "source": [
    "# Step 3: Data Analysis\n",
    "\n",
    "## A. Basic Analysis\n",
    "\n",
    "### 1. Checking Values in Temporal Columns"
   ]
  },
  {
   "cell_type": "code",
   "execution_count": 31,
   "id": "growing-fruit",
   "metadata": {
    "id": "growing-fruit"
   },
   "outputs": [
    {
     "name": "stdout",
     "output_type": "stream",
     "text": [
      "Minimum value in the \"order_hour_of_day\" column: 0\n",
      "Maximum value in the \"order_hour_of_day\" column: 23\n"
     ]
    }
   ],
   "source": [
    "# Checking values in order_hour_of_day\n",
    "print('Minimum value in the \"order_hour_of_day\" column:', df_orders['order_hour_of_day'].min())\n",
    "print('Maximum value in the \"order_hour_of_day\" column:', df_orders['order_hour_of_day'].max())"
   ]
  },
  {
   "cell_type": "code",
   "execution_count": 32,
   "id": "accessory-malaysia",
   "metadata": {
    "id": "accessory-malaysia"
   },
   "outputs": [
    {
     "name": "stdout",
     "output_type": "stream",
     "text": [
      "Minimum value in the \"order_dow\" column: 0\n",
      "Maximum value in the \"order_dow\" column: 6\n"
     ]
    }
   ],
   "source": [
    "# Checking values in order_dow\n",
    "print('Minimum value in the \"order_dow\" column:', df_orders['order_dow'].min())\n",
    "print('Maximum value in the \"order_dow\" column:', df_orders['order_dow'].max())"
   ]
  },
  {
   "cell_type": "markdown",
   "id": "hmR2GNQ6lCsX",
   "metadata": {
    "id": "hmR2GNQ6lCsX"
   },
   "source": [
    "### Temporal Data Analysis\n",
    "- Hours of the day: range from 0 to 23 (24-hour format)\n",
    "- Days of the week: range from 0 to 6 (Sunday to Saturday)\n",
    "- Temporal data is consistent and within expected ranges"
   ]
  },
  {
   "cell_type": "markdown",
   "id": "a6743a70",
   "metadata": {
    "id": "a6743a70"
   },
   "source": [
    "### [A2] How many people place orders at each hour of the day?"
   ]
  },
  {
   "cell_type": "code",
   "execution_count": 33,
   "id": "a36cca27",
   "metadata": {
    "id": "a36cca27"
   },
   "outputs": [
    {
     "data": {
      "image/png": "[encoded data removed]",
      "text/plain": [
       "<Figure size 1000x600 with 1 Axes>"
      ]
     },
     "metadata": {},
     "output_type": "display_data"
    }
   ],
   "source": [
    "# Analysis of orders by hour of the day\n",
    "customers_per_hour = df_orders.groupby('order_hour_of_day')['user_id'].nunique()\n",
    "\n",
    "# Visualization using a bar chart\n",
    "plt.figure(figsize=(10, 6))\n",
    "plt.bar(customers_per_hour.index, customers_per_hour.values, color='skyblue', edgecolor='black')\n",
    "plt.title('Number of Users per Hour of the Day')\n",
    "plt.xlabel('Hour of the Day (0-23)')\n",
    "plt.ylabel('Number of Users')\n",
    "plt.grid(True, alpha=0.3)\n",
    "plt.show()"
   ]
  },
  {
   "cell_type": "markdown",
   "id": "11270eed",
   "metadata": {
    "id": "11270eed"
   },
   "source": [
    "### Analysis of the \"Number of Users per Hour of the Day\" Chart:\n",
    "\n",
    "- The peak sales period is between 10 AM and 3 PM.\n",
    "- The day of the week with the highest number of purchases is Sunday.\n",
    "- Most users take 30 days to make a new purchase."
   ]
  },
  {
   "cell_type": "markdown",
   "id": "documented-command",
   "metadata": {
    "id": "documented-command"
   },
   "source": [
    "### [A3] On which day of the week do people shop?"
   ]
  },
  {
   "cell_type": "code",
   "execution_count": 35,
   "id": "chief-digit",
   "metadata": {
    "id": "chief-digit"
   },
   "outputs": [
    {
     "data": {
      "image/png": "[encoded data removed]",
      "text/plain": [
       "<Figure size 1000x600 with 1 Axes>"
      ]
     },
     "metadata": {},
     "output_type": "display_data"
    }
   ],
   "source": [
    "# Analysis of orders by day of the week\n",
    "customers_per_weekday = df_orders.groupby('order_dow')['user_id'].nunique()\n",
    "\n",
    "# Visualization using a bar chart\n",
    "plt.figure(figsize=(10, 6))\n",
    "plt.bar(customers_per_weekday.index, customers_per_weekday.values, color='skyblue', edgecolor='black')\n",
    "plt.title('Number of Users per Day of the Week')\n",
    "plt.xlabel('Day of the Week (0=Sunday)')\n",
    "plt.ylabel('Number of Users')\n",
    "plt.grid(True, alpha=0.3)\n",
    "plt.show()"
   ]
  },
  {
   "cell_type": "markdown",
   "id": "dominant-lightning",
   "metadata": {
    "id": "dominant-lightning"
   },
   "source": [
    "### Analysis of the \"Number of Users per Day of the Week\" Chart:\n",
    "- The day with the highest number of purchases is Sunday."
   ]
  },
  {
   "cell_type": "markdown",
   "id": "cutting-concert",
   "metadata": {
    "id": "cutting-concert"
   },
   "source": [
    "### [A4] How long do people wait before placing another order?"
   ]
  },
  {
   "cell_type": "code",
   "execution_count": 36,
   "id": "gMOIimGd5VNb",
   "metadata": {
    "id": "gMOIimGd5VNb"
   },
   "outputs": [
    {
     "data": {
      "image/png": "[encoded data removed]",
      "text/plain": [
       "<Figure size 1000x600 with 1 Axes>"
      ]
     },
     "metadata": {},
     "output_type": "display_data"
    }
   ],
   "source": [
    "# Analysis of time between orders\n",
    "wait_until_next_purchase = df_orders.groupby('days_since_prior_order')['user_id'].nunique()\n",
    "\n",
    "# Visualization using a bar chart\n",
    "plt.figure(figsize=(10, 6))\n",
    "plt.bar(wait_until_next_purchase.index, wait_until_next_purchase.values, color='skyblue', edgecolor='black')\n",
    "plt.title('Time Between Orders')\n",
    "plt.xlabel('Days Until Next Order')\n",
    "plt.ylabel('Number of Users')\n",
    "plt.grid(True, alpha=0.3)\n",
    "plt.show()"
   ]
  },
  {
   "cell_type": "markdown",
   "id": "a4abd0d5-1748-4682-902b-98bc93099f6a",
   "metadata": {},
   "source": [
    "## Basic Analysis Conclusions\n",
    "\n",
    "1. **Temporal Patterns**\n",
    "   - Peak order time between 10 AM and 3 PM\n",
    "   - Highest volume on Sundays\n",
    "   - Most users place a new order within 30 days\n",
    "\n",
    "2. **Operational Insights**\n",
    "   - Need for increased operational capacity during peak hours\n",
    "   - Special planning for Sundays\n",
    "   - Opportunity to encourage repurchases before 30 days"
   ]
  },
  {
   "cell_type": "markdown",
   "id": "tight-staff",
   "metadata": {
    "id": "tight-staff"
   },
   "source": [
    "## B. Intermediate Analysis\n",
    "\n",
    "### 1. Comparison of Orders Between Wednesdays and Saturdays"
   ]
  },
  {
   "cell_type": "code",
   "execution_count": 37,
   "id": "d89b8403",
   "metadata": {
    "id": "d89b8403"
   },
   "outputs": [
    {
     "data": {
      "image/png": "[encoded data removed]",
      "text/plain": [
       "<Figure size 2000x600 with 2 Axes>"
      ]
     },
     "metadata": {},
     "output_type": "display_data"
    }
   ],
   "source": [
    "# Filter data for Wednesdays (order_dow = 3)\n",
    "wednesday_orders = df_orders[df_orders['order_dow'] == 3]\n",
    "wednesday_orders_per_hour = wednesday_orders.groupby('order_hour_of_day')['order_id'].count()\n",
    "\n",
    "# Filter data for Saturdays (order_dow = 6)\n",
    "saturday_orders = df_orders[df_orders['order_dow'] == 6]\n",
    "saturday_orders_per_hour = saturday_orders.groupby('order_hour_of_day')['order_id'].count()\n",
    "\n",
    "# Create comparative charts\n",
    "fig, ax = plt.subplots(1, 2, figsize=(20, 6))\n",
    "\n",
    "# Wednesday orders chart\n",
    "df_wednesday = pd.DataFrame({'Hour of the Day': wednesday_orders_per_hour.index, \n",
    "                             'Number of Orders': wednesday_orders_per_hour.values})\n",
    "df_wednesday.plot(ax=ax[0], x='Hour of the Day', y='Number of Orders',\n",
    "                  title='Orders per Hour on Wednesdays',\n",
    "                  kind='bar', xlabel='Hour of the Day (0-23)',\n",
    "                  ylabel='Number of Orders', grid=True)\n",
    "ax[0].set_xticklabels(df_wednesday['Hour of the Day'], rotation=0)\n",
    "\n",
    "# Saturday orders chart\n",
    "df_saturday = pd.DataFrame({'Hour of the Day': saturday_orders_per_hour.index,\n",
    "                             'Number of Orders': saturday_orders_per_hour.values})\n",
    "df_saturday.plot(ax=ax[1], x='Hour of the Day', y='Number of Orders',\n",
    "                 title='Orders per Hour on Saturdays',\n",
    "                 kind='bar', xlabel='Hour of the Day (0-23)',\n",
    "                 ylabel='Number of Orders', grid=True)\n",
    "ax[1].set_xticklabels(df_saturday['Hour of the Day'], rotation=0)\n",
    "\n",
    "plt.tight_layout()\n",
    "plt.show()"
   ]
  },
  {
   "cell_type": "markdown",
   "id": "charitable-congo",
   "metadata": {
    "id": "charitable-congo"
   },
   "source": [
    "### Comparative Analysis: Wednesday vs. Saturday\n",
    "- Wednesdays: More pronounced peak of orders during business hours\n",
    "- Saturdays: More evenly distributed orders throughout the day\n",
    "- The difference reflects distinct behavioral patterns between weekdays and weekends"
   ]
  },
  {
   "cell_type": "markdown",
   "id": "e3891143",
   "metadata": {
    "id": "e3891143"
   },
   "source": [
    "### What is the distribution of the number of orders per customer?"
   ]
  },
  {
   "cell_type": "code",
   "execution_count": 38,
   "id": "d8c26c23",
   "metadata": {
    "id": "d8c26c23"
   },
   "outputs": [
    {
     "data": {
      "image/png": "[encoded data removed]",
      "text/plain": [
       "<Figure size 1000x600 with 1 Axes>"
      ]
     },
     "metadata": {},
     "output_type": "display_data"
    }
   ],
   "source": [
    "# Analysis of order distribution per customer\n",
    "orders_per_customer = df_orders.groupby('user_id').size()\n",
    "\n",
    "# Visualization of the distribution\n",
    "plt.figure(figsize=(10, 6))\n",
    "plt.hist(orders_per_customer, bins=range(1, orders_per_customer.max()+1), \n",
    "         color='skyblue', edgecolor='black')\n",
    "plt.title('Distribution of Number of Orders per Customer')\n",
    "plt.xlabel('Number of Orders')\n",
    "plt.ylabel('Number of Users')\n",
    "plt.grid(True)\n",
    "plt.axvline(x=5, color='red', linestyle='--', label='1-5 orders')\n",
    "plt.axvline(x=10, color='yellow', linestyle='--', label='5-10 orders')\n",
    "plt.axvline(x=15, color='green', linestyle='--', label='10-15 orders')\n",
    "plt.legend()\n",
    "plt.show()"
   ]
  },
  {
   "cell_type": "markdown",
   "id": "d2eff7d5",
   "metadata": {
    "id": "d2eff7d5"
   },
   "source": [
    "### Analysis of the \"Distribution of Number of Orders per Customer\" Chart\n",
    "\n",
    "- Customers with a single order represent the largest individual category, with 55,357 users. This number suggests that many customers may have tried the service or product once but did not return. This could be due to an effective first-purchase strategy, but it also indicates that the company needs to improve customer retention, as there is a sharp decline in purchase frequency. As the number of orders increases, the number of users in each category drops significantly.\n",
    "- There is a very small number of users with a high number of orders (26 to 28 orders), which may indicate highly loyal customers or possibly bulk buyers. These customers are extremely valuable and could be the focus of loyalty programs or special offers to maintain their engagement.\n",
    "- The range of 1 to 5 orders has the highest concentration of customers. After this range, there is a noticeable decline in subsequent intervals, making it evident that very few customers place recurring orders beyond their 28th purchase."
   ]
  },
  {
   "cell_type": "markdown",
   "id": "54a0319c",
   "metadata": {
    "id": "54a0319c"
   },
   "source": [
    "### What are the 20 most popular products? Display their IDs and names."
   ]
  },
  {
   "cell_type": "code",
   "execution_count": 39,
   "id": "exterior-arizona",
   "metadata": {
    "id": "exterior-arizona",
    "scrolled": true
   },
   "outputs": [
    {
     "name": "stdout",
     "output_type": "stream",
     "text": [
      "Top 20 Best-Selling Products:\n",
      "    product_id              product_name  order_count\n",
      "0        24852                    Banana        66050\n",
      "1        13176    Bag of Organic Bananas        53297\n",
      "2        21137      Organic Strawberries        37039\n",
      "3        21903      Organic Baby Spinach        33971\n",
      "4        47209      Organic Hass Avocado        29773\n",
      "5        47766           Organic Avocado        24689\n",
      "6        47626               Large Lemon        21495\n",
      "7        16797              Strawberries        20018\n",
      "8        26209                     Limes        19690\n",
      "9        27845        Organic Whole Milk        19600\n",
      "10       27966       Organic Raspberries        19197\n",
      "11       22935      Organic Yellow Onion        15898\n",
      "12       24964            Organic Garlic        15292\n",
      "13       45007          Organic Zucchini        14584\n",
      "14       39275       Organic Blueberries        13879\n",
      "15       49683            Cucumber Kirby        13675\n",
      "16       28204        Organic Fuji Apple        12544\n",
      "17        5876             Organic Lemon        12232\n",
      "18        8277  Apple Honeycrisp Organic        11993\n",
      "19       40706    Organic Grape Tomatoes        11781\n"
     ]
    }
   ],
   "source": [
    "# Analysis of the 20 most frequently ordered products\n",
    "product_counts = df_order_products['product_id'].value_counts()\n",
    "product_counts_df = pd.DataFrame({'product_id': product_counts.index, \n",
    "                                  'order_count': product_counts.values})\n",
    "merged_data = pd.merge(product_counts_df, df_products, on='product_id')\n",
    "top_selling_products = merged_data.sort_values(by='order_count', ascending=False).head(20)\n",
    "\n",
    "print('Top 20 Best-Selling Products:')\n",
    "print(top_selling_products[['product_id', 'product_name', 'order_count']])"
   ]
  },
  {
   "cell_type": "markdown",
   "id": "7df00f47",
   "metadata": {
    "id": "7df00f47"
   },
   "source": [
    "## Intermediate Analysis Conclusions\n",
    "\n",
    "1. **Purchase Patterns**\n",
    "   - Most customers place between 1-5 orders\n",
    "   - Sharp decline after 5 orders\n",
    "   - Small group of highly active customers (>15 orders)\n",
    "\n",
    "2. **Popular Products**\n",
    "   - Organic products dominate the ranking\n",
    "   - Fruits and vegetables are the most frequent categories\n",
    "   - Bananas lead in the number of orders\n",
    "\n",
    "3. **Business Insights**\n",
    "   - Opportunity to improve retention after initial purchases\n",
    "   - Potential for targeted strategies on different days\n",
    "   - Focus on organic products as a competitive advantage"
   ]
  },
  {
   "cell_type": "markdown",
   "id": "gross-theme",
   "metadata": {
    "id": "gross-theme"
   },
   "source": [
    "## C. Advanced Analysis\n",
    "\n",
    "### 1. Distribution of Items per Order"
   ]
  },
  {
   "cell_type": "markdown",
   "id": "romantic-deposit",
   "metadata": {
    "id": "romantic-deposit"
   },
   "source": [
    "### How many items do people typically buy in an order? What does the distribution look like?"
   ]
  },
  {
   "cell_type": "code",
   "execution_count": 40,
   "id": "virtual-punch",
   "metadata": {
    "id": "virtual-punch"
   },
   "outputs": [
    {
     "name": "stdout",
     "output_type": "stream",
     "text": [
      "Statistics of Items per Order:\n",
      "count    450046.000000\n",
      "mean         10.098983\n",
      "std           7.540206\n",
      "min           1.000000\n",
      "25%           5.000000\n",
      "50%           8.000000\n",
      "75%          14.000000\n",
      "max         127.000000\n",
      "dtype: float64\n"
     ]
    },
    {
     "data": {
      "image/png": "[encoded data removed]",
      "text/plain": [
       "<Figure size 1000x600 with 1 Axes>"
      ]
     },
     "metadata": {},
     "output_type": "display_data"
    }
   ],
   "source": [
    "# Count of items per order\n",
    "items_per_order = df_order_products.groupby('order_id').size()\n",
    "\n",
    "# Descriptive statistics\n",
    "print('Statistics of Items per Order:')\n",
    "print(items_per_order.describe())\n",
    "\n",
    "# Visualization of the distribution\n",
    "plt.figure(figsize=(10, 6))\n",
    "plt.hist(items_per_order, bins=range(1, 51), edgecolor='black', color='skyblue')\n",
    "plt.title('Distribution of Number of Items per Order')\n",
    "plt.xlabel('Number of Items per Order')\n",
    "plt.ylabel('Frequency')\n",
    "plt.grid(True)\n",
    "plt.xlim(0, 50)\n",
    "plt.show()"
   ]
  },
  {
   "cell_type": "markdown",
   "id": "designed-mortality",
   "metadata": {
    "id": "designed-mortality"
   },
   "source": [
    "### Analysis of Item Distribution\n",
    "- Average of 10 items per order\n",
    "- 50% of orders contain between 5 and 14 items\n",
    "- Maximum of 127 items in a single order"
   ]
  },
  {
   "cell_type": "markdown",
   "id": "5e6b5537",
   "metadata": {
    "id": "5e6b5537"
   },
   "source": [
    "### What are the top 20 most frequently included items in repeat orders? Display their IDs and names."
   ]
  },
  {
   "cell_type": "code",
   "execution_count": 41,
   "id": "9374e55a",
   "metadata": {
    "id": "9374e55a"
   },
   "outputs": [
    {
     "name": "stdout",
     "output_type": "stream",
     "text": [
      "Top 20 Most Reordered Products:\n",
      "       product_id              product_name  reorder_count\n",
      "18104       24852                    Banana          55763\n",
      "9528        13176    Bag of Organic Bananas          44450\n",
      "15368       21137      Organic Strawberries          28639\n",
      "15936       21903      Organic Baby Spinach          26233\n",
      "34407       47209      Organic Hass Avocado          23629\n",
      "34828       47766           Organic Avocado          18743\n",
      "20285       27845        Organic Whole Milk          16251\n",
      "34725       47626               Large Lemon          15044\n",
      "20375       27966       Organic Raspberries          14748\n",
      "12193       16797              Strawberries          13945\n",
      "19088       26209                     Limes          13327\n",
      "16700       22935      Organic Yellow Onion          11145\n",
      "18186       24964            Organic Garlic          10411\n",
      "32792       45007          Organic Zucchini          10076\n",
      "36219       49683            Cucumber Kirby           9538\n",
      "20543       28204        Organic Fuji Apple           8989\n",
      "5978         8277  Apple Honeycrisp Organic           8836\n",
      "28607       39275       Organic Blueberries           8799\n",
      "4267         5876             Organic Lemon           8412\n",
      "35905       49235       Organic Half & Half           8389\n"
     ]
    }
   ],
   "source": [
    "# Analysis of products in repeat orders\n",
    "reordered_items = df_order_products[df_order_products['reordered'] == 1]\n",
    "reorder_count = reordered_items.groupby('product_id').size()\n",
    "reorder_count_df = pd.DataFrame({'product_id': reorder_count.index, \n",
    "                                 'reorder_count': reorder_count.values})\n",
    "merged_dfs = pd.merge(reorder_count_df, df_products, on='product_id')\n",
    "sorted_merged_dfs = merged_dfs.sort_values(by='reorder_count', \n",
    "                                           ascending=False).head(20)\n",
    "\n",
    "print('Top 20 Most Reordered Products:')\n",
    "print(sorted_merged_dfs[['product_id', 'product_name', 'reorder_count']])"
   ]
  },
  {
   "cell_type": "markdown",
   "id": "ccfe48e0-6089-4461-b90b-1f5b7898234c",
   "metadata": {},
   "source": [
    "### Analysis of the Most Reordered Products\n",
    "- Bananas (both organic and conventional) lead by a wide margin\n",
    "- Organic products dominate the list, occupying 13 out of 20 positions\n",
    "- Fruits and vegetables are the most representative categories\n",
    "- The pattern suggests a strong focus on fresh and healthy products\n",
    "- Reorder quantities are significant, ranging from 8,389 to 55,763 orders"
   ]
  },
  {
   "cell_type": "markdown",
   "id": "9d312b14",
   "metadata": {
    "id": "9d312b14"
   },
   "source": [
    "### [C3] For each product, what percentage of all its orders are repeat purchases?"
   ]
  },
  {
   "cell_type": "code",
   "execution_count": 42,
   "id": "8ae9f4b1",
   "metadata": {
    "id": "8ae9f4b1"
   },
   "outputs": [
    {
     "name": "stdout",
     "output_type": "stream",
     "text": [
      "\n",
      "Products with the Highest Reorder Rate:\n",
      "       product_id                                       product_name  \\\n",
      "13453       14721                            Bone Strength Take Care   \n",
      "19195       20949                           Vanilla Sandwich Cookies   \n",
      "6136         6723                                   Palmiers- Petite   \n",
      "6144         6732                  Naturally Sparkling Mineral Water   \n",
      "41319       45088  California Dill Pollen & Garlic Goat Cheese & ...   \n",
      "41310       45078                                       Pomegranatea   \n",
      "19258       21016       Parchment Lined 8 in x 3.75 in x 2.5 in Pans   \n",
      "19248       21005                        Peanut Butter Pie Ice Cream   \n",
      "32273       35192                         Chocolate Soy Milk Singles   \n",
      "32277       35197  Mocha Chocolate Chip  Organic Non-Dairy Frozen...   \n",
      "6211         6810                        Raspberry Goji Paleo Prints   \n",
      "41274       45040                                 Head Lock Mega Gel   \n",
      "41269       45035                               Coffee Flavor Yogurt   \n",
      "25120       27373                                     Meat Loaf Meal   \n",
      "28203       30748                           Cheese & Garlic Croutons   \n",
      "41265       45031                 Sugar Free Hazelnut Coffee Creamer   \n",
      "32224       35137  Superior Preference Fade-Defying Color + Shine...   \n",
      "28202       30747                   Dentotape® Unflavored Waxed Tape   \n",
      "32304       35228                       Marvelous Muffins Baking Mix   \n",
      "32305       35229                             Bean & Cheese Burritos   \n",
      "\n",
      "       reorder_ratio  \n",
      "13453            1.0  \n",
      "19195            1.0  \n",
      "6136             1.0  \n",
      "6144             1.0  \n",
      "41319            1.0  \n",
      "41310            1.0  \n",
      "19258            1.0  \n",
      "19248            1.0  \n",
      "32273            1.0  \n",
      "32277            1.0  \n",
      "6211             1.0  \n",
      "41274            1.0  \n",
      "41269            1.0  \n",
      "25120            1.0  \n",
      "28203            1.0  \n",
      "41265            1.0  \n",
      "32224            1.0  \n",
      "28202            1.0  \n",
      "32304            1.0  \n",
      "32305            1.0  \n"
     ]
    }
   ],
   "source": [
    "# Analysis of the reorder proportion per product\n",
    "reorder_percentage = df_order_products.groupby('product_id')['reordered'].mean().reset_index()\n",
    "reorder_percentage.rename(columns={'reordered': 'reorder_ratio'}, inplace=True)\n",
    "reorder_names = pd.merge(reorder_percentage, df_products, on='product_id')\n",
    "reorder_names = reorder_names.sort_values(by='reorder_ratio', ascending=False)\n",
    "\n",
    "print('\\nProducts with the Highest Reorder Rate:')\n",
    "print(reorder_names[['product_id', 'product_name', 'reorder_ratio']].head(20))"
   ]
  },
  {
   "cell_type": "markdown",
   "id": "3424d8f7-c45c-4b2d-9858-51bfb85ad117",
   "metadata": {
    "id": "103e7fe1"
   },
   "source": [
    "### Analysis of Reorder Rates\n",
    "- 20 products have a 100% reorder rate\n",
    "- More diverse list, including:\n",
    "  - Supplements (Bone Strength)\n",
    "  - Convenience products (Cookies, Baking Mix)\n",
    "  - Specific products (Dental Tape, Hair Color)\n",
    "  - Specialty foods (Non-Dairy, Sugar-Free)\n",
    "- More niche products compared to the highest-volume reorders\n",
    "- Indicates strong customer loyalty in specific categories"
   ]
  },
  {
   "cell_type": "markdown",
   "id": "TisH_5Cp3wAi",
   "metadata": {
    "id": "TisH_5Cp3wAi"
   },
   "source": [
    "# General Project Conclusion:"
   ]
  },
  {
   "cell_type": "markdown",
   "id": "8a3b1824-28ef-4b71-9f3d-981ab28cce8c",
   "metadata": {
    "id": "Nk-4GS7mDwqY"
   },
   "source": [
    "I decided to break my conclusions into topics, and they are as follows:\n",
    "\n",
    "## Key Findings\n",
    "\n",
    "1. **Temporal Patterns**\n",
    "   - Peak order time between 10 AM and 3 PM\n",
    "   - Highest volume on Sundays\n",
    "   - Distinct patterns between weekdays and weekends\n",
    "   - Most users return within 30 days\n",
    "\n",
    "2. **Shopping Behavior**\n",
    "   - Average of 10 items per order\n",
    "   - Most customers place between 1-5 orders\n",
    "   - Orders are concentrated between 5-14 items\n",
    "   - Small group of highly active customers\n",
    "\n",
    "3. **Products and Categories**\n",
    "   - Organic products dominate sales\n",
    "   - Bananas are the best-selling item\n",
    "   - Fresh products lead in volume\n",
    "   - Specific niches show high customer loyalty\n",
    "\n",
    "## Strategic Recommendations\n",
    "\n",
    "1. **Operations**\n",
    "   - Optimize capacity for peak hours\n",
    "   - Special planning for Sundays\n",
    "   - Adjust staffing according to weekly patterns\n",
    "\n",
    "2. **Marketing**\n",
    "   - Develop a loyalty program\n",
    "   - Focus on retention after initial purchases\n",
    "   - Targeted promotions for organic products\n",
    "   - Different strategies for weekdays and weekends\n",
    "\n",
    "3. **Product**\n",
    "   - Maintain a focus on fresh and organic products\n",
    "   - Develop offers for specific niches\n",
    "   - Consider pre-packaged essential baskets\n",
    "   - Ensure availability of the most reordered products\n",
    "\n",
    "# Thank you for your attention! I hope this helps your journey through the world of data!"
   ]
  },
  {
   "cell_type": "code",
   "execution_count": null,
   "id": "9ff0db91-d925-404c-83c0-ee2b55c1c3a6",
   "metadata": {},
   "outputs": [],
   "source": []
  }
 ],
 "metadata": {
  "colab": {
   "provenance": []
  },
  "kernelspec": {
   "display_name": "Python 3 (ipykernel)",
   "language": "python",
   "name": "python3"
  },
  "language_info": {
   "codemirror_mode": {
    "name": "ipython",
    "version": 3
   },
   "file_extension": ".py",
   "mimetype": "text/x-python",
   "name": "python",
   "nbconvert_exporter": "python",
   "pygments_lexer": "ipython3",
   "version": "3.12.7"
  },
  "toc": {
   "base_numbering": 1,
   "nav_menu": {
    "height": "127px",
    "width": "176px"
   },
   "number_sections": true,
   "sideBar": true,
   "skip_h1_title": true,
   "title_cell": "Table of Contents",
   "title_sidebar": "Contents",
   "toc_cell": false,
   "toc_position": {},
   "toc_section_display": true,
   "toc_window_display": false
  },
  "vscode": {
   "interpreter": {
    "hash": "01a7be9ec63e704a62cefc5fe7a4756944464ee731be31632bdf42a4cb4688cf"
   }
  }
 },
 "nbformat": 4,
 "nbformat_minor": 5
}
